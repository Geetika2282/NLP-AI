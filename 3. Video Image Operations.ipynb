{
 "cells": [
  {
   "cell_type": "code",
   "execution_count": 1,
   "id": "11276b23-1190-43e3-aa51-81879d390134",
   "metadata": {},
   "outputs": [],
   "source": [
    "import cv2\n",
    "import matplotlib.pyplot as plt"
   ]
  },
  {
   "cell_type": "code",
   "execution_count": 2,
   "id": "6627e767-a494-48df-94c2-5e9299d5c2e7",
   "metadata": {},
   "outputs": [],
   "source": [
    "# load the video\n",
    "vid = cv2.VideoCapture('images/nature.mp4')"
   ]
  },
  {
   "cell_type": "code",
   "execution_count": 3,
   "id": "41664675-f00f-4a22-95de-a23056a8a6e0",
   "metadata": {},
   "outputs": [],
   "source": [
    "ret , frame = vid.read()"
   ]
  },
  {
   "cell_type": "code",
   "execution_count": 4,
   "id": "e2c62752-282e-4f97-82b8-7a03b6de844e",
   "metadata": {},
   "outputs": [
    {
     "data": {
      "text/plain": [
       "True"
      ]
     },
     "execution_count": 4,
     "metadata": {},
     "output_type": "execute_result"
    }
   ],
   "source": [
    "ret # To check whether the video is available or not when it returns false video is ended"
   ]
  },
  {
   "cell_type": "code",
   "execution_count": 5,
   "id": "676bbde6-f89b-4ea2-8109-b22a1ae028cc",
   "metadata": {},
   "outputs": [],
   "source": [
    "cv2.imshow('Frame',frame)\n",
    "cv2.waitKey(0)\n",
    "cv2.destroyAllWindows()"
   ]
  },
  {
   "cell_type": "code",
   "execution_count": 6,
   "id": "e9be785c-a8bb-4b38-bf76-7600fc3fb4e8",
   "metadata": {},
   "outputs": [
    {
     "data": {
      "text/plain": [
       "(720, 1270, 3)"
      ]
     },
     "execution_count": 6,
     "metadata": {},
     "output_type": "execute_result"
    }
   ],
   "source": [
    "frame.shape"
   ]
  },
  {
   "cell_type": "code",
   "execution_count": 7,
   "id": "cf5b3911-00f9-480d-a240-d8932be3c19c",
   "metadata": {},
   "outputs": [
    {
     "data": {
      "text/plain": [
       "array([[[ 48,  49,  44],\n",
       "        [ 41,  42,  37],\n",
       "        [ 38,  39,  34],\n",
       "        ...,\n",
       "        [255, 255, 255],\n",
       "        [255, 255, 255],\n",
       "        [255, 255, 255]],\n",
       "\n",
       "       [[ 43,  44,  39],\n",
       "        [ 37,  38,  33],\n",
       "        [ 32,  33,  28],\n",
       "        ...,\n",
       "        [255, 255, 255],\n",
       "        [255, 255, 255],\n",
       "        [255, 255, 255]],\n",
       "\n",
       "       [[ 40,  41,  36],\n",
       "        [ 36,  37,  32],\n",
       "        [ 30,  31,  26],\n",
       "        ...,\n",
       "        [255, 255, 255],\n",
       "        [255, 255, 255],\n",
       "        [255, 255, 255]],\n",
       "\n",
       "       ...,\n",
       "\n",
       "       [[ 32,  31,  25],\n",
       "        [ 26,  25,  19],\n",
       "        [ 26,  25,  19],\n",
       "        ...,\n",
       "        [ 27,  23,  19],\n",
       "        [ 27,  23,  19],\n",
       "        [ 28,  24,  20]],\n",
       "\n",
       "       [[ 32,  31,  25],\n",
       "        [ 26,  25,  19],\n",
       "        [ 26,  25,  19],\n",
       "        ...,\n",
       "        [ 27,  23,  19],\n",
       "        [ 27,  23,  19],\n",
       "        [ 28,  24,  20]],\n",
       "\n",
       "       [[ 32,  31,  25],\n",
       "        [ 26,  25,  19],\n",
       "        [ 26,  25,  19],\n",
       "        ...,\n",
       "        [ 27,  23,  19],\n",
       "        [ 27,  23,  19],\n",
       "        [ 28,  24,  20]]], dtype=uint8)"
      ]
     },
     "execution_count": 7,
     "metadata": {},
     "output_type": "execute_result"
    }
   ],
   "source": [
    "frame"
   ]
  },
  {
   "cell_type": "code",
   "execution_count": 8,
   "id": "f1421d0f-624e-4cbe-8bc3-455a3cad1f29",
   "metadata": {},
   "outputs": [],
   "source": [
    "# To check width, heigth, frames and frames per second(fps)\n",
    "width = int(vid.get(cv2.CAP_PROP_FRAME_WIDTH))\n",
    "heigth = int(vid.get(cv2.CAP_PROP_FRAME_HEIGHT))\n",
    "frames = int(vid.get(cv2.CAP_PROP_FRAME_COUNT))\n",
    "fps = int(vid.get(cv2.CAP_PROP_FPS))"
   ]
  },
  {
   "cell_type": "code",
   "execution_count": 9,
   "id": "98634bf8-9398-4cb4-a839-1329a1630429",
   "metadata": {},
   "outputs": [
    {
     "name": "stdout",
     "output_type": "stream",
     "text": [
      "Video Resolution:  (720, 1270)\n",
      "Total Frames:  1409\n",
      "FPS:  26\n"
     ]
    }
   ],
   "source": [
    "print('Video Resolution: ',(heigth,width))\n",
    "print('Total Frames: ',frames)\n",
    "print('FPS: ',fps)"
   ]
  },
  {
   "cell_type": "code",
   "execution_count": 10,
   "id": "9a240e5a-8c50-4193-a163-029a2953f163",
   "metadata": {},
   "outputs": [
    {
     "data": {
      "text/plain": [
       "54.19230769230769"
      ]
     },
     "execution_count": 10,
     "metadata": {},
     "output_type": "execute_result"
    }
   ],
   "source": [
    "time = frames / fps\n",
    "time"
   ]
  },
  {
   "cell_type": "code",
   "execution_count": 13,
   "id": "3cc8d0eb-3c00-4ef1-b5b2-c4ccc11902cc",
   "metadata": {},
   "outputs": [],
   "source": [
    "# To show the video frame by frame\n",
    "vid = cv2.VideoCapture('images/nature.mp4')\n",
    "count = 1\n",
    "while True:\n",
    "    ret , frame = vid.read()\n",
    "    if not ret: # if ret false the video ends so we ended \n",
    "        break\n",
    "    cv2.imwrite('video_images/%d.jpg'%count,frame)\n",
    "    count+=1\n",
    "cv2.destroyAllWindows()    \n",
    "\n",
    "    "
   ]
  },
  {
   "cell_type": "code",
   "execution_count": 14,
   "id": "b97d44b8-e4f6-4718-826b-482e72d4ec54",
   "metadata": {},
   "outputs": [],
   "source": [
    "# To extract image at particular time\n",
    "times = '00:00:35.00'"
   ]
  },
  {
   "cell_type": "code",
   "execution_count": 15,
   "id": "1c9c8659-f521-40ed-b52c-b509d7ed52e6",
   "metadata": {},
   "outputs": [],
   "source": [
    "hrs, mins, secs = times.split(':')"
   ]
  },
  {
   "cell_type": "code",
   "execution_count": 16,
   "id": "7e1837b2-30b0-41c3-a55f-3144841d2caa",
   "metadata": {},
   "outputs": [],
   "source": [
    "trigger_frame = int(hrs) * 3600 * fps + int(mins) * 60 * fps + float(secs) * fps"
   ]
  },
  {
   "cell_type": "code",
   "execution_count": 18,
   "id": "54deaf87-95e1-4439-ba0a-460d7de4a269",
   "metadata": {},
   "outputs": [
    {
     "data": {
      "text/plain": [
       "910.0"
      ]
     },
     "execution_count": 18,
     "metadata": {},
     "output_type": "execute_result"
    }
   ],
   "source": [
    "trigger_frame # frame number at 35sec"
   ]
  },
  {
   "cell_type": "code",
   "execution_count": 19,
   "id": "af344999-27fa-4b33-825e-b5c896c279e8",
   "metadata": {},
   "outputs": [
    {
     "name": "stdout",
     "output_type": "stream",
     "text": [
      "Help on built-in function set:\n",
      "\n",
      "set(...) method of cv2.VideoCapture instance\n",
      "    set(propId, value) -> retval\n",
      "    .   @brief Sets a property in the VideoCapture.\n",
      "    .\n",
      "    .       @param propId Property identifier from cv::VideoCaptureProperties (eg. cv::CAP_PROP_POS_MSEC, cv::CAP_PROP_POS_FRAMES, ...)\n",
      "    .       or one from @ref videoio_flags_others\n",
      "    .       @param value Value of the property.\n",
      "    .       @return `true` if the property is supported by backend used by the VideoCapture instance.\n",
      "    .       @note Even if it returns `true` this doesn't ensure that the property\n",
      "    .       value has been accepted by the capture device. See note in VideoCapture::get()\n",
      "\n"
     ]
    }
   ],
   "source": [
    "help(vid.set)"
   ]
  },
  {
   "cell_type": "code",
   "execution_count": 20,
   "id": "c3386a52-c833-4e66-bf22-7e837f83b4bc",
   "metadata": {},
   "outputs": [
    {
     "data": {
      "text/plain": [
       "True"
      ]
     },
     "execution_count": 20,
     "metadata": {},
     "output_type": "execute_result"
    }
   ],
   "source": [
    "vid.set(1,trigger_frame)"
   ]
  },
  {
   "cell_type": "code",
   "execution_count": 21,
   "id": "b62afbd7-465c-42af-ac38-e928eb6c918e",
   "metadata": {},
   "outputs": [],
   "source": [
    "ret , frame = vid.read()\n",
    "cv2.imshow('Frame',frame)\n",
    "cv2.waitKey(0)\n",
    "cv2.destroyAllWindows()"
   ]
  },
  {
   "cell_type": "code",
   "execution_count": 27,
   "id": "becca9cf-a099-418e-b6c6-2d791b2f6eda",
   "metadata": {},
   "outputs": [
    {
     "data": {
      "text/plain": [
       "False"
      ]
     },
     "execution_count": 27,
     "metadata": {},
     "output_type": "execute_result"
    }
   ],
   "source": [
    "# Capture using camera\n",
    "vid = cv2.VideoCapture(0) \n",
    "vid.isOpened()"
   ]
  },
  {
   "cell_type": "code",
   "execution_count": null,
   "id": "9df08b64-4f68-421e-bebb-b8c673c65eac",
   "metadata": {},
   "outputs": [],
   "source": []
  }
 ],
 "metadata": {
  "kernelspec": {
   "display_name": "Python 3 (ipykernel)",
   "language": "python",
   "name": "python3"
  },
  "language_info": {
   "codemirror_mode": {
    "name": "ipython",
    "version": 3
   },
   "file_extension": ".py",
   "mimetype": "text/x-python",
   "name": "python",
   "nbconvert_exporter": "python",
   "pygments_lexer": "ipython3",
   "version": "3.12.4"
  }
 },
 "nbformat": 4,
 "nbformat_minor": 5
}
