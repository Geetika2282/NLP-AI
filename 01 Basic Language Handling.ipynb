{
 "cells": [
  {
   "cell_type": "markdown",
   "id": "954a1345-3226-4e50-9657-94cd42515e7d",
   "metadata": {},
   "source": [
    "Extract numbers from the sentence and find its average"
   ]
  },
  {
   "cell_type": "code",
   "execution_count": 10,
   "id": "1aef9dfe-29b3-481b-b2bb-b2a8f8624568",
   "metadata": {},
   "outputs": [],
   "source": [
    "sent = \"Their ages were 25 26 and 31 respectively\".split()"
   ]
  },
  {
   "cell_type": "code",
   "execution_count": 11,
   "id": "643e2136-f258-40e8-b311-8873d44cf38b",
   "metadata": {},
   "outputs": [
    {
     "data": {
      "text/plain": [
       "['Their', 'ages', 'were', '25', '26', 'and', '31', 'respectively']"
      ]
     },
     "execution_count": 11,
     "metadata": {},
     "output_type": "execute_result"
    }
   ],
   "source": [
    "# find average\n",
    "sent"
   ]
  },
  {
   "cell_type": "code",
   "execution_count": 12,
   "id": "bbc1bb70-4cd0-405a-91d4-6e9736cb11f2",
   "metadata": {},
   "outputs": [
    {
     "name": "stdout",
     "output_type": "stream",
     "text": [
      "Average:  27.333333333333332\n"
     ]
    }
   ],
   "source": [
    "numbers = []\n",
    "for char in sent:\n",
    "    if char.isdigit():\n",
    "        numbers.append(int(char))\n",
    "\n",
    "print(\"Average: \", sum(numbers)/len(numbers))"
   ]
  },
  {
   "cell_type": "code",
   "execution_count": 13,
   "id": "da66aa37-6df6-474b-a172-beb0938d74de",
   "metadata": {},
   "outputs": [
    {
     "data": {
      "text/plain": [
       "[25, 26, 31]"
      ]
     },
     "execution_count": 13,
     "metadata": {},
     "output_type": "execute_result"
    }
   ],
   "source": [
    "numbers"
   ]
  },
  {
   "cell_type": "markdown",
   "id": "0e1c932d-1704-4235-9a3e-d3162e84910e",
   "metadata": {},
   "source": [
    "## Using regex to extract numbers"
   ]
  },
  {
   "cell_type": "code",
   "execution_count": 14,
   "id": "175f814c-914b-45a7-ad73-120c5b68fe39",
   "metadata": {},
   "outputs": [],
   "source": [
    "import re"
   ]
  },
  {
   "cell_type": "code",
   "execution_count": 26,
   "id": "81c7090b-3605-482c-978d-487d52a39673",
   "metadata": {},
   "outputs": [
    {
     "data": {
      "text/plain": [
       "['25', '26', '31']"
      ]
     },
     "execution_count": 26,
     "metadata": {},
     "output_type": "execute_result"
    }
   ],
   "source": [
    "import re\n",
    "ext = r'\\d+'\n",
    "sent = \"Their ages were 25 26 and 31 respectively\"\n",
    "out = re.findall(ext, sent)\n",
    "out"
   ]
  },
  {
   "cell_type": "code",
   "execution_count": 28,
   "id": "91061429-bde0-4266-a116-5992a9298dba",
   "metadata": {},
   "outputs": [],
   "source": [
    "sum = 0\n",
    "for num in out:\n",
    "    sum += int(num)"
   ]
  },
  {
   "cell_type": "code",
   "execution_count": 30,
   "id": "6abbce4e-54e4-43f0-ba6a-ac4fac13c226",
   "metadata": {},
   "outputs": [
    {
     "data": {
      "text/plain": [
       "27.333333333333332"
      ]
     },
     "execution_count": 30,
     "metadata": {},
     "output_type": "execute_result"
    }
   ],
   "source": [
    "avg = sum/ len(out)\n",
    "avg"
   ]
  },
  {
   "cell_type": "code",
   "execution_count": 47,
   "id": "8d805724-cd12-4abc-b12a-a4dcaafba50e",
   "metadata": {},
   "outputs": [],
   "source": [
    "names = ['अलिशा', 'आर्या', 'गीतिका', 'योगिता']"
   ]
  },
  {
   "cell_type": "code",
   "execution_count": 48,
   "id": "b9b5d006-399a-4c00-abc1-1a064405413a",
   "metadata": {},
   "outputs": [
    {
     "name": "stdout",
     "output_type": "stream",
     "text": [
      "अलिशा\n"
     ]
    }
   ],
   "source": [
    "for x in names:\n",
    "    if x.startswith(\"अ\"):\n",
    "        print(x)"
   ]
  },
  {
   "cell_type": "code",
   "execution_count": 49,
   "id": "4c305bd3-96b5-4c11-9a89-473bdd3eb3ec",
   "metadata": {},
   "outputs": [
    {
     "data": {
      "text/plain": [
       "'अलिशा आर्या गीतिका योगिता'"
      ]
     },
     "execution_count": 49,
     "metadata": {},
     "output_type": "execute_result"
    }
   ],
   "source": [
    "' '.join(names)"
   ]
  },
  {
   "cell_type": "code",
   "execution_count": 50,
   "id": "1028a6f5-ed04-4d86-885f-830d1ba030bf",
   "metadata": {},
   "outputs": [],
   "source": [
    "names[2] = 'गीतिका'.replace('गीतिका', 'मानसी')"
   ]
  },
  {
   "cell_type": "code",
   "execution_count": 51,
   "id": "65de2a28-ba5b-44bf-8165-07f8b00684b9",
   "metadata": {},
   "outputs": [
    {
     "data": {
      "text/plain": [
       "['अलिशा', 'आर्या', 'मानसी', 'योगिता']"
      ]
     },
     "execution_count": 51,
     "metadata": {},
     "output_type": "execute_result"
    }
   ],
   "source": [
    "names"
   ]
  },
  {
   "cell_type": "code",
   "execution_count": 54,
   "id": "feb1bf33-0434-48ec-aa06-76fdd829b67d",
   "metadata": {},
   "outputs": [],
   "source": [
    "f = open('names.txt', 'w', encoding='utf-8')\n",
    "for x in range(11):\n",
    "    f.write('गीतिका')\n",
    "\n",
    "f.close()\n"
   ]
  },
  {
   "cell_type": "code",
   "execution_count": 58,
   "id": "40b87e08-bd7c-432a-a973-c2740395267b",
   "metadata": {},
   "outputs": [
    {
     "name": "stdout",
     "output_type": "stream",
     "text": [
      "अलिशा - 5\n",
      "आर्या - 5\n",
      "मानसी - 5\n",
      "योगिता - 6\n"
     ]
    }
   ],
   "source": [
    "for i in names:\n",
    "    print(f\"{i} - {len(i)}\")"
   ]
  },
  {
   "cell_type": "code",
   "execution_count": 60,
   "id": "beb81b82-3e9f-4c3c-b898-705ea8956d63",
   "metadata": {},
   "outputs": [
    {
     "data": {
      "text/plain": [
       "2327"
      ]
     },
     "execution_count": 60,
     "metadata": {},
     "output_type": "execute_result"
    }
   ],
   "source": [
    "ord('ग')"
   ]
  },
  {
   "cell_type": "code",
   "execution_count": 79,
   "id": "5d2bf666-0c4a-4562-8606-8e76dc907ca9",
   "metadata": {},
   "outputs": [
    {
     "name": "stdout",
     "output_type": "stream",
     "text": [
      "Character: ऐ, Unicode: 2320\n",
      "Character: ऑ, Unicode: 2321\n",
      "Character: ऒ, Unicode: 2322\n",
      "Character: ओ, Unicode: 2323\n",
      "Character: औ, Unicode: 2324\n",
      "Character: क, Unicode: 2325\n",
      "Character: ख, Unicode: 2326\n",
      "Character: ग, Unicode: 2327\n",
      "Character: घ, Unicode: 2328\n",
      "Character: ङ, Unicode: 2329\n",
      "Character: च, Unicode: 2330\n",
      "Character: छ, Unicode: 2331\n",
      "Character: ज, Unicode: 2332\n",
      "Character: झ, Unicode: 2333\n",
      "Character: ञ, Unicode: 2334\n",
      "Character: ट, Unicode: 2335\n",
      "Character: ठ, Unicode: 2336\n",
      "Character: ड, Unicode: 2337\n",
      "Character: ढ, Unicode: 2338\n",
      "Character: ण, Unicode: 2339\n",
      "Character: त, Unicode: 2340\n",
      "Character: थ, Unicode: 2341\n",
      "Character: द, Unicode: 2342\n",
      "Character: ध, Unicode: 2343\n",
      "Character: न, Unicode: 2344\n",
      "Character: ऩ, Unicode: 2345\n",
      "Character: प, Unicode: 2346\n",
      "Character: फ, Unicode: 2347\n",
      "Character: ब, Unicode: 2348\n",
      "Character: भ, Unicode: 2349\n",
      "Character: म, Unicode: 2350\n",
      "Character: य, Unicode: 2351\n",
      "Character: र, Unicode: 2352\n",
      "Character: ऱ, Unicode: 2353\n",
      "Character: ल, Unicode: 2354\n",
      "Character: ळ, Unicode: 2355\n",
      "Character: ऴ, Unicode: 2356\n",
      "Character: व, Unicode: 2357\n",
      "Character: श, Unicode: 2358\n",
      "Character: ष, Unicode: 2359\n",
      "Character: स, Unicode: 2360\n",
      "Character: ह, Unicode: 2361\n",
      "Character: ऺ, Unicode: 2362\n",
      "Character: ऻ, Unicode: 2363\n",
      "Character: ़, Unicode: 2364\n",
      "Character: ऽ, Unicode: 2365\n",
      "Character: ा, Unicode: 2366\n",
      "Character: ि, Unicode: 2367\n",
      "Character: ी, Unicode: 2368\n",
      "Character: ु, Unicode: 2369\n",
      "Character: ू, Unicode: 2370\n",
      "Character: ृ, Unicode: 2371\n",
      "Character: ॄ, Unicode: 2372\n",
      "Character: ॅ, Unicode: 2373\n",
      "Character: ॆ, Unicode: 2374\n",
      "Character: े, Unicode: 2375\n",
      "Character: ै, Unicode: 2376\n",
      "Character: ॉ, Unicode: 2377\n",
      "Character: ॊ, Unicode: 2378\n",
      "Character: ो, Unicode: 2379\n",
      "Character: ौ, Unicode: 2380\n",
      "Character: ्, Unicode: 2381\n",
      "Character: ॎ, Unicode: 2382\n",
      "Character: ॏ, Unicode: 2383\n",
      "Character: ॐ, Unicode: 2384\n",
      "Character: ॑, Unicode: 2385\n",
      "Character: ॒, Unicode: 2386\n",
      "Character: ॓, Unicode: 2387\n",
      "Character: ॔, Unicode: 2388\n",
      "Character: ॕ, Unicode: 2389\n",
      "Character: ॖ, Unicode: 2390\n",
      "Character: ॗ, Unicode: 2391\n",
      "Character: क़, Unicode: 2392\n",
      "Character: ख़, Unicode: 2393\n",
      "Character: ग़, Unicode: 2394\n",
      "Character: ज़, Unicode: 2395\n",
      "Character: ड़, Unicode: 2396\n",
      "Character: ढ़, Unicode: 2397\n",
      "Character: फ़, Unicode: 2398\n",
      "Character: य़, Unicode: 2399\n",
      "Character: ॠ, Unicode: 2400\n",
      "Character: ॡ, Unicode: 2401\n",
      "Character: ॢ, Unicode: 2402\n",
      "Character: ॣ, Unicode: 2403\n",
      "Character: ।, Unicode: 2404\n",
      "Character: ॥, Unicode: 2405\n",
      "Character: ०, Unicode: 2406\n",
      "Character: १, Unicode: 2407\n",
      "Character: २, Unicode: 2408\n",
      "Character: ३, Unicode: 2409\n",
      "Character: ४, Unicode: 2410\n",
      "Character: ५, Unicode: 2411\n",
      "Character: ६, Unicode: 2412\n",
      "Character: ७, Unicode: 2413\n",
      "Character: ८, Unicode: 2414\n",
      "Character: ९, Unicode: 2415\n",
      "Character: ॰, Unicode: 2416\n",
      "Character: ॱ, Unicode: 2417\n",
      "Character: ॲ, Unicode: 2418\n",
      "Character: ॳ, Unicode: 2419\n",
      "Character: ॴ, Unicode: 2420\n",
      "Character: ॵ, Unicode: 2421\n",
      "Character: ॶ, Unicode: 2422\n",
      "Character: ॷ, Unicode: 2423\n",
      "Character: ॸ, Unicode: 2424\n",
      "Character: ॹ, Unicode: 2425\n",
      "Character: ॺ, Unicode: 2426\n",
      "Character: ॻ, Unicode: 2427\n",
      "Character: ॼ, Unicode: 2428\n",
      "Character: ॽ, Unicode: 2429\n",
      "Character: ॾ, Unicode: 2430\n",
      "Character: ॿ, Unicode: 2431\n"
     ]
    }
   ],
   "source": [
    "for code_point in range(0x0910, 0x0980):  \n",
    "    char = chr(code_point)  # Convert the code point to the corresponding character\n",
    "    print(f\"Character: {char}, Unicode: {code_point}\")"
   ]
  },
  {
   "cell_type": "code",
   "execution_count": 81,
   "id": "d89da4ec-bf41-4aea-87fd-c7cd6d271ca7",
   "metadata": {},
   "outputs": [],
   "source": [
    "emoji = '😇😀🤩'"
   ]
  },
  {
   "cell_type": "code",
   "execution_count": 82,
   "id": "c02a2c3b-c1b7-4f8e-bcdc-67bd9e0234ad",
   "metadata": {},
   "outputs": [
    {
     "data": {
      "text/plain": [
       "'😇😀🤩'"
      ]
     },
     "execution_count": 82,
     "metadata": {},
     "output_type": "execute_result"
    }
   ],
   "source": [
    "emoji"
   ]
  },
  {
   "cell_type": "code",
   "execution_count": 83,
   "id": "33b2fa3d-c139-4509-b351-0e3bcaa65d1b",
   "metadata": {},
   "outputs": [
    {
     "data": {
      "text/plain": [
       "128519"
      ]
     },
     "execution_count": 83,
     "metadata": {},
     "output_type": "execute_result"
    }
   ],
   "source": [
    "ord(emoji[0])"
   ]
  },
  {
   "cell_type": "code",
   "execution_count": null,
   "id": "686f4825-afa2-402c-bf2b-9813ab309f7e",
   "metadata": {},
   "outputs": [],
   "source": []
  }
 ],
 "metadata": {
  "kernelspec": {
   "display_name": "Python 3 (ipykernel)",
   "language": "python",
   "name": "python3"
  },
  "language_info": {
   "codemirror_mode": {
    "name": "ipython",
    "version": 3
   },
   "file_extension": ".py",
   "mimetype": "text/x-python",
   "name": "python",
   "nbconvert_exporter": "python",
   "pygments_lexer": "ipython3",
   "version": "3.12.4"
  }
 },
 "nbformat": 4,
 "nbformat_minor": 5
}
