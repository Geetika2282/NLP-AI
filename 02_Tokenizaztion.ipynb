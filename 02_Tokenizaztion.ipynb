{
  "nbformat": 4,
  "nbformat_minor": 0,
  "metadata": {
    "colab": {
      "provenance": [],
      "include_colab_link": true
    },
    "kernelspec": {
      "name": "python3",
      "display_name": "Python 3"
    },
    "language_info": {
      "name": "python"
    }
  },
  "cells": [
    {
      "cell_type": "markdown",
      "metadata": {
        "id": "view-in-github",
        "colab_type": "text"
      },
      "source": [
        "<a href=\"https://colab.research.google.com/github/Geetika2282/NLP-AI/blob/main/02_Tokenizaztion.ipynb\" target=\"_parent\"><img src=\"https://colab.research.google.com/assets/colab-badge.svg\" alt=\"Open In Colab\"/></a>"
      ]
    },
    {
      "cell_type": "code",
      "execution_count": null,
      "metadata": {
        "colab": {
          "base_uri": "https://localhost:8080/"
        },
        "id": "_GXLvSifycej",
        "outputId": "702e4552-90ad-49d4-fe9e-11a06ca277c7"
      },
      "outputs": [
        {
          "output_type": "stream",
          "name": "stdout",
          "text": [
            "Requirement already satisfied: nltk in /usr/local/lib/python3.10/dist-packages (3.9.1)\n",
            "Requirement already satisfied: spacy in /usr/local/lib/python3.10/dist-packages (3.8.2)\n",
            "Requirement already satisfied: textblob in /usr/local/lib/python3.10/dist-packages (0.18.0.post0)\n",
            "Requirement already satisfied: click in /usr/local/lib/python3.10/dist-packages (from nltk) (8.1.7)\n",
            "Requirement already satisfied: joblib in /usr/local/lib/python3.10/dist-packages (from nltk) (1.4.2)\n",
            "Requirement already satisfied: regex>=2021.8.3 in /usr/local/lib/python3.10/dist-packages (from nltk) (2024.9.11)\n",
            "Requirement already satisfied: tqdm in /usr/local/lib/python3.10/dist-packages (from nltk) (4.66.6)\n",
            "Requirement already satisfied: spacy-legacy<3.1.0,>=3.0.11 in /usr/local/lib/python3.10/dist-packages (from spacy) (3.0.12)\n",
            "Requirement already satisfied: spacy-loggers<2.0.0,>=1.0.0 in /usr/local/lib/python3.10/dist-packages (from spacy) (1.0.5)\n",
            "Requirement already satisfied: murmurhash<1.1.0,>=0.28.0 in /usr/local/lib/python3.10/dist-packages (from spacy) (1.0.11)\n",
            "Requirement already satisfied: cymem<2.1.0,>=2.0.2 in /usr/local/lib/python3.10/dist-packages (from spacy) (2.0.10)\n",
            "Requirement already satisfied: preshed<3.1.0,>=3.0.2 in /usr/local/lib/python3.10/dist-packages (from spacy) (3.0.9)\n",
            "Requirement already satisfied: thinc<8.4.0,>=8.3.0 in /usr/local/lib/python3.10/dist-packages (from spacy) (8.3.2)\n",
            "Requirement already satisfied: wasabi<1.2.0,>=0.9.1 in /usr/local/lib/python3.10/dist-packages (from spacy) (1.1.3)\n",
            "Requirement already satisfied: srsly<3.0.0,>=2.4.3 in /usr/local/lib/python3.10/dist-packages (from spacy) (2.4.8)\n",
            "Requirement already satisfied: catalogue<2.1.0,>=2.0.6 in /usr/local/lib/python3.10/dist-packages (from spacy) (2.0.10)\n",
            "Requirement already satisfied: weasel<0.5.0,>=0.1.0 in /usr/local/lib/python3.10/dist-packages (from spacy) (0.4.1)\n",
            "Requirement already satisfied: typer<1.0.0,>=0.3.0 in /usr/local/lib/python3.10/dist-packages (from spacy) (0.14.0)\n",
            "Requirement already satisfied: requests<3.0.0,>=2.13.0 in /usr/local/lib/python3.10/dist-packages (from spacy) (2.32.3)\n",
            "Requirement already satisfied: pydantic!=1.8,!=1.8.1,<3.0.0,>=1.7.4 in /usr/local/lib/python3.10/dist-packages (from spacy) (2.10.2)\n",
            "Requirement already satisfied: jinja2 in /usr/local/lib/python3.10/dist-packages (from spacy) (3.1.4)\n",
            "Requirement already satisfied: setuptools in /usr/local/lib/python3.10/dist-packages (from spacy) (75.1.0)\n",
            "Requirement already satisfied: packaging>=20.0 in /usr/local/lib/python3.10/dist-packages (from spacy) (24.2)\n",
            "Requirement already satisfied: langcodes<4.0.0,>=3.2.0 in /usr/local/lib/python3.10/dist-packages (from spacy) (3.5.0)\n",
            "Requirement already satisfied: numpy>=1.19.0 in /usr/local/lib/python3.10/dist-packages (from spacy) (2.0.2)\n",
            "Requirement already satisfied: language-data>=1.2 in /usr/local/lib/python3.10/dist-packages (from langcodes<4.0.0,>=3.2.0->spacy) (1.3.0)\n",
            "Requirement already satisfied: annotated-types>=0.6.0 in /usr/local/lib/python3.10/dist-packages (from pydantic!=1.8,!=1.8.1,<3.0.0,>=1.7.4->spacy) (0.7.0)\n",
            "Requirement already satisfied: pydantic-core==2.27.1 in /usr/local/lib/python3.10/dist-packages (from pydantic!=1.8,!=1.8.1,<3.0.0,>=1.7.4->spacy) (2.27.1)\n",
            "Requirement already satisfied: typing-extensions>=4.12.2 in /usr/local/lib/python3.10/dist-packages (from pydantic!=1.8,!=1.8.1,<3.0.0,>=1.7.4->spacy) (4.12.2)\n",
            "Requirement already satisfied: charset-normalizer<4,>=2 in /usr/local/lib/python3.10/dist-packages (from requests<3.0.0,>=2.13.0->spacy) (3.4.0)\n",
            "Requirement already satisfied: idna<4,>=2.5 in /usr/local/lib/python3.10/dist-packages (from requests<3.0.0,>=2.13.0->spacy) (3.10)\n",
            "Requirement already satisfied: urllib3<3,>=1.21.1 in /usr/local/lib/python3.10/dist-packages (from requests<3.0.0,>=2.13.0->spacy) (2.2.3)\n",
            "Requirement already satisfied: certifi>=2017.4.17 in /usr/local/lib/python3.10/dist-packages (from requests<3.0.0,>=2.13.0->spacy) (2024.8.30)\n",
            "Requirement already satisfied: blis<1.1.0,>=1.0.0 in /usr/local/lib/python3.10/dist-packages (from thinc<8.4.0,>=8.3.0->spacy) (1.0.1)\n",
            "Requirement already satisfied: confection<1.0.0,>=0.0.1 in /usr/local/lib/python3.10/dist-packages (from thinc<8.4.0,>=8.3.0->spacy) (0.1.5)\n",
            "Requirement already satisfied: shellingham>=1.3.0 in /usr/local/lib/python3.10/dist-packages (from typer<1.0.0,>=0.3.0->spacy) (1.5.4)\n",
            "Requirement already satisfied: rich>=10.11.0 in /usr/local/lib/python3.10/dist-packages (from typer<1.0.0,>=0.3.0->spacy) (13.9.4)\n",
            "Requirement already satisfied: cloudpathlib<1.0.0,>=0.7.0 in /usr/local/lib/python3.10/dist-packages (from weasel<0.5.0,>=0.1.0->spacy) (0.20.0)\n",
            "Requirement already satisfied: smart-open<8.0.0,>=5.2.1 in /usr/local/lib/python3.10/dist-packages (from weasel<0.5.0,>=0.1.0->spacy) (7.0.5)\n",
            "Requirement already satisfied: MarkupSafe>=2.0 in /usr/local/lib/python3.10/dist-packages (from jinja2->spacy) (3.0.2)\n",
            "Requirement already satisfied: marisa-trie>=1.1.0 in /usr/local/lib/python3.10/dist-packages (from language-data>=1.2->langcodes<4.0.0,>=3.2.0->spacy) (1.2.1)\n",
            "Requirement already satisfied: markdown-it-py>=2.2.0 in /usr/local/lib/python3.10/dist-packages (from rich>=10.11.0->typer<1.0.0,>=0.3.0->spacy) (3.0.0)\n",
            "Requirement already satisfied: pygments<3.0.0,>=2.13.0 in /usr/local/lib/python3.10/dist-packages (from rich>=10.11.0->typer<1.0.0,>=0.3.0->spacy) (2.18.0)\n",
            "Requirement already satisfied: wrapt in /usr/local/lib/python3.10/dist-packages (from smart-open<8.0.0,>=5.2.1->weasel<0.5.0,>=0.1.0->spacy) (1.17.0)\n",
            "Requirement already satisfied: mdurl~=0.1 in /usr/local/lib/python3.10/dist-packages (from markdown-it-py>=2.2.0->rich>=10.11.0->typer<1.0.0,>=0.3.0->spacy) (0.1.2)\n"
          ]
        }
      ],
      "source": [
        "!pip install nltk spacy textblob -U"
      ]
    },
    {
      "cell_type": "code",
      "source": [
        "import nltk"
      ],
      "metadata": {
        "id": "7cx2YgNcPsUS"
      },
      "execution_count": null,
      "outputs": []
    },
    {
      "cell_type": "code",
      "source": [
        "nltk.download('punkt')                            # tokenization\n",
        "nltk.download('punkt_tab')\n",
        "nltk.download('stopwords')                        # collection of stopwords\n",
        "nltk.download('wordnet')                          # wordnet-> database of english words\n",
        "nltk.download('averaged_perceptron_tagger')       # POS tagging\n",
        "nltk.download('indian')                           # indian language POS tagging\n",
        "nltk.download('maxent_ne_chunker')                # NER tagging"
      ],
      "metadata": {
        "colab": {
          "base_uri": "https://localhost:8080/"
        },
        "id": "Tbg9bADf0P2_",
        "outputId": "774bf541-c485-4828-8ad4-a0747dae28fe"
      },
      "execution_count": null,
      "outputs": [
        {
          "output_type": "stream",
          "name": "stderr",
          "text": [
            "[nltk_data] Downloading package punkt to /root/nltk_data...\n",
            "[nltk_data]   Package punkt is already up-to-date!\n",
            "[nltk_data] Downloading package punkt_tab to /root/nltk_data...\n",
            "[nltk_data]   Package punkt_tab is already up-to-date!\n",
            "[nltk_data] Downloading package stopwords to /root/nltk_data...\n",
            "[nltk_data]   Package stopwords is already up-to-date!\n",
            "[nltk_data] Downloading package wordnet to /root/nltk_data...\n",
            "[nltk_data]   Package wordnet is already up-to-date!\n",
            "[nltk_data] Downloading package averaged_perceptron_tagger to\n",
            "[nltk_data]     /root/nltk_data...\n",
            "[nltk_data]   Package averaged_perceptron_tagger is already up-to-\n",
            "[nltk_data]       date!\n",
            "[nltk_data] Downloading package indian to /root/nltk_data...\n",
            "[nltk_data]   Package indian is already up-to-date!\n",
            "[nltk_data] Downloading package maxent_ne_chunker to\n",
            "[nltk_data]     /root/nltk_data...\n",
            "[nltk_data]   Package maxent_ne_chunker is already up-to-date!\n"
          ]
        },
        {
          "output_type": "execute_result",
          "data": {
            "text/plain": [
              "True"
            ]
          },
          "metadata": {},
          "execution_count": 48
        }
      ]
    },
    {
      "cell_type": "markdown",
      "source": [
        "#### word tokenizer"
      ],
      "metadata": {
        "id": "ELvJrJpm4X9s"
      }
    },
    {
      "cell_type": "code",
      "source": [
        "sent = 'They told that their ages are 25, 26 and 31 respectively.'"
      ],
      "metadata": {
        "id": "YqTlSxNs1TjQ"
      },
      "execution_count": null,
      "outputs": []
    },
    {
      "cell_type": "code",
      "source": [
        "sent.split()"
      ],
      "metadata": {
        "colab": {
          "base_uri": "https://localhost:8080/"
        },
        "id": "y4pJzFut4q8s",
        "outputId": "509cc9d5-6b7e-4d76-ce40-d666dcc45d0a"
      },
      "execution_count": null,
      "outputs": [
        {
          "output_type": "execute_result",
          "data": {
            "text/plain": [
              "['They',\n",
              " 'told',\n",
              " 'that',\n",
              " 'their',\n",
              " 'ages',\n",
              " 'are',\n",
              " '25,',\n",
              " '26',\n",
              " 'and',\n",
              " '31',\n",
              " 'respectively.']"
            ]
          },
          "metadata": {},
          "execution_count": 50
        }
      ]
    },
    {
      "cell_type": "code",
      "source": [
        "from nltk.tokenize import word_tokenize"
      ],
      "metadata": {
        "id": "-_rxPJ9P4tQJ"
      },
      "execution_count": null,
      "outputs": []
    },
    {
      "cell_type": "code",
      "source": [
        "word_tokenize(sent)"
      ],
      "metadata": {
        "colab": {
          "base_uri": "https://localhost:8080/"
        },
        "id": "eiwkQU7941J0",
        "outputId": "5b529964-b13d-454c-b0b4-cd1f53346421"
      },
      "execution_count": null,
      "outputs": [
        {
          "output_type": "execute_result",
          "data": {
            "text/plain": [
              "['They',\n",
              " 'told',\n",
              " 'that',\n",
              " 'their',\n",
              " 'ages',\n",
              " 'are',\n",
              " '25',\n",
              " ',',\n",
              " '26',\n",
              " 'and',\n",
              " '31',\n",
              " 'respectively',\n",
              " '.']"
            ]
          },
          "metadata": {},
          "execution_count": 52
        }
      ]
    },
    {
      "cell_type": "code",
      "source": [
        "sent = 'Dr. Deshmukh told me about this.'"
      ],
      "metadata": {
        "id": "ZrYllDHg5AIb"
      },
      "execution_count": null,
      "outputs": []
    },
    {
      "cell_type": "code",
      "source": [
        "word_tokenize(sent)"
      ],
      "metadata": {
        "colab": {
          "base_uri": "https://localhost:8080/"
        },
        "id": "0LW4xntD5xqS",
        "outputId": "5feb162e-6da9-4e08-d14e-8424b900ae38"
      },
      "execution_count": null,
      "outputs": [
        {
          "output_type": "execute_result",
          "data": {
            "text/plain": [
              "['Dr.', 'Deshmukh', 'told', 'me', 'about', 'this', '.']"
            ]
          },
          "metadata": {},
          "execution_count": 54
        }
      ]
    },
    {
      "cell_type": "code",
      "source": [
        "sents = '''Hello friends!\n",
        "How are you? Welcome to the world of Python Programming.\n",
        "'''"
      ],
      "metadata": {
        "id": "aK_eCVvI5z-A"
      },
      "execution_count": null,
      "outputs": []
    },
    {
      "cell_type": "code",
      "source": [
        "word_tokenize(sents)"
      ],
      "metadata": {
        "colab": {
          "base_uri": "https://localhost:8080/"
        },
        "id": "Z1-5y4ng6cJg",
        "outputId": "8f2320b6-1b8f-4b9d-f4f5-c0c7e28d7163"
      },
      "execution_count": null,
      "outputs": [
        {
          "output_type": "execute_result",
          "data": {
            "text/plain": [
              "['Hello',\n",
              " 'friends',\n",
              " '!',\n",
              " 'How',\n",
              " 'are',\n",
              " 'you',\n",
              " '?',\n",
              " 'Welcome',\n",
              " 'to',\n",
              " 'the',\n",
              " 'world',\n",
              " 'of',\n",
              " 'Python',\n",
              " 'Programming',\n",
              " '.']"
            ]
          },
          "metadata": {},
          "execution_count": 56
        }
      ]
    },
    {
      "cell_type": "code",
      "source": [
        "tokens = word_tokenize(sents)"
      ],
      "metadata": {
        "id": "Bs2Ux6XF7AMK"
      },
      "execution_count": null,
      "outputs": []
    },
    {
      "cell_type": "code",
      "source": [
        "count = 0\n",
        "for i in tokens:\n",
        "  if i.isalpha() | i.isdigit():\n",
        "    pass\n",
        "  else:\n",
        "    count += 1\n",
        "print(count/len(tokens)*100)"
      ],
      "metadata": {
        "colab": {
          "base_uri": "https://localhost:8080/"
        },
        "id": "tZNPzdgr7YsD",
        "outputId": "3151abab-4286-4dca-fd4f-0e3523a54dc0"
      },
      "execution_count": null,
      "outputs": [
        {
          "output_type": "stream",
          "name": "stdout",
          "text": [
            "20.0\n"
          ]
        }
      ]
    },
    {
      "cell_type": "code",
      "source": [
        "import string"
      ],
      "metadata": {
        "id": "udSn0G0s7e0d"
      },
      "execution_count": null,
      "outputs": []
    },
    {
      "cell_type": "code",
      "source": [
        "count = [word for word in tokens if word in string.punctuation]"
      ],
      "metadata": {
        "id": "JSU_NfC28B9a"
      },
      "execution_count": null,
      "outputs": []
    },
    {
      "cell_type": "code",
      "source": [
        "len(count)/len(tokens)*100"
      ],
      "metadata": {
        "colab": {
          "base_uri": "https://localhost:8080/"
        },
        "id": "bS_zWYC68IB_",
        "outputId": "f355f80e-72ae-4365-a40b-548464acab57"
      },
      "execution_count": null,
      "outputs": [
        {
          "output_type": "execute_result",
          "data": {
            "text/plain": [
              "20.0"
            ]
          },
          "metadata": {},
          "execution_count": 61
        }
      ]
    },
    {
      "cell_type": "code",
      "source": [
        "count = [word for word in tokens if not word.isalpha() and not word.isdigit()]"
      ],
      "metadata": {
        "id": "O5vuGHdF8J6u"
      },
      "execution_count": null,
      "outputs": []
    },
    {
      "cell_type": "code",
      "source": [
        "len(count)/len(tokens)*100"
      ],
      "metadata": {
        "colab": {
          "base_uri": "https://localhost:8080/"
        },
        "id": "35hixEGG8Wtf",
        "outputId": "75955468-bb65-41cb-de5f-3f56108a5481"
      },
      "execution_count": null,
      "outputs": [
        {
          "output_type": "execute_result",
          "data": {
            "text/plain": [
              "20.0"
            ]
          },
          "metadata": {},
          "execution_count": 63
        }
      ]
    },
    {
      "cell_type": "code",
      "source": [
        "txt = \"भारत (आधिकारिक नाम: भारत गणराज्य, अंग्रेज़ी: Republic of India, लिप्यन्तरण: रिपब्लिक ऑफ़ इंडिया) दक्षिण एशिया में स्थित भारतीय उपमहाद्वीप का सबसे बड़ा देश है। भारत भौगोलिक दृष्टि से विश्व का सातवाँ सबसे बड़ा देश है, जबकि जनसंख्या के दृष्टिकोण से दुनिया का सबसे बड़ा देश है[20]। भारत के पश्चिम में पाकिस्तान, उत्तर पश्चिम में अफगानिस्तान, उत्तर-पूर्व में चीन, नेपाल और भूटान, पूर्व में बांग्लादेश और म्यान्मार स्थित हैं। हिंद महासागर में इसके दक्षिण पश्चिम में मालदीव, दक्षिण में श्रीलंका और दक्षिण-पूर्व में इंडोनेशिया से भारत की सामुद्रिक सीमा लगती है। इसके उत्तर में हिमालय पर्वत तथा दक्षिण में भारतीय महासागर स्थित है। दक्षिण-पूर्व में बंगाल की खाड़ी तथा पश्चिम में अरब सागर है।\"\n",
        "txt"
      ],
      "metadata": {
        "id": "gVq8Bt_y8ai9",
        "colab": {
          "base_uri": "https://localhost:8080/",
          "height": 88
        },
        "outputId": "a6c39aff-024c-4c16-e0e1-f1d5f33b0807"
      },
      "execution_count": null,
      "outputs": [
        {
          "output_type": "execute_result",
          "data": {
            "text/plain": [
              "'भारत (आधिकारिक नाम: भारत गणराज्य, अंग्रेज़ी: Republic of India, लिप्यन्तरण: रिपब्लिक ऑफ़ इंडिया) दक्षिण एशिया में स्थित भारतीय उपमहाद्वीप का सबसे बड़ा देश है। भारत भौगोलिक दृष्टि से विश्व का सातवाँ सबसे बड़ा देश है, जबकि जनसंख्या के दृष्टिकोण से दुनिया का सबसे बड़ा देश है[20]। भारत के पश्चिम में पाकिस्तान, उत्तर पश्चिम में अफगानिस्तान, उत्तर-पूर्व में चीन, नेपाल और भूटान, पूर्व में बांग्लादेश और म्यान्मार स्थित हैं। हिंद महासागर में इसके दक्षिण पश्चिम में मालदीव, दक्षिण में श्रीलंका और दक्षिण-पूर्व में इंडोनेशिया से भारत की सामुद्रिक सीमा लगती है। इसके उत्तर में हिमालय पर्वत तथा दक्षिण में भारतीय महासागर स्थित है। दक्षिण-पूर्व में बंगाल की खाड़ी तथा पश्चिम में अरब सागर है।'"
            ],
            "application/vnd.google.colaboratory.intrinsic+json": {
              "type": "string"
            }
          },
          "metadata": {},
          "execution_count": 64
        }
      ]
    },
    {
      "cell_type": "code",
      "source": [
        "word_tokenize(txt)"
      ],
      "metadata": {
        "colab": {
          "base_uri": "https://localhost:8080/"
        },
        "id": "mNsWmrxWQWYi",
        "outputId": "cdd9581f-4cc7-4f1e-ddaf-c5f5b8fe34d4"
      },
      "execution_count": null,
      "outputs": [
        {
          "output_type": "execute_result",
          "data": {
            "text/plain": [
              "['भारत',\n",
              " '(',\n",
              " 'आधिकारिक',\n",
              " 'नाम',\n",
              " ':',\n",
              " 'भारत',\n",
              " 'गणराज्य',\n",
              " ',',\n",
              " 'अंग्रेज़ी',\n",
              " ':',\n",
              " 'Republic',\n",
              " 'of',\n",
              " 'India',\n",
              " ',',\n",
              " 'लिप्यन्तरण',\n",
              " ':',\n",
              " 'रिपब्लिक',\n",
              " 'ऑफ़',\n",
              " 'इंडिया',\n",
              " ')',\n",
              " 'दक्षिण',\n",
              " 'एशिया',\n",
              " 'में',\n",
              " 'स्थित',\n",
              " 'भारतीय',\n",
              " 'उपमहाद्वीप',\n",
              " 'का',\n",
              " 'सबसे',\n",
              " 'बड़ा',\n",
              " 'देश',\n",
              " 'है।',\n",
              " 'भारत',\n",
              " 'भौगोलिक',\n",
              " 'दृष्टि',\n",
              " 'से',\n",
              " 'विश्व',\n",
              " 'का',\n",
              " 'सातवाँ',\n",
              " 'सबसे',\n",
              " 'बड़ा',\n",
              " 'देश',\n",
              " 'है',\n",
              " ',',\n",
              " 'जबकि',\n",
              " 'जनसंख्या',\n",
              " 'के',\n",
              " 'दृष्टिकोण',\n",
              " 'से',\n",
              " 'दुनिया',\n",
              " 'का',\n",
              " 'सबसे',\n",
              " 'बड़ा',\n",
              " 'देश',\n",
              " 'है',\n",
              " '[',\n",
              " '20',\n",
              " ']',\n",
              " '।',\n",
              " 'भारत',\n",
              " 'के',\n",
              " 'पश्चिम',\n",
              " 'में',\n",
              " 'पाकिस्तान',\n",
              " ',',\n",
              " 'उत्तर',\n",
              " 'पश्चिम',\n",
              " 'में',\n",
              " 'अफगानिस्तान',\n",
              " ',',\n",
              " 'उत्तर-पूर्व',\n",
              " 'में',\n",
              " 'चीन',\n",
              " ',',\n",
              " 'नेपाल',\n",
              " 'और',\n",
              " 'भूटान',\n",
              " ',',\n",
              " 'पूर्व',\n",
              " 'में',\n",
              " 'बांग्लादेश',\n",
              " 'और',\n",
              " 'म्यान्मार',\n",
              " 'स्थित',\n",
              " 'हैं।',\n",
              " 'हिंद',\n",
              " 'महासागर',\n",
              " 'में',\n",
              " 'इसके',\n",
              " 'दक्षिण',\n",
              " 'पश्चिम',\n",
              " 'में',\n",
              " 'मालदीव',\n",
              " ',',\n",
              " 'दक्षिण',\n",
              " 'में',\n",
              " 'श्रीलंका',\n",
              " 'और',\n",
              " 'दक्षिण-पूर्व',\n",
              " 'में',\n",
              " 'इंडोनेशिया',\n",
              " 'से',\n",
              " 'भारत',\n",
              " 'की',\n",
              " 'सामुद्रिक',\n",
              " 'सीमा',\n",
              " 'लगती',\n",
              " 'है।',\n",
              " 'इसके',\n",
              " 'उत्तर',\n",
              " 'में',\n",
              " 'हिमालय',\n",
              " 'पर्वत',\n",
              " 'तथा',\n",
              " 'दक्षिण',\n",
              " 'में',\n",
              " 'भारतीय',\n",
              " 'महासागर',\n",
              " 'स्थित',\n",
              " 'है।',\n",
              " 'दक्षिण-पूर्व',\n",
              " 'में',\n",
              " 'बंगाल',\n",
              " 'की',\n",
              " 'खाड़ी',\n",
              " 'तथा',\n",
              " 'पश्चिम',\n",
              " 'में',\n",
              " 'अरब',\n",
              " 'सागर',\n",
              " 'है।']"
            ]
          },
          "metadata": {},
          "execution_count": 65
        }
      ]
    },
    {
      "cell_type": "code",
      "source": [
        "from nltk.tokenize import sent_tokenize\n",
        "sent_tokenize(txt)"
      ],
      "metadata": {
        "colab": {
          "base_uri": "https://localhost:8080/"
        },
        "id": "41BIATdnQXMR",
        "outputId": "0ae2ac1c-ea68-4901-f878-fb11c9209bdc"
      },
      "execution_count": null,
      "outputs": [
        {
          "output_type": "execute_result",
          "data": {
            "text/plain": [
              "['भारत (आधिकारिक नाम: भारत गणराज्य, अंग्रेज़ी: Republic of India, लिप्यन्तरण: रिपब्लिक ऑफ़ इंडिया) दक्षिण एशिया में स्थित भारतीय उपमहाद्वीप का सबसे बड़ा देश है। भारत भौगोलिक दृष्टि से विश्व का सातवाँ सबसे बड़ा देश है, जबकि जनसंख्या के दृष्टिकोण से दुनिया का सबसे बड़ा देश है[20]। भारत के पश्चिम में पाकिस्तान, उत्तर पश्चिम में अफगानिस्तान, उत्तर-पूर्व में चीन, नेपाल और भूटान, पूर्व में बांग्लादेश और म्यान्मार स्थित हैं। हिंद महासागर में इसके दक्षिण पश्चिम में मालदीव, दक्षिण में श्रीलंका और दक्षिण-पूर्व में इंडोनेशिया से भारत की सामुद्रिक सीमा लगती है। इसके उत्तर में हिमालय पर्वत तथा दक्षिण में भारतीय महासागर स्थित है। दक्षिण-पूर्व में बंगाल की खाड़ी तथा पश्चिम में अरब सागर है।']"
            ]
          },
          "metadata": {},
          "execution_count": 66
        }
      ]
    },
    {
      "cell_type": "code",
      "source": [
        "sent = \"Explore the Gemini! API The Gemini API gives you access to Gemini models created by Google DeepMind. Gemini models are built from the ground up to be multimodal, so you can reason seamlessly across text, images, code, and audio.\"\n",
        "sent_tokenize(sent)"
      ],
      "metadata": {
        "colab": {
          "base_uri": "https://localhost:8080/"
        },
        "id": "ZcJP4mE9Qfu7",
        "outputId": "191305fe-a7d4-4d70-e99f-054cc0b2dc77"
      },
      "execution_count": null,
      "outputs": [
        {
          "output_type": "execute_result",
          "data": {
            "text/plain": [
              "['Explore the Gemini!',\n",
              " 'API The Gemini API gives you access to Gemini models created by Google DeepMind.',\n",
              " 'Gemini models are built from the ground up to be multimodal, so you can reason seamlessly across text, images, code, and audio.']"
            ]
          },
          "metadata": {},
          "execution_count": 67
        }
      ]
    },
    {
      "cell_type": "markdown",
      "source": [
        "Won't separate based on \"purnviram\", it only reconizes universal ending that is \".\" fullstop"
      ],
      "metadata": {
        "id": "m_NiYlmkTMKO"
      }
    },
    {
      "cell_type": "code",
      "source": [
        "sent_tokenize(txt)"
      ],
      "metadata": {
        "colab": {
          "base_uri": "https://localhost:8080/"
        },
        "id": "qzSF-atcSl6J",
        "outputId": "7851875e-c26c-40d2-d1ed-3eae6adc634f"
      },
      "execution_count": null,
      "outputs": [
        {
          "output_type": "execute_result",
          "data": {
            "text/plain": [
              "['भारत (आधिकारिक नाम: भारत गणराज्य, अंग्रेज़ी: Republic of India, लिप्यन्तरण: रिपब्लिक ऑफ़ इंडिया) दक्षिण एशिया में स्थित भारतीय उपमहाद्वीप का सबसे बड़ा देश है। भारत भौगोलिक दृष्टि से विश्व का सातवाँ सबसे बड़ा देश है, जबकि जनसंख्या के दृष्टिकोण से दुनिया का सबसे बड़ा देश है[20]। भारत के पश्चिम में पाकिस्तान, उत्तर पश्चिम में अफगानिस्तान, उत्तर-पूर्व में चीन, नेपाल और भूटान, पूर्व में बांग्लादेश और म्यान्मार स्थित हैं। हिंद महासागर में इसके दक्षिण पश्चिम में मालदीव, दक्षिण में श्रीलंका और दक्षिण-पूर्व में इंडोनेशिया से भारत की सामुद्रिक सीमा लगती है। इसके उत्तर में हिमालय पर्वत तथा दक्षिण में भारतीय महासागर स्थित है। दक्षिण-पूर्व में बंगाल की खाड़ी तथा पश्चिम में अरब सागर है।']"
            ]
          },
          "metadata": {},
          "execution_count": 68
        }
      ]
    },
    {
      "cell_type": "code",
      "source": [
        "india = '''India, officially the Republic of India,[j][20] is a country in South Asia.\n",
        " It is the seventh-largest country in the world by area and the most populous country.\n",
        " Bounded by the Indian Ocean on the south, the Arabian Sea on the southwest, and the Bay of Bengal on the southeast,\n",
        "  it shares land borders with Pakistan to the west;[k] China, Nepal, and Bhutan to the north; and Bangladesh and Myanmar to the east.\n",
        "  In the Indian Ocean, India is in the vicinity of Sri Lanka and the Maldives; its Andaman and Nicobar Islands share a maritime border with Thailand, Myanmar, and Indonesia.\n",
        "\n",
        "Modern humans arrived on the Indian subcontinent from Africa no later than 55,000 years ago.[22][23][24]\n",
        "Their long occupation, initially in varying forms of isolation as hunter-gatherers, has made the region highly diverse,\n",
        "second only to Africa in human genetic diversity.[25] Settled life emerged on the subcontinent in the western margins of the Indus river basin 9,000 years ago,\n",
        "evolving gradually into the Indus Valley Civilisation of the third millennium BCE.[26] By at least 1200 BCE, an archaic form of Sanskrit, an Indo-European language,\n",
        "had diffused into India from the northwest.[27][28] Its evidence today is found in the hymns of the Rigveda. Preserved by an oral tradition that was resolutely vigilant,\n",
        "the Rigveda records the dawning of Hinduism in India.[29] The Dravidian languages of India were supplanted in the northern and western regions.[30] By 400 BCE, stratification\n",
        " and exclusion by caste had emerged within Hinduism,[31] and Buddhism and Jainism had arisen, proclaiming social orders unlinked to heredity.[32] Early political consolidations\n",
        " gave rise to the loose-knit Maurya and Gupta Empires based in the Ganges Basin.[33] Their collective era was suffused with wide-ranging creativity,[34] but also marked by the\n",
        "  declining status of women,[35] and the incorporation of untouchability into an organised system of belief.[l][36] The Middle kingdoms exported Sanskrit language, south Indian\n",
        "  scripts and religions of Hinduism and Buddhism to the Southeast Asia.[37]'''\n"
      ],
      "metadata": {
        "id": "nsi3Ks8-TA5s"
      },
      "execution_count": null,
      "outputs": []
    },
    {
      "cell_type": "code",
      "source": [
        "india"
      ],
      "metadata": {
        "colab": {
          "base_uri": "https://localhost:8080/",
          "height": 123
        },
        "id": "306k1qCrUlg8",
        "outputId": "61f80980-2fbe-4ad5-b460-9b62283a90a1"
      },
      "execution_count": null,
      "outputs": [
        {
          "output_type": "execute_result",
          "data": {
            "text/plain": [
              "'India, officially the Republic of India,[j][20] is a country in South Asia.\\n It is the seventh-largest country in the world by area and the most populous country. \\n Bounded by the Indian Ocean on the south, the Arabian Sea on the southwest, and the Bay of Bengal on the southeast,\\n  it shares land borders with Pakistan to the west;[k] China, Nepal, and Bhutan to the north; and Bangladesh and Myanmar to the east. \\n  In the Indian Ocean, India is in the vicinity of Sri Lanka and the Maldives; its Andaman and Nicobar Islands share a maritime border with Thailand, Myanmar, and Indonesia.\\n\\nModern humans arrived on the Indian subcontinent from Africa no later than 55,000 years ago.[22][23][24] \\nTheir long occupation, initially in varying forms of isolation as hunter-gatherers, has made the region highly diverse, \\nsecond only to Africa in human genetic diversity.[25] Settled life emerged on the subcontinent in the western margins of the Indus river basin 9,000 years ago, \\nevolving gradually into the Indus Valley Civilisation of the third millennium BCE.[26] By at least 1200 BCE, an archaic form of Sanskrit, an Indo-European language, \\nhad diffused into India from the northwest.[27][28] Its evidence today is found in the hymns of the Rigveda. Preserved by an oral tradition that was resolutely vigilant, \\nthe Rigveda records the dawning of Hinduism in India.[29] The Dravidian languages of India were supplanted in the northern and western regions.[30] By 400 BCE, stratification\\n and exclusion by caste had emerged within Hinduism,[31] and Buddhism and Jainism had arisen, proclaiming social orders unlinked to heredity.[32] Early political consolidations \\n gave rise to the loose-knit Maurya and Gupta Empires based in the Ganges Basin.[33] Their collective era was suffused with wide-ranging creativity,[34] but also marked by the\\n  declining status of women,[35] and the incorporation of untouchability into an organised system of belief.[l][36] The Middle kingdoms exported Sanskrit language, south Indian \\n  scripts and religions of Hinduism and Buddhism to the Southeast Asia.[37]'"
            ],
            "application/vnd.google.colaboratory.intrinsic+json": {
              "type": "string"
            }
          },
          "metadata": {},
          "execution_count": 88
        }
      ]
    },
    {
      "cell_type": "code",
      "source": [
        "# print a statement with maximum number of \"The\"\n",
        "max = 0\n",
        "for sent in sent_tokenize(india):\n",
        "  count = word_tokenize(sent.lower()).count('the')\n",
        "  if count > max:\n",
        "    max = count\n",
        "    temp = sent\n",
        "print(temp)"
      ],
      "metadata": {
        "colab": {
          "base_uri": "https://localhost:8080/"
        },
        "id": "kcjXwORWVen4",
        "outputId": "8a57c6f6-d060-4dbc-fc80-ed3f4135ffc5"
      },
      "execution_count": null,
      "outputs": [
        {
          "output_type": "stream",
          "name": "stdout",
          "text": [
            "Bounded by the Indian Ocean on the south, the Arabian Sea on the southwest, and the Bay of Bengal on the southeast,\n",
            "  it shares land borders with Pakistan to the west;[k] China, Nepal, and Bhutan to the north; and Bangladesh and Myanmar to the east.\n"
          ]
        }
      ]
    },
    {
      "cell_type": "markdown",
      "source": [
        "## White space tokenizer"
      ],
      "metadata": {
        "id": "MLGGOvlfYms6"
      }
    },
    {
      "cell_type": "code",
      "source": [
        " from nltk.tokenize import WhitespaceTokenizer"
      ],
      "metadata": {
        "id": "HHcjsPSOYERN"
      },
      "execution_count": null,
      "outputs": []
    },
    {
      "cell_type": "code",
      "source": [
        "tk = WhitespaceTokenizer()"
      ],
      "metadata": {
        "id": "AbA8sHIwZRb5"
      },
      "execution_count": null,
      "outputs": []
    },
    {
      "cell_type": "code",
      "source": [
        "tk.tokenize(india)"
      ],
      "metadata": {
        "colab": {
          "base_uri": "https://localhost:8080/"
        },
        "id": "C1Dqb-bdZTT3",
        "outputId": "504b000d-c7aa-4e77-c946-27ba83b711ae"
      },
      "execution_count": null,
      "outputs": [
        {
          "output_type": "execute_result",
          "data": {
            "text/plain": [
              "['India,',\n",
              " 'officially',\n",
              " 'the',\n",
              " 'Republic',\n",
              " 'of',\n",
              " 'India,[j][20]',\n",
              " 'is',\n",
              " 'a',\n",
              " 'country',\n",
              " 'in',\n",
              " 'South',\n",
              " 'Asia.',\n",
              " 'It',\n",
              " 'is',\n",
              " 'the',\n",
              " 'seventh-largest',\n",
              " 'country',\n",
              " 'in',\n",
              " 'the',\n",
              " 'world',\n",
              " 'by',\n",
              " 'area',\n",
              " 'and',\n",
              " 'the',\n",
              " 'most',\n",
              " 'populous',\n",
              " 'country.',\n",
              " 'Bounded',\n",
              " 'by',\n",
              " 'the',\n",
              " 'Indian',\n",
              " 'Ocean',\n",
              " 'on',\n",
              " 'the',\n",
              " 'south,',\n",
              " 'the',\n",
              " 'Arabian',\n",
              " 'Sea',\n",
              " 'on',\n",
              " 'the',\n",
              " 'southwest,',\n",
              " 'and',\n",
              " 'the',\n",
              " 'Bay',\n",
              " 'of',\n",
              " 'Bengal',\n",
              " 'on',\n",
              " 'the',\n",
              " 'southeast,',\n",
              " 'it',\n",
              " 'shares',\n",
              " 'land',\n",
              " 'borders',\n",
              " 'with',\n",
              " 'Pakistan',\n",
              " 'to',\n",
              " 'the',\n",
              " 'west;[k]',\n",
              " 'China,',\n",
              " 'Nepal,',\n",
              " 'and',\n",
              " 'Bhutan',\n",
              " 'to',\n",
              " 'the',\n",
              " 'north;',\n",
              " 'and',\n",
              " 'Bangladesh',\n",
              " 'and',\n",
              " 'Myanmar',\n",
              " 'to',\n",
              " 'the',\n",
              " 'east.',\n",
              " 'In',\n",
              " 'the',\n",
              " 'Indian',\n",
              " 'Ocean,',\n",
              " 'India',\n",
              " 'is',\n",
              " 'in',\n",
              " 'the',\n",
              " 'vicinity',\n",
              " 'of',\n",
              " 'Sri',\n",
              " 'Lanka',\n",
              " 'and',\n",
              " 'the',\n",
              " 'Maldives;',\n",
              " 'its',\n",
              " 'Andaman',\n",
              " 'and',\n",
              " 'Nicobar',\n",
              " 'Islands',\n",
              " 'share',\n",
              " 'a',\n",
              " 'maritime',\n",
              " 'border',\n",
              " 'with',\n",
              " 'Thailand,',\n",
              " 'Myanmar,',\n",
              " 'and',\n",
              " 'Indonesia.',\n",
              " 'Modern',\n",
              " 'humans',\n",
              " 'arrived',\n",
              " 'on',\n",
              " 'the',\n",
              " 'Indian',\n",
              " 'subcontinent',\n",
              " 'from',\n",
              " 'Africa',\n",
              " 'no',\n",
              " 'later',\n",
              " 'than',\n",
              " '55,000',\n",
              " 'years',\n",
              " 'ago.[22][23][24]',\n",
              " 'Their',\n",
              " 'long',\n",
              " 'occupation,',\n",
              " 'initially',\n",
              " 'in',\n",
              " 'varying',\n",
              " 'forms',\n",
              " 'of',\n",
              " 'isolation',\n",
              " 'as',\n",
              " 'hunter-gatherers,',\n",
              " 'has',\n",
              " 'made',\n",
              " 'the',\n",
              " 'region',\n",
              " 'highly',\n",
              " 'diverse,',\n",
              " 'second',\n",
              " 'only',\n",
              " 'to',\n",
              " 'Africa',\n",
              " 'in',\n",
              " 'human',\n",
              " 'genetic',\n",
              " 'diversity.[25]',\n",
              " 'Settled',\n",
              " 'life',\n",
              " 'emerged',\n",
              " 'on',\n",
              " 'the',\n",
              " 'subcontinent',\n",
              " 'in',\n",
              " 'the',\n",
              " 'western',\n",
              " 'margins',\n",
              " 'of',\n",
              " 'the',\n",
              " 'Indus',\n",
              " 'river',\n",
              " 'basin',\n",
              " '9,000',\n",
              " 'years',\n",
              " 'ago,',\n",
              " 'evolving',\n",
              " 'gradually',\n",
              " 'into',\n",
              " 'the',\n",
              " 'Indus',\n",
              " 'Valley',\n",
              " 'Civilisation',\n",
              " 'of',\n",
              " 'the',\n",
              " 'third',\n",
              " 'millennium',\n",
              " 'BCE.[26]',\n",
              " 'By',\n",
              " 'at',\n",
              " 'least',\n",
              " '1200',\n",
              " 'BCE,',\n",
              " 'an',\n",
              " 'archaic',\n",
              " 'form',\n",
              " 'of',\n",
              " 'Sanskrit,',\n",
              " 'an',\n",
              " 'Indo-European',\n",
              " 'language,',\n",
              " 'had',\n",
              " 'diffused',\n",
              " 'into',\n",
              " 'India',\n",
              " 'from',\n",
              " 'the',\n",
              " 'northwest.[27][28]',\n",
              " 'Its',\n",
              " 'evidence',\n",
              " 'today',\n",
              " 'is',\n",
              " 'found',\n",
              " 'in',\n",
              " 'the',\n",
              " 'hymns',\n",
              " 'of',\n",
              " 'the',\n",
              " 'Rigveda.',\n",
              " 'Preserved',\n",
              " 'by',\n",
              " 'an',\n",
              " 'oral',\n",
              " 'tradition',\n",
              " 'that',\n",
              " 'was',\n",
              " 'resolutely',\n",
              " 'vigilant,',\n",
              " 'the',\n",
              " 'Rigveda',\n",
              " 'records',\n",
              " 'the',\n",
              " 'dawning',\n",
              " 'of',\n",
              " 'Hinduism',\n",
              " 'in',\n",
              " 'India.[29]',\n",
              " 'The',\n",
              " 'Dravidian',\n",
              " 'languages',\n",
              " 'of',\n",
              " 'India',\n",
              " 'were',\n",
              " 'supplanted',\n",
              " 'in',\n",
              " 'the',\n",
              " 'northern',\n",
              " 'and',\n",
              " 'western',\n",
              " 'regions.[30]',\n",
              " 'By',\n",
              " '400',\n",
              " 'BCE,',\n",
              " 'stratification',\n",
              " 'and',\n",
              " 'exclusion',\n",
              " 'by',\n",
              " 'caste',\n",
              " 'had',\n",
              " 'emerged',\n",
              " 'within',\n",
              " 'Hinduism,[31]',\n",
              " 'and',\n",
              " 'Buddhism',\n",
              " 'and',\n",
              " 'Jainism',\n",
              " 'had',\n",
              " 'arisen,',\n",
              " 'proclaiming',\n",
              " 'social',\n",
              " 'orders',\n",
              " 'unlinked',\n",
              " 'to',\n",
              " 'heredity.[32]',\n",
              " 'Early',\n",
              " 'political',\n",
              " 'consolidations',\n",
              " 'gave',\n",
              " 'rise',\n",
              " 'to',\n",
              " 'the',\n",
              " 'loose-knit',\n",
              " 'Maurya',\n",
              " 'and',\n",
              " 'Gupta',\n",
              " 'Empires',\n",
              " 'based',\n",
              " 'in',\n",
              " 'the',\n",
              " 'Ganges',\n",
              " 'Basin.[33]',\n",
              " 'Their',\n",
              " 'collective',\n",
              " 'era',\n",
              " 'was',\n",
              " 'suffused',\n",
              " 'with',\n",
              " 'wide-ranging',\n",
              " 'creativity,[34]',\n",
              " 'but',\n",
              " 'also',\n",
              " 'marked',\n",
              " 'by',\n",
              " 'the',\n",
              " 'declining',\n",
              " 'status',\n",
              " 'of',\n",
              " 'women,[35]',\n",
              " 'and',\n",
              " 'the',\n",
              " 'incorporation',\n",
              " 'of',\n",
              " 'untouchability',\n",
              " 'into',\n",
              " 'an',\n",
              " 'organised',\n",
              " 'system',\n",
              " 'of',\n",
              " 'belief.[l][36]',\n",
              " 'The',\n",
              " 'Middle',\n",
              " 'kingdoms',\n",
              " 'exported',\n",
              " 'Sanskrit',\n",
              " 'language,',\n",
              " 'south',\n",
              " 'Indian',\n",
              " 'scripts',\n",
              " 'and',\n",
              " 'religions',\n",
              " 'of',\n",
              " 'Hinduism',\n",
              " 'and',\n",
              " 'Buddhism',\n",
              " 'to',\n",
              " 'the',\n",
              " 'Southeast',\n",
              " 'Asia.[37]']"
            ]
          },
          "metadata": {},
          "execution_count": 92
        }
      ]
    },
    {
      "cell_type": "markdown",
      "source": [
        "### Space tokenizer: takes *space* (' ') as delimitter"
      ],
      "metadata": {
        "id": "rkqI9odQaWzq"
      }
    },
    {
      "cell_type": "code",
      "source": [
        "from nltk.tokenize import SpaceTokenizer\n",
        "sp = SpaceTokenizer()\n",
        "sp.tokenize(india)"
      ],
      "metadata": {
        "colab": {
          "base_uri": "https://localhost:8080/"
        },
        "id": "aA2lKMngZU63",
        "outputId": "c6ac60e1-2aaf-4f86-9706-e41abb66c8a7"
      },
      "execution_count": null,
      "outputs": [
        {
          "output_type": "execute_result",
          "data": {
            "text/plain": [
              "['India,',\n",
              " 'officially',\n",
              " 'the',\n",
              " 'Republic',\n",
              " 'of',\n",
              " 'India,[j][20]',\n",
              " 'is',\n",
              " 'a',\n",
              " 'country',\n",
              " 'in',\n",
              " 'South',\n",
              " 'Asia.\\n',\n",
              " 'It',\n",
              " 'is',\n",
              " 'the',\n",
              " 'seventh-largest',\n",
              " 'country',\n",
              " 'in',\n",
              " 'the',\n",
              " 'world',\n",
              " 'by',\n",
              " 'area',\n",
              " 'and',\n",
              " 'the',\n",
              " 'most',\n",
              " 'populous',\n",
              " 'country.',\n",
              " '\\n',\n",
              " 'Bounded',\n",
              " 'by',\n",
              " 'the',\n",
              " 'Indian',\n",
              " 'Ocean',\n",
              " 'on',\n",
              " 'the',\n",
              " 'south,',\n",
              " 'the',\n",
              " 'Arabian',\n",
              " 'Sea',\n",
              " 'on',\n",
              " 'the',\n",
              " 'southwest,',\n",
              " 'and',\n",
              " 'the',\n",
              " 'Bay',\n",
              " 'of',\n",
              " 'Bengal',\n",
              " 'on',\n",
              " 'the',\n",
              " 'southeast,\\n',\n",
              " '',\n",
              " 'it',\n",
              " 'shares',\n",
              " 'land',\n",
              " 'borders',\n",
              " 'with',\n",
              " 'Pakistan',\n",
              " 'to',\n",
              " 'the',\n",
              " 'west;[k]',\n",
              " 'China,',\n",
              " 'Nepal,',\n",
              " 'and',\n",
              " 'Bhutan',\n",
              " 'to',\n",
              " 'the',\n",
              " 'north;',\n",
              " 'and',\n",
              " 'Bangladesh',\n",
              " 'and',\n",
              " 'Myanmar',\n",
              " 'to',\n",
              " 'the',\n",
              " 'east.',\n",
              " '\\n',\n",
              " '',\n",
              " 'In',\n",
              " 'the',\n",
              " 'Indian',\n",
              " 'Ocean,',\n",
              " 'India',\n",
              " 'is',\n",
              " 'in',\n",
              " 'the',\n",
              " 'vicinity',\n",
              " 'of',\n",
              " 'Sri',\n",
              " 'Lanka',\n",
              " 'and',\n",
              " 'the',\n",
              " 'Maldives;',\n",
              " 'its',\n",
              " 'Andaman',\n",
              " 'and',\n",
              " 'Nicobar',\n",
              " 'Islands',\n",
              " 'share',\n",
              " 'a',\n",
              " 'maritime',\n",
              " 'border',\n",
              " 'with',\n",
              " 'Thailand,',\n",
              " 'Myanmar,',\n",
              " 'and',\n",
              " 'Indonesia.\\n\\nModern',\n",
              " 'humans',\n",
              " 'arrived',\n",
              " 'on',\n",
              " 'the',\n",
              " 'Indian',\n",
              " 'subcontinent',\n",
              " 'from',\n",
              " 'Africa',\n",
              " 'no',\n",
              " 'later',\n",
              " 'than',\n",
              " '55,000',\n",
              " 'years',\n",
              " 'ago.[22][23][24]',\n",
              " '\\nTheir',\n",
              " 'long',\n",
              " 'occupation,',\n",
              " 'initially',\n",
              " 'in',\n",
              " 'varying',\n",
              " 'forms',\n",
              " 'of',\n",
              " 'isolation',\n",
              " 'as',\n",
              " 'hunter-gatherers,',\n",
              " 'has',\n",
              " 'made',\n",
              " 'the',\n",
              " 'region',\n",
              " 'highly',\n",
              " 'diverse,',\n",
              " '\\nsecond',\n",
              " 'only',\n",
              " 'to',\n",
              " 'Africa',\n",
              " 'in',\n",
              " 'human',\n",
              " 'genetic',\n",
              " 'diversity.[25]',\n",
              " 'Settled',\n",
              " 'life',\n",
              " 'emerged',\n",
              " 'on',\n",
              " 'the',\n",
              " 'subcontinent',\n",
              " 'in',\n",
              " 'the',\n",
              " 'western',\n",
              " 'margins',\n",
              " 'of',\n",
              " 'the',\n",
              " 'Indus',\n",
              " 'river',\n",
              " 'basin',\n",
              " '9,000',\n",
              " 'years',\n",
              " 'ago,',\n",
              " '\\nevolving',\n",
              " 'gradually',\n",
              " 'into',\n",
              " 'the',\n",
              " 'Indus',\n",
              " 'Valley',\n",
              " 'Civilisation',\n",
              " 'of',\n",
              " 'the',\n",
              " 'third',\n",
              " 'millennium',\n",
              " 'BCE.[26]',\n",
              " 'By',\n",
              " 'at',\n",
              " 'least',\n",
              " '1200',\n",
              " 'BCE,',\n",
              " 'an',\n",
              " 'archaic',\n",
              " 'form',\n",
              " 'of',\n",
              " 'Sanskrit,',\n",
              " 'an',\n",
              " 'Indo-European',\n",
              " 'language,',\n",
              " '\\nhad',\n",
              " 'diffused',\n",
              " 'into',\n",
              " 'India',\n",
              " 'from',\n",
              " 'the',\n",
              " 'northwest.[27][28]',\n",
              " 'Its',\n",
              " 'evidence',\n",
              " 'today',\n",
              " 'is',\n",
              " 'found',\n",
              " 'in',\n",
              " 'the',\n",
              " 'hymns',\n",
              " 'of',\n",
              " 'the',\n",
              " 'Rigveda.',\n",
              " 'Preserved',\n",
              " 'by',\n",
              " 'an',\n",
              " 'oral',\n",
              " 'tradition',\n",
              " 'that',\n",
              " 'was',\n",
              " 'resolutely',\n",
              " 'vigilant,',\n",
              " '\\nthe',\n",
              " 'Rigveda',\n",
              " 'records',\n",
              " 'the',\n",
              " 'dawning',\n",
              " 'of',\n",
              " 'Hinduism',\n",
              " 'in',\n",
              " 'India.[29]',\n",
              " 'The',\n",
              " 'Dravidian',\n",
              " 'languages',\n",
              " 'of',\n",
              " 'India',\n",
              " 'were',\n",
              " 'supplanted',\n",
              " 'in',\n",
              " 'the',\n",
              " 'northern',\n",
              " 'and',\n",
              " 'western',\n",
              " 'regions.[30]',\n",
              " 'By',\n",
              " '400',\n",
              " 'BCE,',\n",
              " 'stratification\\n',\n",
              " 'and',\n",
              " 'exclusion',\n",
              " 'by',\n",
              " 'caste',\n",
              " 'had',\n",
              " 'emerged',\n",
              " 'within',\n",
              " 'Hinduism,[31]',\n",
              " 'and',\n",
              " 'Buddhism',\n",
              " 'and',\n",
              " 'Jainism',\n",
              " 'had',\n",
              " 'arisen,',\n",
              " 'proclaiming',\n",
              " 'social',\n",
              " 'orders',\n",
              " 'unlinked',\n",
              " 'to',\n",
              " 'heredity.[32]',\n",
              " 'Early',\n",
              " 'political',\n",
              " 'consolidations',\n",
              " '\\n',\n",
              " 'gave',\n",
              " 'rise',\n",
              " 'to',\n",
              " 'the',\n",
              " 'loose-knit',\n",
              " 'Maurya',\n",
              " 'and',\n",
              " 'Gupta',\n",
              " 'Empires',\n",
              " 'based',\n",
              " 'in',\n",
              " 'the',\n",
              " 'Ganges',\n",
              " 'Basin.[33]',\n",
              " 'Their',\n",
              " 'collective',\n",
              " 'era',\n",
              " 'was',\n",
              " 'suffused',\n",
              " 'with',\n",
              " 'wide-ranging',\n",
              " 'creativity,[34]',\n",
              " 'but',\n",
              " 'also',\n",
              " 'marked',\n",
              " 'by',\n",
              " 'the\\n',\n",
              " '',\n",
              " 'declining',\n",
              " 'status',\n",
              " 'of',\n",
              " 'women,[35]',\n",
              " 'and',\n",
              " 'the',\n",
              " 'incorporation',\n",
              " 'of',\n",
              " 'untouchability',\n",
              " 'into',\n",
              " 'an',\n",
              " 'organised',\n",
              " 'system',\n",
              " 'of',\n",
              " 'belief.[l][36]',\n",
              " 'The',\n",
              " 'Middle',\n",
              " 'kingdoms',\n",
              " 'exported',\n",
              " 'Sanskrit',\n",
              " 'language,',\n",
              " 'south',\n",
              " 'Indian',\n",
              " '\\n',\n",
              " '',\n",
              " 'scripts',\n",
              " 'and',\n",
              " 'religions',\n",
              " 'of',\n",
              " 'Hinduism',\n",
              " 'and',\n",
              " 'Buddhism',\n",
              " 'to',\n",
              " 'the',\n",
              " 'Southeast',\n",
              " 'Asia.[37]']"
            ]
          },
          "metadata": {},
          "execution_count": 93
        }
      ]
    },
    {
      "cell_type": "markdown",
      "source": [
        "### Line Tokenizer: takes *new line* as delimitter"
      ],
      "metadata": {
        "id": "mbmip-YWbNbO"
      }
    },
    {
      "cell_type": "code",
      "source": [
        "from nltk.tokenize import LineTokenizer\n",
        "ln = LineTokenizer()\n",
        "ln.tokenize(india)"
      ],
      "metadata": {
        "colab": {
          "base_uri": "https://localhost:8080/"
        },
        "id": "cUD10D8cai4p",
        "outputId": "fd937105-f2af-402d-aa7a-01fd2f8bbe42"
      },
      "execution_count": null,
      "outputs": [
        {
          "output_type": "execute_result",
          "data": {
            "text/plain": [
              "['India, officially the Republic of India,[j][20] is a country in South Asia.',\n",
              " ' It is the seventh-largest country in the world by area and the most populous country. ',\n",
              " ' Bounded by the Indian Ocean on the south, the Arabian Sea on the southwest, and the Bay of Bengal on the southeast,',\n",
              " '  it shares land borders with Pakistan to the west;[k] China, Nepal, and Bhutan to the north; and Bangladesh and Myanmar to the east. ',\n",
              " '  In the Indian Ocean, India is in the vicinity of Sri Lanka and the Maldives; its Andaman and Nicobar Islands share a maritime border with Thailand, Myanmar, and Indonesia.',\n",
              " 'Modern humans arrived on the Indian subcontinent from Africa no later than 55,000 years ago.[22][23][24] ',\n",
              " 'Their long occupation, initially in varying forms of isolation as hunter-gatherers, has made the region highly diverse, ',\n",
              " 'second only to Africa in human genetic diversity.[25] Settled life emerged on the subcontinent in the western margins of the Indus river basin 9,000 years ago, ',\n",
              " 'evolving gradually into the Indus Valley Civilisation of the third millennium BCE.[26] By at least 1200 BCE, an archaic form of Sanskrit, an Indo-European language, ',\n",
              " 'had diffused into India from the northwest.[27][28] Its evidence today is found in the hymns of the Rigveda. Preserved by an oral tradition that was resolutely vigilant, ',\n",
              " 'the Rigveda records the dawning of Hinduism in India.[29] The Dravidian languages of India were supplanted in the northern and western regions.[30] By 400 BCE, stratification',\n",
              " ' and exclusion by caste had emerged within Hinduism,[31] and Buddhism and Jainism had arisen, proclaiming social orders unlinked to heredity.[32] Early political consolidations ',\n",
              " ' gave rise to the loose-knit Maurya and Gupta Empires based in the Ganges Basin.[33] Their collective era was suffused with wide-ranging creativity,[34] but also marked by the',\n",
              " '  declining status of women,[35] and the incorporation of untouchability into an organised system of belief.[l][36] The Middle kingdoms exported Sanskrit language, south Indian ',\n",
              " '  scripts and religions of Hinduism and Buddhism to the Southeast Asia.[37]']"
            ]
          },
          "metadata": {},
          "execution_count": 94
        }
      ]
    },
    {
      "cell_type": "markdown",
      "source": [
        "### Tab tokenizier: takes *tab* as delimitter"
      ],
      "metadata": {
        "id": "8ZdoYxIUbeok"
      }
    },
    {
      "cell_type": "code",
      "source": [
        "from nltk.tokenize import TabTokenizer\n",
        "tk = TabTokenizer()\n",
        "tk.tokenize('a\\tb\\tc\\td')"
      ],
      "metadata": {
        "colab": {
          "base_uri": "https://localhost:8080/"
        },
        "id": "Dh9MFuJ5bZ4g",
        "outputId": "4c69146a-12ae-483e-c4dc-ae9158f147d1"
      },
      "execution_count": null,
      "outputs": [
        {
          "output_type": "execute_result",
          "data": {
            "text/plain": [
              "['a', 'b', 'c', 'd']"
            ]
          },
          "metadata": {},
          "execution_count": 95
        }
      ]
    },
    {
      "cell_type": "markdown",
      "source": [
        "### Tweet tokenizer"
      ],
      "metadata": {
        "id": "i6l8Vmiico0W"
      }
    },
    {
      "cell_type": "code",
      "source": [
        "data = '''Hello friends!:) How are you \\nWelcome to the world of Python Programming :$.'''\n",
        "from nltk.tokenize import TweetTokenizer\n",
        "tk = TweetTokenizer()\n",
        "tk.tokenize(data)"
      ],
      "metadata": {
        "colab": {
          "base_uri": "https://localhost:8080/"
        },
        "id": "nMy15zV5bjPY",
        "outputId": "c732948d-1597-4708-d18c-0db727424e2c"
      },
      "execution_count": null,
      "outputs": [
        {
          "output_type": "execute_result",
          "data": {
            "text/plain": [
              "['Hello',\n",
              " 'friends',\n",
              " '!',\n",
              " ':)',\n",
              " 'How',\n",
              " 'are',\n",
              " 'you',\n",
              " 'Welcome',\n",
              " 'to',\n",
              " 'the',\n",
              " 'world',\n",
              " 'of',\n",
              " 'Python',\n",
              " 'Programming',\n",
              " ':',\n",
              " '$',\n",
              " '.']"
            ]
          },
          "metadata": {},
          "execution_count": 97
        }
      ]
    },
    {
      "cell_type": "code",
      "source": [
        "data = '''Chase your dreams like the stars✨, they’re always shining bright in the sky! 🌌\"\n",
        "💪 \"Stay strong, keep smiling😊, and let success find you! 🚀'''"
      ],
      "metadata": {
        "id": "3PBUwEM8dw74"
      },
      "execution_count": null,
      "outputs": []
    },
    {
      "cell_type": "code",
      "source": [
        "# word tokenize can add every word with emoji if no space\n",
        "word_tokenize(data)"
      ],
      "metadata": {
        "colab": {
          "base_uri": "https://localhost:8080/"
        },
        "id": "JYjeaoPeetVg",
        "outputId": "63e3340c-ae2c-44f2-d1ac-45874613b3be"
      },
      "execution_count": null,
      "outputs": [
        {
          "output_type": "execute_result",
          "data": {
            "text/plain": [
              "['Chase',\n",
              " 'your',\n",
              " 'dreams',\n",
              " 'like',\n",
              " 'the',\n",
              " 'stars✨',\n",
              " ',',\n",
              " 'they',\n",
              " '’',\n",
              " 're',\n",
              " 'always',\n",
              " 'shining',\n",
              " 'bright',\n",
              " 'in',\n",
              " 'the',\n",
              " 'sky',\n",
              " '!',\n",
              " '🌌',\n",
              " \"''\",\n",
              " '💪',\n",
              " '``',\n",
              " 'Stay',\n",
              " 'strong',\n",
              " ',',\n",
              " 'keep',\n",
              " 'smiling😊',\n",
              " ',',\n",
              " 'and',\n",
              " 'let',\n",
              " 'success',\n",
              " 'find',\n",
              " 'you',\n",
              " '!',\n",
              " '🚀']"
            ]
          },
          "metadata": {},
          "execution_count": 101
        }
      ]
    },
    {
      "cell_type": "code",
      "source": [
        "# Tweet tokenize treates every emoji separately\n",
        "tk.tokenize(data)"
      ],
      "metadata": {
        "colab": {
          "base_uri": "https://localhost:8080/"
        },
        "id": "bsI2m2q3e3H6",
        "outputId": "c56064e6-dc44-4339-d29a-ec582c179f93"
      },
      "execution_count": null,
      "outputs": [
        {
          "output_type": "execute_result",
          "data": {
            "text/plain": [
              "['Chase',\n",
              " 'your',\n",
              " 'dreams',\n",
              " 'like',\n",
              " 'the',\n",
              " 'stars',\n",
              " '✨',\n",
              " ',',\n",
              " 'they',\n",
              " '’',\n",
              " 're',\n",
              " 'always',\n",
              " 'shining',\n",
              " 'bright',\n",
              " 'in',\n",
              " 'the',\n",
              " 'sky',\n",
              " '!',\n",
              " '🌌',\n",
              " '\"',\n",
              " '💪',\n",
              " '\"',\n",
              " 'Stay',\n",
              " 'strong',\n",
              " ',',\n",
              " 'keep',\n",
              " 'smiling',\n",
              " '😊',\n",
              " ',',\n",
              " 'and',\n",
              " 'let',\n",
              " 'success',\n",
              " 'find',\n",
              " 'you',\n",
              " '!',\n",
              " '🚀']"
            ]
          },
          "metadata": {},
          "execution_count": 104
        }
      ]
    },
    {
      "cell_type": "markdown",
      "source": [
        "### MWE (Multi word Extension) tokenizer"
      ],
      "metadata": {
        "id": "zrleXP0zfoKJ"
      }
    },
    {
      "cell_type": "code",
      "source": [
        "from nltk.tokenize import MWETokenizer"
      ],
      "metadata": {
        "id": "BRWX2vPje9lX"
      },
      "execution_count": null,
      "outputs": []
    },
    {
      "cell_type": "code",
      "source": [
        "data = 'Van Rossom is in Pune today. We welcomed Van Rossom here.'"
      ],
      "metadata": {
        "id": "Q24c5S49f5Dk"
      },
      "execution_count": null,
      "outputs": []
    },
    {
      "cell_type": "code",
      "source": [
        "tk = MWETokenizer(separator=' ')"
      ],
      "metadata": {
        "id": "BbKqPzRVgNV2"
      },
      "execution_count": null,
      "outputs": []
    },
    {
      "cell_type": "code",
      "source": [
        "tk.add_mwe(('Van', 'Rossom'))"
      ],
      "metadata": {
        "id": "G46yHZYQgPvk"
      },
      "execution_count": null,
      "outputs": []
    },
    {
      "cell_type": "code",
      "source": [
        "tk.tokenize(word_tokenize(data))"
      ],
      "metadata": {
        "colab": {
          "base_uri": "https://localhost:8080/"
        },
        "id": "INXMVYjngU39",
        "outputId": "fcc011b4-3099-4276-adaa-4f166057c6fd"
      },
      "execution_count": null,
      "outputs": [
        {
          "output_type": "execute_result",
          "data": {
            "text/plain": [
              "['Van Rossom',\n",
              " 'is',\n",
              " 'in',\n",
              " 'Pune',\n",
              " 'today',\n",
              " '.',\n",
              " 'We',\n",
              " 'welcomed',\n",
              " 'Van Rossom',\n",
              " 'here',\n",
              " '.']"
            ]
          },
          "metadata": {},
          "execution_count": 114
        }
      ]
    },
    {
      "cell_type": "code",
      "source": [
        "s1 = \"She is Sasha Sloan. And she is a good girl. Sasha Sloan is a famous singer too\"\n",
        "mwe_tk = MWETokenizer(separator=' ')\n",
        "mwe_tk.add_mwe(('Sasha', 'Sloan'))\n",
        "# In word tokenize the words added to MWE tokenizer will be treated as same word\n",
        "mwe_tk.tokenize(word_tokenize(s1))"
      ],
      "metadata": {
        "colab": {
          "base_uri": "https://localhost:8080/"
        },
        "id": "tRjyz2wZjDeU",
        "outputId": "d6b3a3fc-8e3e-47ac-e2f1-9977d47aae5f"
      },
      "execution_count": null,
      "outputs": [
        {
          "output_type": "execute_result",
          "data": {
            "text/plain": [
              "['She',\n",
              " 'is',\n",
              " 'Sasha Sloan',\n",
              " '.',\n",
              " 'And',\n",
              " 'she',\n",
              " 'is',\n",
              " 'a',\n",
              " 'good',\n",
              " 'girl',\n",
              " '.',\n",
              " 'Sasha Sloan',\n",
              " 'is',\n",
              " 'a',\n",
              " 'famous',\n",
              " 'singer',\n",
              " 'too']"
            ]
          },
          "metadata": {},
          "execution_count": 117
        }
      ]
    },
    {
      "cell_type": "markdown",
      "source": [
        "### Custom Tokenizer"
      ],
      "metadata": {
        "id": "BGhHe3Djh1qP"
      }
    },
    {
      "cell_type": "code",
      "source": [
        "import re\n",
        "\n",
        "def custom_tokenizer(text):\n",
        "  return re.split(r\"[.,;?\\s]+\",text)\n",
        "\n",
        "text = \"This is some text with punctuation > Let's tokanize it. Is it ok?\"\n",
        "\n",
        "tokens = custom_tokenizer(text)\n",
        "print(\"tokens\")\n",
        "\n",
        "for token in tokens:\n",
        "  print(token)"
      ],
      "metadata": {
        "colab": {
          "base_uri": "https://localhost:8080/"
        },
        "id": "dJY7QK3nh-rh",
        "outputId": "96b0e359-0606-40d3-d5c9-c4810ff5aaa3"
      },
      "execution_count": null,
      "outputs": [
        {
          "output_type": "stream",
          "name": "stdout",
          "text": [
            "tokens\n",
            "This\n",
            "is\n",
            "some\n",
            "text\n",
            "with\n",
            "punctuation\n",
            ">\n",
            "Let's\n",
            "tokanize\n",
            "it\n",
            "Is\n",
            "it\n",
            "ok\n",
            "\n"
          ]
        }
      ]
    },
    {
      "cell_type": "code",
      "source": [],
      "metadata": {
        "id": "0_Sp06YeiinQ"
      },
      "execution_count": null,
      "outputs": []
    }
  ]
}