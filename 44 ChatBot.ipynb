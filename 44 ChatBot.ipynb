{
 "cells": [
  {
   "cell_type": "code",
   "execution_count": 1,
   "id": "279b0d44-108f-45a1-a73f-85f078238b8d",
   "metadata": {},
   "outputs": [],
   "source": [
    "import nltk\n",
    "import random\n",
    "from nltk.stem import WordNetLemmatizer"
   ]
  },
  {
   "cell_type": "code",
   "execution_count": 2,
   "id": "d00a0ca8-19b4-4194-b681-f7c768866d9f",
   "metadata": {},
   "outputs": [],
   "source": [
    "# define chatbot responses an intents\n",
    "responses = {\n",
    "    'greeting': ['Hello', 'Hi there!', 'Hey', 'Howdy!'],\n",
    "    'goodbye': ['Goodbye!','See you later.','Take care', 'Bye'],\n",
    "    'thanks': [\"You're welcome\", 'Glad to help!', 'Anytime', 'Happy to assist!'],\n",
    "    'default': [\"Sorry I did not understand\", \"Can you repeat!?\", \"I'm not sure I understand\"]\n",
    "}"
   ]
  },
  {
   "cell_type": "code",
   "execution_count": 3,
   "id": "a6a2a61e-8f2b-439c-9975-89819096ce43",
   "metadata": {},
   "outputs": [],
   "source": [
    "# simple set of questions and responses/ patterns\n",
    "patterns = {\n",
    "    'hi':'greeting',\n",
    "    'hello':'greeting',\n",
    "    'hey':'greeting',\n",
    "    'bye':'goodbye',\n",
    "    'thanks':'thanks',\n",
    "    'thank you': 'thanks',\n",
    "    'thank': 'thanks'\n",
    "}"
   ]
  },
  {
   "cell_type": "code",
   "execution_count": 4,
   "id": "075e7f32-0aac-49cb-b23b-729d2be80991",
   "metadata": {},
   "outputs": [],
   "source": [
    "# matches the user input\n",
    "def respond(user_input):\n",
    "    for word in nltk.word_tokenize(user_input.lower()):\n",
    "        if word in patterns:\n",
    "            intent = patterns[word]\n",
    "            return random.choice(responses[intent])\n",
    "    return random.choice(responses['default'])        "
   ]
  },
  {
   "cell_type": "code",
   "execution_count": 5,
   "id": "b7ba35b4-d946-4c7b-a5df-4b6247ca3e53",
   "metadata": {},
   "outputs": [
    {
     "data": {
      "text/plain": [
       "'Hi there!'"
      ]
     },
     "execution_count": 5,
     "metadata": {},
     "output_type": "execute_result"
    }
   ],
   "source": [
    "respond('Hi')"
   ]
  },
  {
   "cell_type": "code",
   "execution_count": 6,
   "id": "3a56beed-3458-4c5b-ae9d-a7cbe85fea4c",
   "metadata": {},
   "outputs": [],
   "source": [
    "\n",
    "def chat():\n",
    "    print('''Chatbot: How can I help you today? (Type \"exit\") to quit''')\n",
    "    while True:\n",
    "        user_input = input(\"You: \")\n",
    "        if user_input.lower() == 'exit':\n",
    "            break\n",
    "        response = respond (user_input)\n",
    "        print(\"Chatbot: \", response)"
   ]
  },
  {
   "cell_type": "code",
   "execution_count": null,
   "id": "a5f8f16d-d744-4bdd-9a65-c8b33e5763f9",
   "metadata": {},
   "outputs": [
    {
     "name": "stdout",
     "output_type": "stream",
     "text": [
      "Chatbot: How can I help you today? (Type \"exit\") to quit\n"
     ]
    },
    {
     "name": "stdin",
     "output_type": "stream",
     "text": [
      "You:  hey\n"
     ]
    },
    {
     "name": "stdout",
     "output_type": "stream",
     "text": [
      "Chatbot:  Hello\n"
     ]
    },
    {
     "name": "stdin",
     "output_type": "stream",
     "text": [
      "You:  Thank you\n"
     ]
    },
    {
     "name": "stdout",
     "output_type": "stream",
     "text": [
      "Chatbot:  Glad to help!\n"
     ]
    },
    {
     "name": "stdin",
     "output_type": "stream",
     "text": [
      "You:  bye\n"
     ]
    },
    {
     "name": "stdout",
     "output_type": "stream",
     "text": [
      "Chatbot:  Bye\n"
     ]
    }
   ],
   "source": [
    "chat()"
   ]
  },
  {
   "cell_type": "code",
   "execution_count": null,
   "id": "0ae20cd6-2cd2-4480-ba97-c545b56e0e2f",
   "metadata": {},
   "outputs": [],
   "source": []
  }
 ],
 "metadata": {
  "kernelspec": {
   "display_name": "Python 3 (ipykernel)",
   "language": "python",
   "name": "python3"
  },
  "language_info": {
   "codemirror_mode": {
    "name": "ipython",
    "version": 3
   },
   "file_extension": ".py",
   "mimetype": "text/x-python",
   "name": "python",
   "nbconvert_exporter": "python",
   "pygments_lexer": "ipython3",
   "version": "3.12.7"
  }
 },
 "nbformat": 4,
 "nbformat_minor": 5
}
