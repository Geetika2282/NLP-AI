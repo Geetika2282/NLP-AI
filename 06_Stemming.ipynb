{
  "nbformat": 4,
  "nbformat_minor": 0,
  "metadata": {
    "colab": {
      "provenance": [],
      "include_colab_link": true
    },
    "kernelspec": {
      "name": "python3",
      "display_name": "Python 3"
    },
    "language_info": {
      "name": "python"
    }
  },
  "cells": [
    {
      "cell_type": "markdown",
      "metadata": {
        "id": "view-in-github",
        "colab_type": "text"
      },
      "source": [
        "<a href=\"https://colab.research.google.com/github/Geetika2282/NLP-AI/blob/main/06_Stemming.ipynb\" target=\"_parent\"><img src=\"https://colab.research.google.com/assets/colab-badge.svg\" alt=\"Open In Colab\"/></a>"
      ]
    },
    {
      "cell_type": "code",
      "execution_count": null,
      "metadata": {
        "id": "XxR_iTBtoSRZ"
      },
      "outputs": [],
      "source": [
        "words1 = 'managing','manage','management','managerial','managed'\n",
        "words2 = 'worked','workable','working','worked'\n",
        "words3 = 'big','biggest','bigger'\n",
        "words4 = 'go','gone','went','going'\n",
        "words5 = 'association','associated','associate'"
      ]
    },
    {
      "cell_type": "code",
      "source": [
        "type(words1)"
      ],
      "metadata": {
        "colab": {
          "base_uri": "https://localhost:8080/"
        },
        "id": "FWBobrWso670",
        "outputId": "bf31e37c-81d0-4007-83af-085448bea686"
      },
      "execution_count": null,
      "outputs": [
        {
          "output_type": "execute_result",
          "data": {
            "text/plain": [
              "tuple"
            ]
          },
          "metadata": {},
          "execution_count": 2
        }
      ]
    },
    {
      "cell_type": "markdown",
      "source": [
        "## Porter Stemmer"
      ],
      "metadata": {
        "id": "Pkr7a3COpnKj"
      }
    },
    {
      "cell_type": "code",
      "source": [
        "from nltk.stem import PorterStemmer"
      ],
      "metadata": {
        "id": "kNghYaYeo_8u"
      },
      "execution_count": null,
      "outputs": []
    },
    {
      "cell_type": "code",
      "source": [
        "ps = PorterStemmer()"
      ],
      "metadata": {
        "id": "W_zSbAE0przH"
      },
      "execution_count": null,
      "outputs": []
    },
    {
      "cell_type": "code",
      "source": [
        "ps.stem(words1[2])"
      ],
      "metadata": {
        "colab": {
          "base_uri": "https://localhost:8080/",
          "height": 36
        },
        "id": "SELYyHPkpuTG",
        "outputId": "44019e14-5539-415f-be12-0c7be306ad74"
      },
      "execution_count": null,
      "outputs": [
        {
          "output_type": "execute_result",
          "data": {
            "text/plain": [
              "'manag'"
            ],
            "application/vnd.google.colaboratory.intrinsic+json": {
              "type": "string"
            }
          },
          "metadata": {},
          "execution_count": 5
        }
      ]
    },
    {
      "cell_type": "code",
      "source": [
        "ps.stem(words3[2])"
      ],
      "metadata": {
        "colab": {
          "base_uri": "https://localhost:8080/",
          "height": 36
        },
        "id": "HFMGlbI1pzzD",
        "outputId": "2f4fb5f5-8ee3-4a1e-956d-066c7fa210cc"
      },
      "execution_count": null,
      "outputs": [
        {
          "output_type": "execute_result",
          "data": {
            "text/plain": [
              "'bigger'"
            ],
            "application/vnd.google.colaboratory.intrinsic+json": {
              "type": "string"
            }
          },
          "metadata": {},
          "execution_count": 8
        }
      ]
    },
    {
      "cell_type": "code",
      "source": [
        "ps.stem(words5[0])"
      ],
      "metadata": {
        "colab": {
          "base_uri": "https://localhost:8080/",
          "height": 36
        },
        "id": "E3At50Sgp7se",
        "outputId": "e8bae41d-df0a-449a-8b85-5c1d6c2af6c1"
      },
      "execution_count": null,
      "outputs": [
        {
          "output_type": "execute_result",
          "data": {
            "text/plain": [
              "'associ'"
            ],
            "application/vnd.google.colaboratory.intrinsic+json": {
              "type": "string"
            }
          },
          "metadata": {},
          "execution_count": 9
        }
      ]
    },
    {
      "cell_type": "code",
      "source": [
        "for word in words1:\n",
        "  print(word,'-->',ps.stem(word))"
      ],
      "metadata": {
        "colab": {
          "base_uri": "https://localhost:8080/"
        },
        "id": "OKllDNNPqA79",
        "outputId": "18b22734-3569-4a23-f2b6-f953b7767c61"
      },
      "execution_count": null,
      "outputs": [
        {
          "output_type": "stream",
          "name": "stdout",
          "text": [
            "managing --> manag\n",
            "manage --> manag\n",
            "management --> manag\n",
            "managerial --> manageri\n",
            "managed --> manag\n"
          ]
        }
      ]
    },
    {
      "cell_type": "code",
      "source": [
        "for word in words2:\n",
        "  print(word,'-->',ps.stem(word))"
      ],
      "metadata": {
        "colab": {
          "base_uri": "https://localhost:8080/"
        },
        "id": "HMfdz5uaqly5",
        "outputId": "04ca60a2-1b96-43ba-ccbc-b51804b1c33d"
      },
      "execution_count": null,
      "outputs": [
        {
          "output_type": "stream",
          "name": "stdout",
          "text": [
            "worked --> work\n",
            "workable --> workabl\n",
            "working --> work\n",
            "worked --> work\n"
          ]
        }
      ]
    },
    {
      "cell_type": "code",
      "source": [
        "for word in words3:\n",
        "  print(word,'-->',ps.stem(word))"
      ],
      "metadata": {
        "colab": {
          "base_uri": "https://localhost:8080/"
        },
        "id": "Zyd8bYPiqsPW",
        "outputId": "be557b50-b63d-4282-8f8d-15c413953c2c"
      },
      "execution_count": null,
      "outputs": [
        {
          "output_type": "stream",
          "name": "stdout",
          "text": [
            "big --> big\n",
            "biggest --> biggest\n",
            "bigger --> bigger\n"
          ]
        }
      ]
    },
    {
      "cell_type": "code",
      "source": [
        "for word in words4:\n",
        "  print(word,'-->',ps.stem(word))"
      ],
      "metadata": {
        "colab": {
          "base_uri": "https://localhost:8080/"
        },
        "id": "Lb8pBc5Dq9jc",
        "outputId": "03fd529b-813e-47ca-e8ef-56c1b1fa1b2c"
      },
      "execution_count": null,
      "outputs": [
        {
          "output_type": "stream",
          "name": "stdout",
          "text": [
            "go --> go\n",
            "gone --> gone\n",
            "went --> went\n",
            "going --> go\n"
          ]
        }
      ]
    },
    {
      "cell_type": "code",
      "source": [
        "for word in words5:\n",
        "  print(word,'-->',ps.stem(word))"
      ],
      "metadata": {
        "colab": {
          "base_uri": "https://localhost:8080/"
        },
        "id": "TE4GN1Tmq_vM",
        "outputId": "851ac017-50c2-4aa4-db70-ffe6c0f648c5"
      },
      "execution_count": null,
      "outputs": [
        {
          "output_type": "stream",
          "name": "stdout",
          "text": [
            "association --> associ\n",
            "associated --> associ\n",
            "associate --> associ\n"
          ]
        }
      ]
    },
    {
      "cell_type": "code",
      "source": [
        "text = 'Hello friends! How are you? I like Python Programming.'"
      ],
      "metadata": {
        "id": "MEQvbLIurBSK"
      },
      "execution_count": null,
      "outputs": []
    },
    {
      "cell_type": "code",
      "source": [
        "from nltk.tokenize import word_tokenize\n",
        "from nltk.corpus import stopwords\n",
        "import string\n",
        "import nltk\n",
        "nltk.download('punkt_tab')"
      ],
      "metadata": {
        "colab": {
          "base_uri": "https://localhost:8080/"
        },
        "id": "KO4fO5Uor3nO",
        "outputId": "cc7b37f8-80e1-4cd8-9df0-48729b855b13"
      },
      "execution_count": null,
      "outputs": [
        {
          "output_type": "stream",
          "name": "stderr",
          "text": [
            "[nltk_data] Downloading package punkt_tab to /root/nltk_data...\n",
            "[nltk_data]   Unzipping tokenizers/punkt_tab.zip.\n"
          ]
        },
        {
          "output_type": "execute_result",
          "data": {
            "text/plain": [
              "True"
            ]
          },
          "metadata": {},
          "execution_count": 19
        }
      ]
    },
    {
      "cell_type": "code",
      "source": [
        "# remove punctuation\n",
        "tokens1 = [word for word in word_tokenize(text) if word not in string.punctuation]"
      ],
      "metadata": {
        "id": "-eEyfJkOsNfx"
      },
      "execution_count": null,
      "outputs": []
    },
    {
      "cell_type": "code",
      "source": [
        "tokens1"
      ],
      "metadata": {
        "colab": {
          "base_uri": "https://localhost:8080/"
        },
        "id": "L777roQKsYRL",
        "outputId": "19a0a0c2-8289-49da-eecc-3353a9d192a0"
      },
      "execution_count": null,
      "outputs": [
        {
          "output_type": "execute_result",
          "data": {
            "text/plain": [
              "['Hello', 'friends', 'How', 'are', 'you', 'I', 'like', 'Python', 'Programming']"
            ]
          },
          "metadata": {},
          "execution_count": 21
        }
      ]
    },
    {
      "cell_type": "code",
      "source": [
        "# remove stopwords\n",
        "nltk.download('stopwords')\n",
        "swords = stopwords.words('english')\n",
        "tokens2 = [word for word in tokens1 if word.lower() not in swords]\n",
        "tokens2"
      ],
      "metadata": {
        "colab": {
          "base_uri": "https://localhost:8080/"
        },
        "id": "6bXpj3vosiB2",
        "outputId": "298de279-de8b-4b7b-b6e7-6fbacb3903d3"
      },
      "execution_count": null,
      "outputs": [
        {
          "output_type": "stream",
          "name": "stderr",
          "text": [
            "[nltk_data] Downloading package stopwords to /root/nltk_data...\n",
            "[nltk_data]   Package stopwords is already up-to-date!\n"
          ]
        },
        {
          "output_type": "execute_result",
          "data": {
            "text/plain": [
              "['Hello', 'friends', 'like', 'Python', 'Programming']"
            ]
          },
          "metadata": {},
          "execution_count": 25
        }
      ]
    },
    {
      "cell_type": "code",
      "source": [
        "# Stemming on each word\n",
        "for word in tokens2:\n",
        "  print(word,'-->',ps.stem(word))"
      ],
      "metadata": {
        "colab": {
          "base_uri": "https://localhost:8080/"
        },
        "id": "3lRo4OODswNO",
        "outputId": "2f8b307e-5d4f-4068-af88-086fdd551a9e"
      },
      "execution_count": null,
      "outputs": [
        {
          "output_type": "stream",
          "name": "stdout",
          "text": [
            "Hello --> hello\n",
            "friends --> friend\n",
            "like --> like\n",
            "Python --> python\n",
            "Programming --> program\n"
          ]
        }
      ]
    },
    {
      "cell_type": "code",
      "source": [
        "# Applied stemming directly here without removing punctuation or stop words\n",
        "tokens2 = [ps.stem(word) for word in tokens1 if word.lower() not in swords]\n",
        "tokens2"
      ],
      "metadata": {
        "colab": {
          "base_uri": "https://localhost:8080/"
        },
        "id": "owi9UgBFtYqX",
        "outputId": "cad3f2d7-7a54-40c2-97c4-6ec713e6e713"
      },
      "execution_count": null,
      "outputs": [
        {
          "output_type": "execute_result",
          "data": {
            "text/plain": [
              "['hello', 'friend', 'like', 'python', 'program']"
            ]
          },
          "metadata": {},
          "execution_count": 30
        }
      ]
    },
    {
      "cell_type": "markdown",
      "source": [
        "### Lancaster Stemmer"
      ],
      "metadata": {
        "id": "uzoI33jPuiXZ"
      }
    },
    {
      "cell_type": "code",
      "source": [
        "from nltk.stem import LancasterStemmer"
      ],
      "metadata": {
        "id": "CD5OxVhzuDWv"
      },
      "execution_count": null,
      "outputs": []
    },
    {
      "cell_type": "code",
      "source": [
        "ls = LancasterStemmer()\n",
        "ls.stem(words1[0])"
      ],
      "metadata": {
        "colab": {
          "base_uri": "https://localhost:8080/",
          "height": 36
        },
        "id": "N6iTuSbnu78r",
        "outputId": "62489e3d-aa69-4741-e475-b45df7a2fc29"
      },
      "execution_count": null,
      "outputs": [
        {
          "output_type": "execute_result",
          "data": {
            "text/plain": [
              "'man'"
            ],
            "application/vnd.google.colaboratory.intrinsic+json": {
              "type": "string"
            }
          },
          "metadata": {},
          "execution_count": 33
        }
      ]
    },
    {
      "cell_type": "code",
      "source": [
        "for word in words1:\n",
        "  print(word,'-->',ls.stem(word))"
      ],
      "metadata": {
        "colab": {
          "base_uri": "https://localhost:8080/"
        },
        "id": "EIY8wsWDvHKe",
        "outputId": "900ec29c-0e12-454f-f4d6-c04912f47c54"
      },
      "execution_count": null,
      "outputs": [
        {
          "output_type": "stream",
          "name": "stdout",
          "text": [
            "managing --> man\n",
            "manage --> man\n",
            "management --> man\n",
            "managerial --> man\n",
            "managed --> man\n"
          ]
        }
      ]
    },
    {
      "cell_type": "code",
      "source": [
        "for words in words2:\n",
        "  print(words,'-->',ls.stem(words))"
      ],
      "metadata": {
        "colab": {
          "base_uri": "https://localhost:8080/"
        },
        "id": "kkFQIYpVvTmA",
        "outputId": "bc7bff0a-f487-4016-914f-def0798ce38a"
      },
      "execution_count": null,
      "outputs": [
        {
          "output_type": "stream",
          "name": "stdout",
          "text": [
            "worked --> work\n",
            "workable --> work\n",
            "working --> work\n",
            "worked --> work\n"
          ]
        }
      ]
    },
    {
      "cell_type": "code",
      "source": [
        "for word in words3:\n",
        "  print(word,'-->',ls.stem(word))"
      ],
      "metadata": {
        "colab": {
          "base_uri": "https://localhost:8080/"
        },
        "id": "4GY5ThTQve3C",
        "outputId": "991d9062-fe1e-4f2e-f3a4-9d61445ed45c"
      },
      "execution_count": null,
      "outputs": [
        {
          "output_type": "stream",
          "name": "stdout",
          "text": [
            "big --> big\n",
            "biggest --> biggest\n",
            "bigger --> big\n"
          ]
        }
      ]
    },
    {
      "cell_type": "code",
      "source": [
        "for word in words4:\n",
        "  print(word,'-->',ls.stem(word))"
      ],
      "metadata": {
        "colab": {
          "base_uri": "https://localhost:8080/"
        },
        "id": "ucUWAcYkvjdv",
        "outputId": "d1cbfc8f-6d80-4a39-f354-70aa7594e0a7"
      },
      "execution_count": null,
      "outputs": [
        {
          "output_type": "stream",
          "name": "stdout",
          "text": [
            "go --> go\n",
            "gone --> gon\n",
            "went --> went\n",
            "going --> going\n"
          ]
        }
      ]
    },
    {
      "cell_type": "code",
      "source": [
        "for word in words5:\n",
        "  print(word,'-->',ls.stem(word))"
      ],
      "metadata": {
        "colab": {
          "base_uri": "https://localhost:8080/"
        },
        "id": "sBVr8KKhvwmw",
        "outputId": "3819ec6b-5168-4054-df74-fa9e69843d36"
      },
      "execution_count": null,
      "outputs": [
        {
          "output_type": "stream",
          "name": "stdout",
          "text": [
            "association --> assocy\n",
            "associated --> assocy\n",
            "associate --> assocy\n"
          ]
        }
      ]
    },
    {
      "cell_type": "markdown",
      "source": [
        "#### Snowball stemmer"
      ],
      "metadata": {
        "id": "OiADHEuSwgel"
      }
    },
    {
      "cell_type": "code",
      "source": [
        "from nltk.stem import SnowballStemmer"
      ],
      "metadata": {
        "id": "TIPaehocvyPv"
      },
      "execution_count": null,
      "outputs": []
    },
    {
      "cell_type": "code",
      "source": [
        "ss = SnowballStemmer('english')"
      ],
      "metadata": {
        "id": "SP_XrqT8wnrA"
      },
      "execution_count": null,
      "outputs": []
    },
    {
      "cell_type": "code",
      "source": [
        "for word in words1:\n",
        "  print(word,'-->',ss.stem(word))"
      ],
      "metadata": {
        "colab": {
          "base_uri": "https://localhost:8080/"
        },
        "id": "WXc9VKpIwqzu",
        "outputId": "ed53ed58-c5c0-4026-b163-278ec1b71e65"
      },
      "execution_count": null,
      "outputs": [
        {
          "output_type": "stream",
          "name": "stdout",
          "text": [
            "managing --> manag\n",
            "manage --> manag\n",
            "management --> manag\n",
            "managerial --> manageri\n",
            "managed --> manag\n"
          ]
        }
      ]
    },
    {
      "cell_type": "code",
      "source": [
        "for word in words2:\n",
        "  print(word,'-->',ss.stem(word))"
      ],
      "metadata": {
        "colab": {
          "base_uri": "https://localhost:8080/"
        },
        "id": "b6C-2Ddxwsy9",
        "outputId": "6c0bb93a-77a3-482a-ed09-61efd52ab66d"
      },
      "execution_count": null,
      "outputs": [
        {
          "output_type": "stream",
          "name": "stdout",
          "text": [
            "worked --> work\n",
            "workable --> workabl\n",
            "working --> work\n",
            "worked --> work\n"
          ]
        }
      ]
    },
    {
      "cell_type": "code",
      "source": [
        "for word in words3:\n",
        "  print(word,'-->',ss.stem(word))"
      ],
      "metadata": {
        "colab": {
          "base_uri": "https://localhost:8080/"
        },
        "id": "MtWP97bNxFrs",
        "outputId": "a8bb1d64-bbaa-427e-f26a-8524669dd5f4"
      },
      "execution_count": null,
      "outputs": [
        {
          "output_type": "stream",
          "name": "stdout",
          "text": [
            "big --> big\n",
            "biggest --> biggest\n",
            "bigger --> bigger\n"
          ]
        }
      ]
    },
    {
      "cell_type": "code",
      "source": [
        "for word in words4:\n",
        "  print(word,'-->',ss.stem(word))"
      ],
      "metadata": {
        "colab": {
          "base_uri": "https://localhost:8080/"
        },
        "id": "s92nKYanxHcr",
        "outputId": "f91f0f7a-c334-4c55-a345-4e9dc56aa087"
      },
      "execution_count": null,
      "outputs": [
        {
          "output_type": "stream",
          "name": "stdout",
          "text": [
            "go --> go\n",
            "gone --> gone\n",
            "went --> went\n",
            "going --> go\n"
          ]
        }
      ]
    },
    {
      "cell_type": "code",
      "source": [
        "for word in words5:\n",
        "  print(word,'-->',ss.stem(word))"
      ],
      "metadata": {
        "colab": {
          "base_uri": "https://localhost:8080/"
        },
        "id": "o4RaHAanxIqr",
        "outputId": "659e05eb-16c2-4ffa-ca35-e3a84be81aaa"
      },
      "execution_count": null,
      "outputs": [
        {
          "output_type": "stream",
          "name": "stdout",
          "text": [
            "association --> associ\n",
            "associated --> associ\n",
            "associate --> associ\n"
          ]
        }
      ]
    },
    {
      "cell_type": "code",
      "source": [
        "ss.languages"
      ],
      "metadata": {
        "colab": {
          "base_uri": "https://localhost:8080/"
        },
        "id": "XtD0bgZ4xKXp",
        "outputId": "575d4c54-452d-43e8-81fe-5a9ae46fdcbe"
      },
      "execution_count": null,
      "outputs": [
        {
          "output_type": "execute_result",
          "data": {
            "text/plain": [
              "('arabic',\n",
              " 'danish',\n",
              " 'dutch',\n",
              " 'english',\n",
              " 'finnish',\n",
              " 'french',\n",
              " 'german',\n",
              " 'hungarian',\n",
              " 'italian',\n",
              " 'norwegian',\n",
              " 'porter',\n",
              " 'portuguese',\n",
              " 'romanian',\n",
              " 'russian',\n",
              " 'spanish',\n",
              " 'swedish')"
            ]
          },
          "metadata": {},
          "execution_count": 46
        }
      ]
    },
    {
      "cell_type": "code",
      "source": [],
      "metadata": {
        "id": "oUmUjoHdyQJH"
      },
      "execution_count": null,
      "outputs": []
    }
  ]
}