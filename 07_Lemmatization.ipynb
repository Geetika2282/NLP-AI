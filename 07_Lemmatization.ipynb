{
  "nbformat": 4,
  "nbformat_minor": 0,
  "metadata": {
    "colab": {
      "provenance": [],
      "include_colab_link": true
    },
    "kernelspec": {
      "name": "python3",
      "display_name": "Python 3"
    },
    "language_info": {
      "name": "python"
    }
  },
  "cells": [
    {
      "cell_type": "markdown",
      "metadata": {
        "id": "view-in-github",
        "colab_type": "text"
      },
      "source": [
        "<a href=\"https://colab.research.google.com/github/Geetika2282/NLP-AI/blob/main/07_Lemmatization.ipynb\" target=\"_parent\"><img src=\"https://colab.research.google.com/assets/colab-badge.svg\" alt=\"Open In Colab\"/></a>"
      ]
    },
    {
      "cell_type": "code",
      "source": [
        "from nltk.stem import WordNetLemmatizer\n",
        "import nltk\n",
        "nltk.download('wordnet')"
      ],
      "metadata": {
        "colab": {
          "base_uri": "https://localhost:8080/"
        },
        "id": "MsODkZ89zU7x",
        "outputId": "4e9abde9-ce31-4b24-85dd-63f8779a511a"
      },
      "execution_count": null,
      "outputs": [
        {
          "output_type": "stream",
          "name": "stderr",
          "text": [
            "[nltk_data] Downloading package wordnet to /root/nltk_data...\n",
            "[nltk_data]   Package wordnet is already up-to-date!\n"
          ]
        },
        {
          "output_type": "execute_result",
          "data": {
            "text/plain": [
              "True"
            ]
          },
          "metadata": {},
          "execution_count": 51
        }
      ]
    },
    {
      "cell_type": "code",
      "execution_count": null,
      "metadata": {
        "id": "pi2alAd4zN_4"
      },
      "outputs": [],
      "source": [
        "words1 = 'managing','manage','management','managerial','managed'\n",
        "words2 = 'worked','workable','working','worked'\n",
        "words3 = 'big','biggest','bigger'\n",
        "words4 = 'go','gone','went','going'\n",
        "words5 = 'association','associated','associate'"
      ]
    },
    {
      "cell_type": "markdown",
      "source": [
        "If the word is from that pos it changes its form to its lemma else changes"
      ],
      "metadata": {
        "id": "-E9VyqFY0ez1"
      }
    },
    {
      "cell_type": "code",
      "source": [
        "wnl = WordNetLemmatizer()\n",
        "print(wnl.lemmatize('players', pos='n'))\n",
        "print(wnl.lemmatize('players', pos='v'))\n",
        "print(wnl.lemmatize('players', pos='a'))\n",
        "print(wnl.lemmatize('players', pos='r'))"
      ],
      "metadata": {
        "colab": {
          "base_uri": "https://localhost:8080/"
        },
        "id": "nZ7cet1izlFc",
        "outputId": "f2e5709a-32f0-4840-9aed-12ea9e1e7c27"
      },
      "execution_count": null,
      "outputs": [
        {
          "output_type": "stream",
          "name": "stdout",
          "text": [
            "player\n",
            "players\n",
            "players\n",
            "players\n"
          ]
        }
      ]
    },
    {
      "cell_type": "code",
      "source": [
        "print(wnl.lemmatize('playing', pos='n'))\n",
        "print(wnl.lemmatize('playing', pos='v'))\n",
        "print(wnl.lemmatize('playing', pos='a'))\n",
        "print(wnl.lemmatize('playing', pos='r'))"
      ],
      "metadata": {
        "colab": {
          "base_uri": "https://localhost:8080/"
        },
        "id": "Gybl5UVE0OKi",
        "outputId": "d9a9330e-9de8-4dc5-b474-2182f41317c1"
      },
      "execution_count": null,
      "outputs": [
        {
          "output_type": "stream",
          "name": "stdout",
          "text": [
            "playing\n",
            "play\n",
            "playing\n",
            "playing\n"
          ]
        }
      ]
    },
    {
      "cell_type": "code",
      "source": [
        "for word in words1:\n",
        "  print(wnl.lemmatize(word, pos='n'))"
      ],
      "metadata": {
        "colab": {
          "base_uri": "https://localhost:8080/"
        },
        "id": "BazG5HIw0c_f",
        "outputId": "7a764f2a-73d9-4f77-ad85-6c7e69f1af5a"
      },
      "execution_count": null,
      "outputs": [
        {
          "output_type": "stream",
          "name": "stdout",
          "text": [
            "managing\n",
            "manage\n",
            "management\n",
            "managerial\n",
            "managed\n"
          ]
        }
      ]
    },
    {
      "cell_type": "code",
      "source": [
        "for word in words2:\n",
        "  print(wnl.lemmatize(word, pos='v'))"
      ],
      "metadata": {
        "colab": {
          "base_uri": "https://localhost:8080/"
        },
        "id": "1vf5UXuO0_b4",
        "outputId": "e110d52b-4072-414a-d155-d9a6e961e197"
      },
      "execution_count": null,
      "outputs": [
        {
          "output_type": "stream",
          "name": "stdout",
          "text": [
            "work\n",
            "workable\n",
            "work\n",
            "work\n"
          ]
        }
      ]
    },
    {
      "cell_type": "code",
      "source": [
        "for word in words3:\n",
        "  print(wnl.lemmatize(word, pos='a'))"
      ],
      "metadata": {
        "colab": {
          "base_uri": "https://localhost:8080/"
        },
        "id": "wJH-L7621Bpl",
        "outputId": "17dce04f-e5c2-4a99-ddc7-74f3a58690c6"
      },
      "execution_count": null,
      "outputs": [
        {
          "output_type": "stream",
          "name": "stdout",
          "text": [
            "big\n",
            "big\n",
            "big\n"
          ]
        }
      ]
    },
    {
      "cell_type": "code",
      "source": [
        "for word in words4:\n",
        "  print(wnl.lemmatize(word, pos='v'))"
      ],
      "metadata": {
        "colab": {
          "base_uri": "https://localhost:8080/"
        },
        "id": "dS-ErOZe1wuH",
        "outputId": "0141955d-fae6-4123-e550-c9df1ebd14c2"
      },
      "execution_count": null,
      "outputs": [
        {
          "output_type": "stream",
          "name": "stdout",
          "text": [
            "go\n",
            "go\n",
            "go\n",
            "go\n"
          ]
        }
      ]
    },
    {
      "cell_type": "code",
      "source": [
        "for word in words5:\n",
        "  print(wnl.lemmatize(word, pos='n'))"
      ],
      "metadata": {
        "colab": {
          "base_uri": "https://localhost:8080/"
        },
        "id": "uOW4FCeU1yel",
        "outputId": "21da5659-197f-4720-eda6-f2e5c8a7e6ed"
      },
      "execution_count": null,
      "outputs": [
        {
          "output_type": "stream",
          "name": "stdout",
          "text": [
            "association\n",
            "associated\n",
            "associate\n"
          ]
        }
      ]
    },
    {
      "cell_type": "code",
      "source": [
        "text = '''India, officially the Republic of India,[j][20] is a country in South Asia. It is the seventh-largest country in the world by area and the most populous country. Bounded by the Indian Ocean on the south, the Arabian Sea on the southwest, and the Bay of Bengal on the southeast, it shares land borders with Pakistan to the west;[k] China, Nepal, and Bhutan to the north; and Bangladesh and Myanmar to the east. In the Indian Ocean, India is in the vicinity of Sri Lanka and the Maldives; its Andaman and Nicobar Islands share a maritime border with Thailand, Myanmar, and Indonesia.\n",
        "\n",
        "Modern humans arrived on the Indian subcontinent from Africa no later than 55,000 years ago.[22][23][24] Their long occupation, initially in varying forms of isolation as hunter-gatherers, has made the region highly diverse, second only to Africa in human genetic diversity.[25] Settled life emerged on the subcontinent in the western margins of the Indus river basin 9,000 years ago, evolving gradually into the Indus Valley Civilisation of the third millennium BCE.[26] By at least 1200 BCE, an archaic form of Sanskrit, an Indo-European language, had diffused into India from the northwest.[27][28] Its evidence today is found in the hymns of the Rigveda. Preserved by an oral tradition that was resolutely vigilant, the Rigveda records the dawning of Hinduism in India.[29] The Dravidian languages of India were supplanted in the northern and western regions.[30] By 400 BCE, stratification and exclusion by caste had emerged within Hinduism,[31] and Buddhism and Jainism had arisen, proclaiming social orders unlinked to heredity.[32] Early political consolidations gave rise to the loose-knit Maurya and Gupta Empires based in the Ganges Basin.[33] Their collective era was suffused with wide-ranging creativity,[34] but also marked by the declining status of women,[35] and the incorporation of untouchability into an organised system of belief.[l][36] The Middle kingdoms exported Sanskrit language, south Indian scripts and religions of Hinduism and Buddhism to the Southeast Asia.[37]'''\n"
      ],
      "metadata": {
        "id": "lavxOqC313FC"
      },
      "execution_count": null,
      "outputs": []
    },
    {
      "cell_type": "code",
      "source": [
        "import string\n",
        "import nltk\n",
        "nltk.download('punkt_tab')\n",
        "from nltk.tokenize import word_tokenize"
      ],
      "metadata": {
        "colab": {
          "base_uri": "https://localhost:8080/"
        },
        "id": "qzUCHJMq4LDe",
        "outputId": "7b625c68-e9fb-4ef8-912a-72b112d81c92"
      },
      "execution_count": null,
      "outputs": [
        {
          "output_type": "stream",
          "name": "stderr",
          "text": [
            "[nltk_data] Downloading package punkt_tab to /root/nltk_data...\n",
            "[nltk_data]   Package punkt_tab is already up-to-date!\n"
          ]
        }
      ]
    },
    {
      "cell_type": "code",
      "source": [
        "from nltk.tokenize import word_tokenize\n",
        "nltk.download('averaged_perceptron_tagger_eng')\n",
        "from nltk import pos_tag"
      ],
      "metadata": {
        "colab": {
          "base_uri": "https://localhost:8080/"
        },
        "id": "ghsTrwrb6xgh",
        "outputId": "6f8e59a3-3795-41b7-8fcf-102f177c08e9"
      },
      "execution_count": null,
      "outputs": [
        {
          "output_type": "stream",
          "name": "stderr",
          "text": [
            "[nltk_data] Downloading package averaged_perceptron_tagger_eng to\n",
            "[nltk_data]     /root/nltk_data...\n",
            "[nltk_data]   Unzipping taggers/averaged_perceptron_tagger_eng.zip.\n"
          ]
        }
      ]
    },
    {
      "cell_type": "code",
      "source": [
        "tags = pos_tag(word_tokenize(text))"
      ],
      "metadata": {
        "id": "q0XeN4UK4Xq4"
      },
      "execution_count": null,
      "outputs": []
    },
    {
      "cell_type": "code",
      "source": [
        "verbs = set()\n",
        "for word, tag in tags:\n",
        "  if tag.startswith('V') and word.isalpha():\n",
        "    verbs.add(wnl.lemmatize(word, pos='v'))"
      ],
      "metadata": {
        "id": "wd37ywQb6a7K"
      },
      "execution_count": null,
      "outputs": []
    },
    {
      "cell_type": "code",
      "source": [
        "verbs"
      ],
      "metadata": {
        "colab": {
          "base_uri": "https://localhost:8080/"
        },
        "id": "_-jHXlYK4kSj",
        "outputId": "488c64f0-c3cc-4525-914c-9ab41d1aad3c"
      },
      "execution_count": null,
      "outputs": [
        {
          "output_type": "execute_result",
          "data": {
            "text/plain": [
              "{'Bounded',\n",
              " 'Preserved',\n",
              " 'Settled',\n",
              " 'arise',\n",
              " 'arrive',\n",
              " 'base',\n",
              " 'be',\n",
              " 'decline',\n",
              " 'diffuse',\n",
              " 'emerge',\n",
              " 'evolve',\n",
              " 'export',\n",
              " 'find',\n",
              " 'give',\n",
              " 'have',\n",
              " 'humans',\n",
              " 'k',\n",
              " 'land',\n",
              " 'make',\n",
              " 'mark',\n",
              " 'proclaim',\n",
              " 'suffuse',\n",
              " 'supplant',\n",
              " 'unlinked',\n",
              " 'vary'}"
            ]
          },
          "metadata": {},
          "execution_count": 73
        }
      ]
    },
    {
      "cell_type": "code",
      "source": [],
      "metadata": {
        "id": "vtwEPhqk5FwW"
      },
      "execution_count": null,
      "outputs": []
    }
  ]
}