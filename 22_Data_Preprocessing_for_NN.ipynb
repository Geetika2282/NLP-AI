{
  "nbformat": 4,
  "nbformat_minor": 0,
  "metadata": {
    "colab": {
      "provenance": [],
      "gpuType": "T4",
      "authorship_tag": "ABX9TyOTCAp0aOSm3tlDOxy38Q+8",
      "include_colab_link": true
    },
    "kernelspec": {
      "name": "python3",
      "display_name": "Python 3"
    },
    "language_info": {
      "name": "python"
    },
    "accelerator": "GPU"
  },
  "cells": [
    {
      "cell_type": "markdown",
      "metadata": {
        "id": "view-in-github",
        "colab_type": "text"
      },
      "source": [
        "<a href=\"https://colab.research.google.com/github/Geetika2282/NLP-AI/blob/main/22_Data_Preprocessing_for_NN.ipynb\" target=\"_parent\"><img src=\"https://colab.research.google.com/assets/colab-badge.svg\" alt=\"Open In Colab\"/></a>"
      ]
    },
    {
      "cell_type": "markdown",
      "source": [
        "### import the libraries"
      ],
      "metadata": {
        "id": "sssRSwRaOK9s"
      }
    },
    {
      "cell_type": "code",
      "execution_count": null,
      "metadata": {
        "id": "8gvEMywJN6i5"
      },
      "outputs": [],
      "source": [
        "from tensorflow.keras.preprocessing.text import Tokenizer\n",
        "from tensorflow.keras.preprocessing.sequence import pad_sequences"
      ]
    },
    {
      "cell_type": "code",
      "source": [
        "lines = ['It was a nice rainy day.','The things are so beautiful in his point','When your focus is clear, you won.','Many many happy returns of the day.']"
      ],
      "metadata": {
        "id": "z9ID9eNoOho_"
      },
      "execution_count": null,
      "outputs": []
    },
    {
      "cell_type": "code",
      "source": [
        "tokenizer = Tokenizer()\n",
        "tokenizer.fit_on_texts(lines)"
      ],
      "metadata": {
        "id": "yDWO3L18O3WG"
      },
      "execution_count": null,
      "outputs": []
    },
    {
      "cell_type": "code",
      "source": [
        "tokenizer.word_docs"
      ],
      "metadata": {
        "colab": {
          "base_uri": "https://localhost:8080/"
        },
        "id": "enWKKrNcO9KS",
        "outputId": "b39f3ee6-afe2-4322-a77d-c1db8f45dae4"
      },
      "execution_count": null,
      "outputs": [
        {
          "output_type": "execute_result",
          "data": {
            "text/plain": [
              "defaultdict(int,\n",
              "            {'a': 1,\n",
              "             'nice': 1,\n",
              "             'day': 2,\n",
              "             'was': 1,\n",
              "             'it': 1,\n",
              "             'rainy': 1,\n",
              "             'point': 1,\n",
              "             'in': 1,\n",
              "             'his': 1,\n",
              "             'the': 2,\n",
              "             'so': 1,\n",
              "             'things': 1,\n",
              "             'are': 1,\n",
              "             'beautiful': 1,\n",
              "             'you': 1,\n",
              "             'focus': 1,\n",
              "             'when': 1,\n",
              "             'won': 1,\n",
              "             'your': 1,\n",
              "             'is': 1,\n",
              "             'clear': 1,\n",
              "             'returns': 1,\n",
              "             'of': 1,\n",
              "             'happy': 1,\n",
              "             'many': 1})"
            ]
          },
          "metadata": {},
          "execution_count": 4
        }
      ]
    },
    {
      "cell_type": "code",
      "source": [
        "tokenizer.index_word"
      ],
      "metadata": {
        "colab": {
          "base_uri": "https://localhost:8080/"
        },
        "id": "vZyrzZmOPzWq",
        "outputId": "6ebafe2b-1f56-4f61-8abb-fc3a37e36b8d"
      },
      "execution_count": null,
      "outputs": [
        {
          "output_type": "execute_result",
          "data": {
            "text/plain": [
              "{1: 'day',\n",
              " 2: 'the',\n",
              " 3: 'many',\n",
              " 4: 'it',\n",
              " 5: 'was',\n",
              " 6: 'a',\n",
              " 7: 'nice',\n",
              " 8: 'rainy',\n",
              " 9: 'things',\n",
              " 10: 'are',\n",
              " 11: 'so',\n",
              " 12: 'beautiful',\n",
              " 13: 'in',\n",
              " 14: 'his',\n",
              " 15: 'point',\n",
              " 16: 'when',\n",
              " 17: 'your',\n",
              " 18: 'focus',\n",
              " 19: 'is',\n",
              " 20: 'clear',\n",
              " 21: 'you',\n",
              " 22: 'won',\n",
              " 23: 'happy',\n",
              " 24: 'returns',\n",
              " 25: 'of'}"
            ]
          },
          "metadata": {},
          "execution_count": 16
        }
      ]
    },
    {
      "cell_type": "code",
      "source": [
        "tokenizer.index_docs"
      ],
      "metadata": {
        "colab": {
          "base_uri": "https://localhost:8080/"
        },
        "id": "85-QLUSJP7Px",
        "outputId": "a2c904d4-e39c-4230-d22a-b300b084b43a"
      },
      "execution_count": null,
      "outputs": [
        {
          "output_type": "execute_result",
          "data": {
            "text/plain": [
              "defaultdict(int,\n",
              "            {8: 1,\n",
              "             7: 1,\n",
              "             5: 1,\n",
              "             4: 1,\n",
              "             1: 2,\n",
              "             6: 1,\n",
              "             12: 1,\n",
              "             14: 1,\n",
              "             10: 1,\n",
              "             13: 1,\n",
              "             11: 1,\n",
              "             15: 1,\n",
              "             2: 2,\n",
              "             9: 1,\n",
              "             17: 1,\n",
              "             20: 1,\n",
              "             18: 1,\n",
              "             21: 1,\n",
              "             19: 1,\n",
              "             22: 1,\n",
              "             16: 1,\n",
              "             3: 1,\n",
              "             25: 1,\n",
              "             23: 1,\n",
              "             24: 1})"
            ]
          },
          "metadata": {},
          "execution_count": 17
        }
      ]
    },
    {
      "cell_type": "code",
      "source": [
        "tokenizer.word_index"
      ],
      "metadata": {
        "colab": {
          "base_uri": "https://localhost:8080/"
        },
        "id": "cXduphtyQMn1",
        "outputId": "56708f52-18fc-4451-88cf-4b08f28a6854"
      },
      "execution_count": null,
      "outputs": [
        {
          "output_type": "execute_result",
          "data": {
            "text/plain": [
              "{'day': 1,\n",
              " 'the': 2,\n",
              " 'many': 3,\n",
              " 'it': 4,\n",
              " 'was': 5,\n",
              " 'a': 6,\n",
              " 'nice': 7,\n",
              " 'rainy': 8,\n",
              " 'things': 9,\n",
              " 'are': 10,\n",
              " 'so': 11,\n",
              " 'beautiful': 12,\n",
              " 'in': 13,\n",
              " 'his': 14,\n",
              " 'point': 15,\n",
              " 'when': 16,\n",
              " 'your': 17,\n",
              " 'focus': 18,\n",
              " 'is': 19,\n",
              " 'clear': 20,\n",
              " 'you': 21,\n",
              " 'won': 22,\n",
              " 'happy': 23,\n",
              " 'returns': 24,\n",
              " 'of': 25}"
            ]
          },
          "metadata": {},
          "execution_count": 18
        }
      ]
    },
    {
      "cell_type": "code",
      "source": [
        "mat = tokenizer.texts_to_matrix(lines)\n",
        "mat"
      ],
      "metadata": {
        "colab": {
          "base_uri": "https://localhost:8080/"
        },
        "id": "wQGRIJ9sRDwy",
        "outputId": "7593e146-fde3-436a-fde4-d9f21bf3be79"
      },
      "execution_count": null,
      "outputs": [
        {
          "output_type": "execute_result",
          "data": {
            "text/plain": [
              "array([[0., 1., 0., 0., 1., 1., 1., 1., 1., 0., 0., 0., 0., 0., 0., 0.,\n",
              "        0., 0., 0., 0., 0., 0., 0., 0., 0., 0.],\n",
              "       [0., 0., 1., 0., 0., 0., 0., 0., 0., 1., 1., 1., 1., 1., 1., 1.,\n",
              "        0., 0., 0., 0., 0., 0., 0., 0., 0., 0.],\n",
              "       [0., 0., 0., 0., 0., 0., 0., 0., 0., 0., 0., 0., 0., 0., 0., 0.,\n",
              "        1., 1., 1., 1., 1., 1., 1., 0., 0., 0.],\n",
              "       [0., 1., 1., 1., 0., 0., 0., 0., 0., 0., 0., 0., 0., 0., 0., 0.,\n",
              "        0., 0., 0., 0., 0., 0., 0., 1., 1., 1.]])"
            ]
          },
          "metadata": {},
          "execution_count": 19
        }
      ]
    },
    {
      "cell_type": "code",
      "source": [
        "mat.shape"
      ],
      "metadata": {
        "colab": {
          "base_uri": "https://localhost:8080/"
        },
        "id": "y8M_0_aMRKZ9",
        "outputId": "48aa61da-7ba4-437a-ebd2-3e47d69fa3fa"
      },
      "execution_count": null,
      "outputs": [
        {
          "output_type": "execute_result",
          "data": {
            "text/plain": [
              "(4, 26)"
            ]
          },
          "metadata": {},
          "execution_count": 20
        }
      ]
    },
    {
      "cell_type": "code",
      "source": [
        "# Here data is not structured\n",
        "seq = tokenizer.texts_to_sequences(lines)\n",
        "seq"
      ],
      "metadata": {
        "colab": {
          "base_uri": "https://localhost:8080/"
        },
        "id": "WenQQdEnRM6r",
        "outputId": "46cd61ed-dc7c-47f3-b0b3-b7990f40a8a0"
      },
      "execution_count": null,
      "outputs": [
        {
          "output_type": "execute_result",
          "data": {
            "text/plain": [
              "[[4, 5, 6, 7, 8, 1],\n",
              " [2, 9, 10, 11, 12, 13, 14, 15],\n",
              " [16, 17, 18, 19, 20, 21, 22],\n",
              " [3, 3, 23, 24, 25, 2, 1]]"
            ]
          },
          "metadata": {},
          "execution_count": 21
        }
      ]
    },
    {
      "cell_type": "code",
      "source": [
        "# prepadding\n",
        "# This is continuous bag of words\n",
        "# It is required for sequential learning\n",
        "padded = pad_sequences(seq, maxlen = 10, padding = 'pre')\n",
        "padded"
      ],
      "metadata": {
        "colab": {
          "base_uri": "https://localhost:8080/"
        },
        "id": "PkbkOcYBRrFv",
        "outputId": "16840c69-a0ad-4579-bc34-621ad85a1610"
      },
      "execution_count": null,
      "outputs": [
        {
          "output_type": "execute_result",
          "data": {
            "text/plain": [
              "array([[ 0,  0,  0,  0,  4,  5,  6,  7,  8,  1],\n",
              "       [ 0,  0,  2,  9, 10, 11, 12, 13, 14, 15],\n",
              "       [ 0,  0,  0, 16, 17, 18, 19, 20, 21, 22],\n",
              "       [ 0,  0,  0,  3,  3, 23, 24, 25,  2,  1]], dtype=int32)"
            ]
          },
          "metadata": {},
          "execution_count": 22
        }
      ]
    },
    {
      "cell_type": "code",
      "source": [],
      "metadata": {
        "id": "LOSgnEPRSaaK"
      },
      "execution_count": null,
      "outputs": []
    }
  ]
}