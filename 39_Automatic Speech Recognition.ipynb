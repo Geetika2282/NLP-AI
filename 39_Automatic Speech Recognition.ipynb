{
 "cells": [
  {
   "cell_type": "code",
   "execution_count": 1,
   "id": "6fd4dd65-2670-488f-942c-afffe7c2bae5",
   "metadata": {},
   "outputs": [
    {
     "name": "stdout",
     "output_type": "stream",
     "text": [
      "Requirement already satisfied: speechrecognition in c:\\users\\dai.studentsdc\\appdata\\local\\anaconda3\\lib\\site-packages (3.12.0)\n",
      "Requirement already satisfied: pyaudio in c:\\users\\dai.studentsdc\\appdata\\local\\anaconda3\\lib\\site-packages (0.2.14)\n",
      "Requirement already satisfied: typing-extensions in c:\\users\\dai.studentsdc\\appdata\\local\\anaconda3\\lib\\site-packages (from speechrecognition) (4.12.2)\n",
      "Note: you may need to restart the kernel to use updated packages.\n"
     ]
    }
   ],
   "source": [
    "pip install speechrecognition pyaudio -U"
   ]
  },
  {
   "cell_type": "markdown",
   "id": "5756c75e-8902-4881-b40e-d44c094599a0",
   "metadata": {},
   "source": [
    "#### Import the libraries"
   ]
  },
  {
   "cell_type": "code",
   "execution_count": 2,
   "id": "01fbc9d6-714c-4097-92a6-1054a8cb6ba8",
   "metadata": {},
   "outputs": [],
   "source": [
    "import speech_recognition as sr"
   ]
  },
  {
   "cell_type": "markdown",
   "id": "4cb1de22-8a9a-460f-90f6-4308fa789004",
   "metadata": {},
   "source": [
    "#### Create the object"
   ]
  },
  {
   "cell_type": "code",
   "execution_count": 3,
   "id": "f880815b-936d-4b31-8a28-52fb0e389b62",
   "metadata": {},
   "outputs": [],
   "source": [
    "r = sr.Recognizer()"
   ]
  },
  {
   "cell_type": "markdown",
   "id": "5f5bc4be-9836-442b-b229-00e754750bf7",
   "metadata": {},
   "source": [
    "#### Read the audio"
   ]
  },
  {
   "cell_type": "code",
   "execution_count": 14,
   "id": "930278b9-60d9-4fde-b01a-9598f92bb186",
   "metadata": {},
   "outputs": [
    {
     "name": "stdout",
     "output_type": "stream",
     "text": [
      "Speak\n"
     ]
    },
    {
     "ename": "UnknownValueError",
     "evalue": "",
     "output_type": "error",
     "traceback": [
      "\u001b[1;31m---------------------------------------------------------------------------\u001b[0m",
      "\u001b[1;31mUnknownValueError\u001b[0m                         Traceback (most recent call last)",
      "Cell \u001b[1;32mIn[14], line 5\u001b[0m\n\u001b[0;32m      3\u001b[0m \u001b[38;5;28mprint\u001b[39m(\u001b[38;5;124m\"\u001b[39m\u001b[38;5;124mSpeak\u001b[39m\u001b[38;5;124m\"\u001b[39m)\n\u001b[0;32m      4\u001b[0m audio\u001b[38;5;241m=\u001b[39m r\u001b[38;5;241m.\u001b[39mlisten(source)\n\u001b[1;32m----> 5\u001b[0m \u001b[38;5;28mprint\u001b[39m(\u001b[38;5;124m\"\u001b[39m\u001b[38;5;124mYou said : \u001b[39m\u001b[38;5;124m\"\u001b[39m , r\u001b[38;5;241m.\u001b[39mrecognize_google(audio))\n",
      "File \u001b[1;32m~\\AppData\\Local\\Anaconda3\\Lib\\site-packages\\speech_recognition\\recognizers\\google.py:263\u001b[0m, in \u001b[0;36mrecognize_legacy\u001b[1;34m(recognizer, audio_data, key, language, pfilter, show_all, with_confidence, endpoint)\u001b[0m\n\u001b[0;32m    256\u001b[0m response_text \u001b[38;5;241m=\u001b[39m obtain_transcription(\n\u001b[0;32m    257\u001b[0m     request, timeout\u001b[38;5;241m=\u001b[39mrecognizer\u001b[38;5;241m.\u001b[39moperation_timeout\n\u001b[0;32m    258\u001b[0m )\n\u001b[0;32m    260\u001b[0m output_parser \u001b[38;5;241m=\u001b[39m OutputParser(\n\u001b[0;32m    261\u001b[0m     show_all\u001b[38;5;241m=\u001b[39mshow_all, with_confidence\u001b[38;5;241m=\u001b[39mwith_confidence\n\u001b[0;32m    262\u001b[0m )\n\u001b[1;32m--> 263\u001b[0m \u001b[38;5;28;01mreturn\u001b[39;00m output_parser\u001b[38;5;241m.\u001b[39mparse(response_text)\n",
      "File \u001b[1;32m~\\AppData\\Local\\Anaconda3\\Lib\\site-packages\\speech_recognition\\recognizers\\google.py:134\u001b[0m, in \u001b[0;36mOutputParser.parse\u001b[1;34m(self, response_text)\u001b[0m\n\u001b[0;32m    133\u001b[0m \u001b[38;5;28;01mdef\u001b[39;00m \u001b[38;5;21mparse\u001b[39m(\u001b[38;5;28mself\u001b[39m, response_text: \u001b[38;5;28mstr\u001b[39m):\n\u001b[1;32m--> 134\u001b[0m     actual_result \u001b[38;5;241m=\u001b[39m \u001b[38;5;28mself\u001b[39m\u001b[38;5;241m.\u001b[39mconvert_to_result(response_text)\n\u001b[0;32m    135\u001b[0m     \u001b[38;5;28;01mif\u001b[39;00m \u001b[38;5;28mself\u001b[39m\u001b[38;5;241m.\u001b[39mshow_all:\n\u001b[0;32m    136\u001b[0m         \u001b[38;5;28;01mreturn\u001b[39;00m actual_result\n",
      "File \u001b[1;32m~\\AppData\\Local\\Anaconda3\\Lib\\site-packages\\speech_recognition\\recognizers\\google.py:183\u001b[0m, in \u001b[0;36mOutputParser.convert_to_result\u001b[1;34m(response_text)\u001b[0m\n\u001b[0;32m    181\u001b[0m             \u001b[38;5;28;01mraise\u001b[39;00m UnknownValueError()\n\u001b[0;32m    182\u001b[0m         \u001b[38;5;28;01mreturn\u001b[39;00m result[\u001b[38;5;241m0\u001b[39m]\n\u001b[1;32m--> 183\u001b[0m \u001b[38;5;28;01mraise\u001b[39;00m UnknownValueError()\n",
      "\u001b[1;31mUnknownValueError\u001b[0m: "
     ]
    }
   ],
   "source": [
    "with sr.Microphone() as source:\n",
    "    r.adjust_for_ambient_noise(source)\n",
    "    print(\"Speak\")\n",
    "    audio= r.listen(source)\n",
    "    print(\"You said : \" , r.recognize_google(audio))"
   ]
  },
  {
   "cell_type": "code",
   "execution_count": 10,
   "id": "03f873a8-cd6a-4c3a-bdeb-e600ff2a6d24",
   "metadata": {},
   "outputs": [
    {
     "name": "stdout",
     "output_type": "stream",
     "text": [
      "Collecting pocketsphinx\n",
      "  Downloading pocketsphinx-5.0.3-cp312-cp312-win_amd64.whl.metadata (6.8 kB)\n",
      "Collecting sounddevice (from pocketsphinx)\n",
      "  Downloading sounddevice-0.5.1-py3-none-win_amd64.whl.metadata (1.4 kB)\n",
      "Requirement already satisfied: CFFI>=1.0 in c:\\users\\dai.studentsdc\\appdata\\local\\anaconda3\\lib\\site-packages (from sounddevice->pocketsphinx) (1.16.0)\n",
      "Requirement already satisfied: pycparser in c:\\users\\dai.studentsdc\\appdata\\local\\anaconda3\\lib\\site-packages (from CFFI>=1.0->sounddevice->pocketsphinx) (2.21)\n",
      "Downloading pocketsphinx-5.0.3-cp312-cp312-win_amd64.whl (29.1 MB)\n",
      "   ---------------------------------------- 0.0/29.1 MB ? eta -:--:--\n",
      "   ---------------------------------------- 0.0/29.1 MB ? eta -:--:--\n",
      "   ---------------------------------------- 0.1/29.1 MB 1.8 MB/s eta 0:00:16\n",
      "    --------------------------------------- 0.5/29.1 MB 4.4 MB/s eta 0:00:07\n",
      "   - -------------------------------------- 1.1/29.1 MB 7.2 MB/s eta 0:00:04\n",
      "   -- ------------------------------------- 2.0/29.1 MB 10.0 MB/s eta 0:00:03\n",
      "   ---- ----------------------------------- 3.2/29.1 MB 12.9 MB/s eta 0:00:03\n",
      "   ------ --------------------------------- 5.0/29.1 MB 16.9 MB/s eta 0:00:02\n",
      "   ---------- ----------------------------- 7.5/29.1 MB 21.7 MB/s eta 0:00:01\n",
      "   --------------- ------------------------ 11.0/29.1 MB 40.9 MB/s eta 0:00:01\n",
      "   ------------------- -------------------- 14.2/29.1 MB 59.5 MB/s eta 0:00:01\n",
      "   --------------------------- ------------ 20.0/29.1 MB 93.9 MB/s eta 0:00:01\n",
      "   ------------------------------- -------- 22.9/29.1 MB 81.8 MB/s eta 0:00:01\n",
      "   ---------------------------------------  29.0/29.1 MB 93.9 MB/s eta 0:00:01\n",
      "   ---------------------------------------  29.1/29.1 MB 93.9 MB/s eta 0:00:01\n",
      "   ---------------------------------------  29.1/29.1 MB 93.9 MB/s eta 0:00:01\n",
      "   ---------------------------------------- 29.1/29.1 MB 50.4 MB/s eta 0:00:00\n",
      "Downloading sounddevice-0.5.1-py3-none-win_amd64.whl (363 kB)\n",
      "   ---------------------------------------- 0.0/363.6 kB ? eta -:--:--\n",
      "   --------------------------------------- 363.6/363.6 kB 22.1 MB/s eta 0:00:00\n",
      "Installing collected packages: sounddevice, pocketsphinx\n",
      "Successfully installed pocketsphinx-5.0.3 sounddevice-0.5.1\n",
      "Note: you may need to restart the kernel to use updated packages.\n"
     ]
    }
   ],
   "source": [
    "pip install pocketsphinx -U"
   ]
  },
  {
   "cell_type": "code",
   "execution_count": 12,
   "id": "6956a85d-6f16-46ae-914e-69683a36af17",
   "metadata": {},
   "outputs": [
    {
     "name": "stdout",
     "output_type": "stream",
     "text": [
      "Speak: \n",
      "You said:  but i'd and and\n"
     ]
    }
   ],
   "source": [
    "with sr.Microphone() as source:\n",
    "    r.adjust_for_ambient_noise(source)\n",
    "    print('Speak: ')\n",
    "    audio = r.listen(source)\n",
    "    print('You said: ', r.recognize_sphinx(audio))"
   ]
  },
  {
   "cell_type": "code",
   "execution_count": null,
   "id": "6231e7ae-93b8-49f2-ad74-d774343a8808",
   "metadata": {},
   "outputs": [],
   "source": []
  }
 ],
 "metadata": {
  "kernelspec": {
   "display_name": "Python 3 (ipykernel)",
   "language": "python",
   "name": "python3"
  },
  "language_info": {
   "codemirror_mode": {
    "name": "ipython",
    "version": 3
   },
   "file_extension": ".py",
   "mimetype": "text/x-python",
   "name": "python",
   "nbconvert_exporter": "python",
   "pygments_lexer": "ipython3",
   "version": "3.12.4"
  }
 },
 "nbformat": 4,
 "nbformat_minor": 5
}
