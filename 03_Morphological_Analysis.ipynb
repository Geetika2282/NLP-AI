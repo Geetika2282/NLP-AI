{
  "nbformat": 4,
  "nbformat_minor": 0,
  "metadata": {
    "colab": {
      "provenance": [],
      "include_colab_link": true
    },
    "kernelspec": {
      "name": "python3",
      "display_name": "Python 3"
    },
    "language_info": {
      "name": "python"
    }
  },
  "cells": [
    {
      "cell_type": "markdown",
      "metadata": {
        "id": "view-in-github",
        "colab_type": "text"
      },
      "source": [
        "<a href=\"https://colab.research.google.com/github/Geetika2282/NLP-AI/blob/main/03_Morphological_Analysis.ipynb\" target=\"_parent\"><img src=\"https://colab.research.google.com/assets/colab-badge.svg\" alt=\"Open In Colab\"/></a>"
      ]
    },
    {
      "cell_type": "code",
      "execution_count": null,
      "metadata": {
        "colab": {
          "base_uri": "https://localhost:8080/"
        },
        "id": "anDeMttUnFlK",
        "outputId": "fc496331-e1a9-4612-c099-0345910c6cac"
      },
      "outputs": [
        {
          "output_type": "stream",
          "name": "stdout",
          "text": [
            "Requirement already satisfied: morfessor in /usr/local/lib/python3.10/dist-packages (2.0.6)\n",
            "Requirement already satisfied: polyglot in /usr/local/lib/python3.10/dist-packages (16.7.4)\n",
            "Requirement already satisfied: PyICU in /usr/local/lib/python3.10/dist-packages (2.14)\n",
            "Requirement already satisfied: pycld2 in /usr/local/lib/python3.10/dist-packages (0.41)\n"
          ]
        }
      ],
      "source": [
        "!pip install morfessor polyglot PyICU pycld2"
      ]
    },
    {
      "cell_type": "markdown",
      "source": [
        "Polyglot is a natural language pipeline that supports massive multilingual applications.  \n",
        "It provides a variety of NLP tasks like tokenization, language detection, named entity recognition, and part-of-speech tagging for many languages."
      ],
      "metadata": {
        "id": "sE4Or6qx4T2Q"
      }
    },
    {
      "cell_type": "code",
      "source": [
        "%%bash\n",
        "polyglot download morph2.en morph2.mr"
      ],
      "metadata": {
        "colab": {
          "base_uri": "https://localhost:8080/"
        },
        "id": "QxrAIUfA4hSq",
        "outputId": "af4a4aa1-57ac-4cdc-a410-8eac6e0f153f"
      },
      "execution_count": null,
      "outputs": [
        {
          "output_type": "stream",
          "name": "stdout",
          "text": [
            "[polyglot_data] Downloading package morph2.en to\n",
            "[polyglot_data]     /root/polyglot_data...\n",
            "[polyglot_data]   Package morph2.en is already up-to-date!\n",
            "[polyglot_data] Downloading package morph2.mr to\n",
            "[polyglot_data]     /root/polyglot_data...\n"
          ]
        }
      ]
    },
    {
      "cell_type": "code",
      "source": [
        "from polyglot.text import Text, Word"
      ],
      "metadata": {
        "id": "kEuPZHnpBVsq"
      },
      "execution_count": null,
      "outputs": []
    },
    {
      "cell_type": "code",
      "source": [
        "words = ['cats','computing','association']"
      ],
      "metadata": {
        "id": "AXJCGuoaBgpK"
      },
      "execution_count": null,
      "outputs": []
    },
    {
      "cell_type": "code",
      "source": [
        "for w in words:\n",
        "  w = Word(w,language='en')\n",
        "  print(w,w.morphemes)"
      ],
      "metadata": {
        "colab": {
          "base_uri": "https://localhost:8080/"
        },
        "id": "csJmjFRFBn3O",
        "outputId": "b27bb60b-76e1-41c6-dc50-69765d815b4e"
      },
      "execution_count": null,
      "outputs": [
        {
          "output_type": "stream",
          "name": "stdout",
          "text": [
            "cats ['cat', 's']\n",
            "computing ['com', 'put', 'ing']\n",
            "association ['associ', 'ation']\n"
          ]
        }
      ]
    },
    {
      "cell_type": "code",
      "source": [
        "words = ['अलौकिक','संपूर्णता']"
      ],
      "metadata": {
        "id": "pIamvkfRBs7q"
      },
      "execution_count": null,
      "outputs": []
    },
    {
      "cell_type": "code",
      "source": [
        "for w in words:\n",
        "  w = Word(w,language='mr')\n",
        "  print(w,w.morphemes)"
      ],
      "metadata": {
        "colab": {
          "base_uri": "https://localhost:8080/"
        },
        "id": "FBz-RtCfC_j4",
        "outputId": "29a3f9c6-5487-46cd-d7b1-d328ed0671b6"
      },
      "execution_count": null,
      "outputs": [
        {
          "output_type": "stream",
          "name": "stdout",
          "text": [
            "अलौकिक ['अ', 'लौकिक']\n",
            "संपूर्णता ['सं', 'पूर्ण', 'ता']\n"
          ]
        }
      ]
    },
    {
      "cell_type": "code",
      "source": [],
      "metadata": {
        "id": "T_Jgk5yrDCj1"
      },
      "execution_count": null,
      "outputs": []
    }
  ]
}