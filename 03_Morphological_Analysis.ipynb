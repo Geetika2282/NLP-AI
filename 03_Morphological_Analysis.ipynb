{
  "nbformat": 4,
  "nbformat_minor": 0,
  "metadata": {
    "colab": {
      "provenance": [],
      "include_colab_link": true
    },
    "kernelspec": {
      "name": "python3",
      "display_name": "Python 3"
    },
    "language_info": {
      "name": "python"
    }
  },
  "cells": [
    {
      "cell_type": "markdown",
      "metadata": {
        "id": "view-in-github",
        "colab_type": "text"
      },
      "source": [
        "<a href=\"https://colab.research.google.com/github/Geetika2282/NLP-AI/blob/main/03_Morphological_Analysis.ipynb\" target=\"_parent\"><img src=\"https://colab.research.google.com/assets/colab-badge.svg\" alt=\"Open In Colab\"/></a>"
      ]
    },
    {
      "cell_type": "code",
      "execution_count": 1,
      "metadata": {
        "colab": {
          "base_uri": "https://localhost:8080/"
        },
        "id": "anDeMttUnFlK",
        "outputId": "dfd5cfe8-b9db-4aa4-ea62-80cbf36b4160"
      },
      "outputs": [
        {
          "output_type": "stream",
          "name": "stdout",
          "text": [
            "Collecting morfessor\n",
            "  Downloading Morfessor-2.0.6-py3-none-any.whl.metadata (628 bytes)\n",
            "Collecting polyglot\n",
            "  Downloading polyglot-16.7.4.tar.gz (126 kB)\n",
            "\u001b[2K     \u001b[90m━━━━━━━━━━━━━━━━━━━━━━━━━━━━━━━━━━━━━━━━\u001b[0m \u001b[32m126.3/126.3 kB\u001b[0m \u001b[31m2.7 MB/s\u001b[0m eta \u001b[36m0:00:00\u001b[0m\n",
            "\u001b[?25h  Preparing metadata (setup.py) ... \u001b[?25l\u001b[?25hdone\n",
            "Collecting PyICU\n",
            "  Downloading PyICU-2.14.tar.gz (263 kB)\n",
            "\u001b[2K     \u001b[90m━━━━━━━━━━━━━━━━━━━━━━━━━━━━━━━━━━━━━━━━\u001b[0m \u001b[32m263.9/263.9 kB\u001b[0m \u001b[31m8.5 MB/s\u001b[0m eta \u001b[36m0:00:00\u001b[0m\n",
            "\u001b[?25h  Installing build dependencies ... \u001b[?25l\u001b[?25hdone\n",
            "  Getting requirements to build wheel ... \u001b[?25l\u001b[?25hdone\n",
            "  Preparing metadata (pyproject.toml) ... \u001b[?25l\u001b[?25hdone\n",
            "Collecting pycld2\n",
            "  Downloading pycld2-0.41.tar.gz (41.4 MB)\n",
            "\u001b[2K     \u001b[90m━━━━━━━━━━━━━━━━━━━━━━━━━━━━━━━━━━━━━━━━\u001b[0m \u001b[32m41.4/41.4 MB\u001b[0m \u001b[31m14.2 MB/s\u001b[0m eta \u001b[36m0:00:00\u001b[0m\n",
            "\u001b[?25h  Preparing metadata (setup.py) ... \u001b[?25l\u001b[?25hdone\n",
            "Downloading Morfessor-2.0.6-py3-none-any.whl (35 kB)\n",
            "Building wheels for collected packages: polyglot, PyICU, pycld2\n",
            "  Building wheel for polyglot (setup.py) ... \u001b[?25l\u001b[?25hdone\n",
            "  Created wheel for polyglot: filename=polyglot-16.7.4-py2.py3-none-any.whl size=52562 sha256=445f4e66c6de4e60163bf9b708ea53577d8ab9c3cc2e8ce99e842245e67a45c3\n",
            "  Stored in directory: /root/.cache/pip/wheels/aa/92/4a/b172589446ba537db3bdb9a1f2204f27fe71217981c14ac368\n",
            "  Building wheel for PyICU (pyproject.toml) ... \u001b[?25l\u001b[?25hdone\n",
            "  Created wheel for PyICU: filename=PyICU-2.14-cp310-cp310-linux_x86_64.whl size=1809835 sha256=69712bd423bf1a68b546fd3e68c8c215b8ad579939bb380f877649a4f70e08ed\n",
            "  Stored in directory: /root/.cache/pip/wheels/78/6e/76/17c73021179c06c29d9b108896b9248da0de4f2af93f63d405\n",
            "  Building wheel for pycld2 (setup.py) ... \u001b[?25l\u001b[?25hdone\n",
            "  Created wheel for pycld2: filename=pycld2-0.41-cp310-cp310-linux_x86_64.whl size=9904026 sha256=edb5705bc069c3265d5d85ab804c228925d8eef0a285742c86a70a7a72f8de87\n",
            "  Stored in directory: /root/.cache/pip/wheels/be/81/31/240c89c845e008a93d98542325270007de595bfd356eb0b06c\n",
            "Successfully built polyglot PyICU pycld2\n",
            "Installing collected packages: PyICU, pycld2, polyglot, morfessor\n",
            "Successfully installed PyICU-2.14 morfessor-2.0.6 polyglot-16.7.4 pycld2-0.41\n"
          ]
        }
      ],
      "source": [
        "!pip install morfessor polyglot PyICU pycld2"
      ]
    },
    {
      "cell_type": "markdown",
      "source": [
        "Polyglot is a natural language pipeline that supports massive multilingual applications.  \n",
        "It provides a variety of NLP tasks like tokenization, language detection, named entity recognition, and part-of-speech tagging for many languages."
      ],
      "metadata": {
        "id": "sE4Or6qx4T2Q"
      }
    },
    {
      "cell_type": "markdown",
      "source": [
        "# Morphology:\n",
        "## the study of the internal structure of words and how the components of a word are arranged to create different meanings."
      ],
      "metadata": {
        "id": "Iv4dKd-3pd6_"
      }
    },
    {
      "cell_type": "code",
      "source": [
        "%%bash\n",
        "polyglot download morph2.en morph2.mr"
      ],
      "metadata": {
        "colab": {
          "base_uri": "https://localhost:8080/"
        },
        "id": "QxrAIUfA4hSq",
        "outputId": "0cf0ce0f-679d-4631-94a3-0ae3ea98a411"
      },
      "execution_count": 2,
      "outputs": [
        {
          "output_type": "stream",
          "name": "stdout",
          "text": [
            "[polyglot_data] Downloading package morph2.en to\n",
            "[polyglot_data]     /root/polyglot_data...\n",
            "[polyglot_data] Downloading package morph2.mr to\n",
            "[polyglot_data]     /root/polyglot_data...\n"
          ]
        }
      ]
    },
    {
      "cell_type": "code",
      "source": [
        "from polyglot.text import Text, Word"
      ],
      "metadata": {
        "id": "kEuPZHnpBVsq"
      },
      "execution_count": 3,
      "outputs": []
    },
    {
      "cell_type": "code",
      "source": [
        "words = ['cats','computing','association']"
      ],
      "metadata": {
        "id": "AXJCGuoaBgpK"
      },
      "execution_count": 4,
      "outputs": []
    },
    {
      "cell_type": "code",
      "source": [
        "for w in words:\n",
        "  w = Word(w,language='en')\n",
        "  print(w,w.morphemes)"
      ],
      "metadata": {
        "colab": {
          "base_uri": "https://localhost:8080/"
        },
        "id": "csJmjFRFBn3O",
        "outputId": "67ae757b-909b-4753-8a27-8b3f41807893"
      },
      "execution_count": 5,
      "outputs": [
        {
          "output_type": "stream",
          "name": "stdout",
          "text": [
            "cats ['cat', 's']\n",
            "computing ['com', 'put', 'ing']\n",
            "association ['associ', 'ation']\n"
          ]
        }
      ]
    },
    {
      "cell_type": "code",
      "source": [
        "words = ['अलौकिक','संपूर्णता']"
      ],
      "metadata": {
        "id": "pIamvkfRBs7q"
      },
      "execution_count": 6,
      "outputs": []
    },
    {
      "cell_type": "code",
      "source": [
        "for w in words:\n",
        "  w = Word(w,language='mr')\n",
        "  print(w,w.morphemes)"
      ],
      "metadata": {
        "colab": {
          "base_uri": "https://localhost:8080/"
        },
        "id": "FBz-RtCfC_j4",
        "outputId": "29a3f9c6-5487-46cd-d7b1-d328ed0671b6"
      },
      "execution_count": null,
      "outputs": [
        {
          "output_type": "stream",
          "name": "stdout",
          "text": [
            "अलौकिक ['अ', 'लौकिक']\n",
            "संपूर्णता ['सं', 'पूर्ण', 'ता']\n"
          ]
        }
      ]
    }
  ]
}