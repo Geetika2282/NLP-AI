{
 "cells": [
  {
   "cell_type": "code",
   "execution_count": 1,
   "id": "1039093c-c484-4bea-8383-270527d5300e",
   "metadata": {},
   "outputs": [
    {
     "name": "stdout",
     "output_type": "stream",
     "text": [
      "Collecting language_tool_python\n",
      "  Downloading language_tool_python-2.8.1-py3-none-any.whl.metadata (12 kB)\n",
      "Requirement already satisfied: pip in c:\\users\\dai.studentsdc\\appdata\\local\\anaconda3\\lib\\site-packages (from language_tool_python) (24.2)\n",
      "Requirement already satisfied: requests in c:\\users\\dai.studentsdc\\appdata\\local\\anaconda3\\lib\\site-packages (from language_tool_python) (2.32.3)\n",
      "Requirement already satisfied: tqdm in c:\\users\\dai.studentsdc\\appdata\\local\\anaconda3\\lib\\site-packages (from language_tool_python) (4.66.5)\n",
      "Requirement already satisfied: wheel in c:\\users\\dai.studentsdc\\appdata\\local\\anaconda3\\lib\\site-packages (from language_tool_python) (0.44.0)\n",
      "Requirement already satisfied: charset-normalizer<4,>=2 in c:\\users\\dai.studentsdc\\appdata\\local\\anaconda3\\lib\\site-packages (from requests->language_tool_python) (3.3.2)\n",
      "Requirement already satisfied: idna<4,>=2.5 in c:\\users\\dai.studentsdc\\appdata\\local\\anaconda3\\lib\\site-packages (from requests->language_tool_python) (3.7)\n",
      "Requirement already satisfied: urllib3<3,>=1.21.1 in c:\\users\\dai.studentsdc\\appdata\\local\\anaconda3\\lib\\site-packages (from requests->language_tool_python) (2.2.3)\n",
      "Requirement already satisfied: certifi>=2017.4.17 in c:\\users\\dai.studentsdc\\appdata\\local\\anaconda3\\lib\\site-packages (from requests->language_tool_python) (2024.8.30)\n",
      "Requirement already satisfied: colorama in c:\\users\\dai.studentsdc\\appdata\\local\\anaconda3\\lib\\site-packages (from tqdm->language_tool_python) (0.4.6)\n",
      "Downloading language_tool_python-2.8.1-py3-none-any.whl (35 kB)\n",
      "Installing collected packages: language_tool_python\n",
      "Successfully installed language_tool_python-2.8.1\n",
      "Note: you may need to restart the kernel to use updated packages.\n"
     ]
    },
    {
     "name": "stderr",
     "output_type": "stream",
     "text": [
      "WARNING: Ignoring invalid distribution ~umpy (C:\\Users\\DAI.STUDENTSDC\\AppData\\Local\\anaconda3\\Lib\\site-packages)\n",
      "WARNING: Ignoring invalid distribution ~umpy (C:\\Users\\DAI.STUDENTSDC\\AppData\\Local\\anaconda3\\Lib\\site-packages)\n",
      "WARNING: Ignoring invalid distribution ~umpy (C:\\Users\\DAI.STUDENTSDC\\AppData\\Local\\anaconda3\\Lib\\site-packages)\n"
     ]
    }
   ],
   "source": [
    "pip install language_tool_python"
   ]
  },
  {
   "cell_type": "code",
   "execution_count": 2,
   "id": "b6ce29a3-d39c-43d0-8250-c4b6ad8e256a",
   "metadata": {},
   "outputs": [],
   "source": [
    "import language_tool_python"
   ]
  },
  {
   "cell_type": "code",
   "execution_count": 3,
   "id": "708fa79f-3fc8-4a8f-82a8-9e189604dbb4",
   "metadata": {},
   "outputs": [
    {
     "name": "stderr",
     "output_type": "stream",
     "text": [
      "Downloading LanguageTool 6.4: 100%|█████████████████████████████████████████████████| 246M/246M [00:08<00:00, 29.4MB/s]\n",
      "Unzipping C:\\Users\\DAI~1.STU\\AppData\\Local\\Temp\\tmpd6ca_68u.zip to C:\\Users\\DAI.STUDENTSDC\\.cache\\language_tool_python.\n",
      "Downloaded https://www.languagetool.org/download/LanguageTool-6.4.zip to C:\\Users\\DAI.STUDENTSDC\\.cache\\language_tool_python.\n"
     ]
    }
   ],
   "source": [
    "my_tool = language_tool_python.LanguageTool('en-US')"
   ]
  },
  {
   "cell_type": "code",
   "execution_count": 47,
   "id": "5c364268-67d7-409a-873e-ee151238d9b3",
   "metadata": {},
   "outputs": [],
   "source": [
    "my_text = \"He ate one coffees\""
   ]
  },
  {
   "cell_type": "code",
   "execution_count": 48,
   "id": "bee2a52b-2d5c-4388-b905-df29949d535e",
   "metadata": {},
   "outputs": [],
   "source": [
    "matches = my_tool.check(my_text)"
   ]
  },
  {
   "cell_type": "code",
   "execution_count": 49,
   "id": "c1764ea2-297d-4b7e-9cf3-d50b391affbf",
   "metadata": {},
   "outputs": [
    {
     "data": {
      "text/plain": [
       "1"
      ]
     },
     "execution_count": 49,
     "metadata": {},
     "output_type": "execute_result"
    }
   ],
   "source": [
    "len(matches)"
   ]
  },
  {
   "cell_type": "code",
   "execution_count": 50,
   "id": "92628ff1-57e1-4e8b-a87a-13d67129364a",
   "metadata": {},
   "outputs": [
    {
     "name": "stdout",
     "output_type": "stream",
     "text": [
      "Offset 7, length 11, Rule ID: ONE_PLURAL\n",
      "Message: Please verify that the plural noun “coffees” is in agreement with the quantifier “one”. Did you mean to use the singular form?\n",
      "Suggestion: one coffee; a coffee; coffees\n",
      "He ate one coffees\n",
      "       ^^^^^^^^^^^\n"
     ]
    }
   ],
   "source": [
    "for m in matches: \n",
    "    print(m)"
   ]
  },
  {
   "cell_type": "code",
   "execution_count": 51,
   "id": "5c201a45-afb4-4bda-a2fb-26fd0d533447",
   "metadata": {},
   "outputs": [
    {
     "data": {
      "text/plain": [
       "'He ate one coffee'"
      ]
     },
     "execution_count": 51,
     "metadata": {},
     "output_type": "execute_result"
    }
   ],
   "source": [
    "my_tool.correct(my_text)"
   ]
  },
  {
   "cell_type": "code",
   "execution_count": null,
   "id": "355edf60-5ced-4f78-aa67-f63910aa4974",
   "metadata": {},
   "outputs": [],
   "source": []
  }
 ],
 "metadata": {
  "kernelspec": {
   "display_name": "Python 3 (ipykernel)",
   "language": "python",
   "name": "python3"
  },
  "language_info": {
   "codemirror_mode": {
    "name": "ipython",
    "version": 3
   },
   "file_extension": ".py",
   "mimetype": "text/x-python",
   "name": "python",
   "nbconvert_exporter": "python",
   "pygments_lexer": "ipython3",
   "version": "3.12.7"
  }
 },
 "nbformat": 4,
 "nbformat_minor": 5
}
