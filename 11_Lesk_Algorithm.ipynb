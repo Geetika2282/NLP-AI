{
  "nbformat": 4,
  "nbformat_minor": 0,
  "metadata": {
    "colab": {
      "provenance": []
    },
    "kernelspec": {
      "name": "python3",
      "display_name": "Python 3"
    },
    "language_info": {
      "name": "python"
    }
  },
  "cells": [
    {
      "cell_type": "markdown",
      "source": [
        "### Import the libraries"
      ],
      "metadata": {
        "id": "m17mdSj26ZPZ"
      }
    },
    {
      "cell_type": "code",
      "execution_count": 5,
      "metadata": {
        "colab": {
          "base_uri": "https://localhost:8080/"
        },
        "id": "Bgh3vTKb5-93",
        "outputId": "a81b1201-fef3-4b80-bd3d-5b2fc44951e6"
      },
      "outputs": [
        {
          "output_type": "stream",
          "name": "stderr",
          "text": [
            "[nltk_data] Downloading package punkt_tab to /root/nltk_data...\n",
            "[nltk_data]   Package punkt_tab is already up-to-date!\n",
            "[nltk_data] Downloading package wordnet to /root/nltk_data...\n"
          ]
        },
        {
          "output_type": "execute_result",
          "data": {
            "text/plain": [
              "True"
            ]
          },
          "metadata": {},
          "execution_count": 5
        }
      ],
      "source": [
        "import nltk\n",
        "from nltk.tokenize import word_tokenize\n",
        "from nltk.wsd import lesk\n",
        "nltk.download('punkt_tab')\n",
        "nltk.download('wordnet')"
      ]
    },
    {
      "cell_type": "markdown",
      "source": [
        "### Define the sentence with word ambiguity"
      ],
      "metadata": {
        "id": "pVz5lgly6y6f"
      }
    },
    {
      "cell_type": "code",
      "source": [
        "a1 = lesk(word_tokenize('We have to jam the signal around us.'),'jam')"
      ],
      "metadata": {
        "id": "YRCWHjsu6l1z"
      },
      "execution_count": 12,
      "outputs": []
    },
    {
      "cell_type": "code",
      "source": [
        "a1.definition()"
      ],
      "metadata": {
        "colab": {
          "base_uri": "https://localhost:8080/",
          "height": 53
        },
        "id": "IVDBRna5649b",
        "outputId": "456485c0-987e-4e19-e9d8-326fb5ed3b37"
      },
      "execution_count": 13,
      "outputs": [
        {
          "output_type": "execute_result",
          "data": {
            "text/plain": [
              "'deliberate radiation or reflection of electromagnetic energy for the purpose of disrupting enemy use of electronic devices or systems'"
            ],
            "application/vnd.google.colaboratory.intrinsic+json": {
              "type": "string"
            }
          },
          "metadata": {},
          "execution_count": 13
        }
      ]
    },
    {
      "cell_type": "code",
      "source": [
        "a2 = lesk(word_tokenize('I am stuck in a heavy traffic jam.'),'jam')"
      ],
      "metadata": {
        "id": "1zaURK4J7C3l"
      },
      "execution_count": 8,
      "outputs": []
    },
    {
      "cell_type": "code",
      "source": [
        "a2.definition()"
      ],
      "metadata": {
        "colab": {
          "base_uri": "https://localhost:8080/",
          "height": 36
        },
        "id": "rEIdwwEv7N3R",
        "outputId": "e4bdb8af-a1d6-45cd-c546-085bd9fb5f80"
      },
      "execution_count": 9,
      "outputs": [
        {
          "output_type": "execute_result",
          "data": {
            "text/plain": [
              "'get stuck and immobilized'"
            ],
            "application/vnd.google.colaboratory.intrinsic+json": {
              "type": "string"
            }
          },
          "metadata": {},
          "execution_count": 9
        }
      ]
    },
    {
      "cell_type": "code",
      "source": [
        "a2.examples()"
      ],
      "metadata": {
        "colab": {
          "base_uri": "https://localhost:8080/"
        },
        "id": "mPpmUXDG7P6w",
        "outputId": "4a643f6d-79ac-4055-c659-e54d9ab4cd5d"
      },
      "execution_count": 10,
      "outputs": [
        {
          "output_type": "execute_result",
          "data": {
            "text/plain": [
              "['the mechanism jammed']"
            ]
          },
          "metadata": {},
          "execution_count": 10
        }
      ]
    },
    {
      "cell_type": "code",
      "source": [
        "a1.hyponyms()"
      ],
      "metadata": {
        "colab": {
          "base_uri": "https://localhost:8080/"
        },
        "id": "OS8R8bof7eVJ",
        "outputId": "1f837a78-83bd-480f-8137-f3f4e76acbbd"
      },
      "execution_count": 14,
      "outputs": [
        {
          "output_type": "execute_result",
          "data": {
            "text/plain": [
              "[Synset('spot_jamming.n.01'), Synset('barrage_jamming.n.01')]"
            ]
          },
          "metadata": {},
          "execution_count": 14
        }
      ]
    },
    {
      "cell_type": "code",
      "source": [
        "a3 = lesk(word_tokenize('It was a good catch by the player.'),'catch')\n",
        "a3.definition()"
      ],
      "metadata": {
        "colab": {
          "base_uri": "https://localhost:8080/",
          "height": 53
        },
        "id": "egE6MlQg7t6i",
        "outputId": "6ad1b397-1e41-4a27-958f-4be8f074dfb1"
      },
      "execution_count": 15,
      "outputs": [
        {
          "output_type": "execute_result",
          "data": {
            "text/plain": [
              "'discover or come upon accidentally, suddenly, or unexpectedly; catch somebody doing something or in a certain state'"
            ],
            "application/vnd.google.colaboratory.intrinsic+json": {
              "type": "string"
            }
          },
          "metadata": {},
          "execution_count": 15
        }
      ]
    },
    {
      "cell_type": "code",
      "source": [
        "a4 = lesk(word_tokenize('You should catch that opportunity'),'catch')\n",
        "a4.definition()"
      ],
      "metadata": {
        "colab": {
          "base_uri": "https://localhost:8080/",
          "height": 36
        },
        "id": "nxGMMZMP81Kj",
        "outputId": "dad8ba4f-3204-481c-a77d-b389edb6d94d"
      },
      "execution_count": 16,
      "outputs": [
        {
          "output_type": "execute_result",
          "data": {
            "text/plain": [
              "'catch up with and possibly overtake'"
            ],
            "application/vnd.google.colaboratory.intrinsic+json": {
              "type": "string"
            }
          },
          "metadata": {},
          "execution_count": 16
        }
      ]
    },
    {
      "cell_type": "code",
      "source": [
        "d1 = lesk(word_tokenize('He like flowers'),'like')\n",
        "d1.definition()"
      ],
      "metadata": {
        "colab": {
          "base_uri": "https://localhost:8080/",
          "height": 36
        },
        "id": "YcGu_LU08_0u",
        "outputId": "275b8a0e-49b9-4069-f899-b1000f044934"
      },
      "execution_count": 18,
      "outputs": [
        {
          "output_type": "execute_result",
          "data": {
            "text/plain": [
              "'prefer or wish to do something'"
            ],
            "application/vnd.google.colaboratory.intrinsic+json": {
              "type": "string"
            }
          },
          "metadata": {},
          "execution_count": 18
        }
      ]
    },
    {
      "cell_type": "code",
      "source": [
        "d2 = lesk(word_tokenize('She went to the AXIS bank on Yamuna bank'), 'bank')\n",
        "d2.definition()"
      ],
      "metadata": {
        "colab": {
          "base_uri": "https://localhost:8080/",
          "height": 36
        },
        "id": "YotEDc5-9HhZ",
        "outputId": "926a159f-6710-4286-8711-f642c7e8d003"
      },
      "execution_count": 24,
      "outputs": [
        {
          "output_type": "execute_result",
          "data": {
            "text/plain": [
              "'cover with ashes so to control the rate of burning'"
            ],
            "application/vnd.google.colaboratory.intrinsic+json": {
              "type": "string"
            }
          },
          "metadata": {},
          "execution_count": 24
        }
      ]
    },
    {
      "cell_type": "code",
      "source": [
        "d3 = lesk(word_tokenize(\"I want to read that book after I book a ticket to fly to Spain\"), 'book')\n",
        "d3.definition()"
      ],
      "metadata": {
        "colab": {
          "base_uri": "https://localhost:8080/",
          "height": 53
        },
        "id": "T71SB-Sr9t-o",
        "outputId": "e56b81a1-ad53-4af9-991a-d09e91b2d3fd"
      },
      "execution_count": 25,
      "outputs": [
        {
          "output_type": "execute_result",
          "data": {
            "text/plain": [
              "'a written work or composition that has been published (printed on pages bound together)'"
            ],
            "application/vnd.google.colaboratory.intrinsic+json": {
              "type": "string"
            }
          },
          "metadata": {},
          "execution_count": 25
        }
      ]
    },
    {
      "cell_type": "code",
      "source": [
        "sentence1 = \"The dog started to bark loudly in the yard.\"\n",
        "sentence2 = \"His tree's bark was rough and peeling off.\"\n",
        "\n",
        "sense1 = lesk(word_tokenize(sentence1), 'bark')\n",
        "sense2 = lesk(word_tokenize(sentence2), 'bark')\n",
        "\n",
        "sense1.definition()\n",
        "\n"
      ],
      "metadata": {
        "colab": {
          "base_uri": "https://localhost:8080/",
          "height": 36
        },
        "id": "edXELavL-cOh",
        "outputId": "14016c08-34de-4ca5-8b01-f1866621d6df"
      },
      "execution_count": 27,
      "outputs": [
        {
          "output_type": "execute_result",
          "data": {
            "text/plain": [
              "'a noise resembling the bark of a dog'"
            ],
            "application/vnd.google.colaboratory.intrinsic+json": {
              "type": "string"
            }
          },
          "metadata": {},
          "execution_count": 27
        }
      ]
    },
    {
      "cell_type": "code",
      "source": [
        "sense2.definition()"
      ],
      "metadata": {
        "colab": {
          "base_uri": "https://localhost:8080/",
          "height": 36
        },
        "id": "MwEO1912_qAZ",
        "outputId": "261bbf77-2f21-4385-ad45-7a7e2effa903"
      },
      "execution_count": 28,
      "outputs": [
        {
          "output_type": "execute_result",
          "data": {
            "text/plain": [
              "'remove the bark of a tree'"
            ],
            "application/vnd.google.colaboratory.intrinsic+json": {
              "type": "string"
            }
          },
          "metadata": {},
          "execution_count": 28
        }
      ]
    },
    {
      "cell_type": "code",
      "source": [],
      "metadata": {
        "id": "hH-7LzRc_toT"
      },
      "execution_count": null,
      "outputs": []
    }
  ]
}