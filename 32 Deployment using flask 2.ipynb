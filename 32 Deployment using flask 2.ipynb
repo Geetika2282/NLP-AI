{
 "cells": [
  {
   "cell_type": "code",
   "execution_count": null,
   "id": "457b4bd6-15eb-4c41-b006-082e81f6e0d6",
   "metadata": {},
   "outputs": [
    {
     "name": "stdout",
     "output_type": "stream",
     "text": [
      " * Serving Flask app '__main__'\n",
      " * Debug mode: off\n"
     ]
    },
    {
     "name": "stderr",
     "output_type": "stream",
     "text": [
      "WARNING: This is a development server. Do not use it in a production deployment. Use a production WSGI server instead.\n",
      " * Running on http://127.0.0.1:5000\n",
      "Press CTRL+C to quit\n",
      "127.0.0.1 - - [17/Dec/2024 10:34:43] \"GET / HTTP/1.1\" 200 -\n",
      "127.0.0.1 - - [17/Dec/2024 10:34:52] \"GET /hello/Alisha HTTP/1.1\" 200 -\n",
      "127.0.0.1 - - [17/Dec/2024 10:36:29] \"GET /hello/Alisha-Geetika HTTP/1.1\" 200 -\n",
      "127.0.0.1 - - [17/Dec/2024 10:36:37] \"GET /hello/Alisha HTTP/1.1\" 200 -\n"
     ]
    }
   ],
   "source": [
    "# URL Encoding\n",
    "from flask import Flask\n",
    "app = Flask(__name__)\n",
    "\n",
    "@app.route('/')\n",
    "def hello_world():\n",
    "    return ('Welcome to AI')\n",
    "\n",
    "@app.route('/hello/<name>')\n",
    "def hello(name):\n",
    "    return ('Hello %s' %name)\n",
    "\n",
    "if __name__ == '__main__':\n",
    "    app.run(debug=False)"
   ]
  },
  {
   "cell_type": "code",
   "execution_count": null,
   "id": "a72cc8c9-f663-4917-b25d-62ef4b3e7c66",
   "metadata": {},
   "outputs": [],
   "source": []
  }
 ],
 "metadata": {
  "kernelspec": {
   "display_name": "Python 3 (ipykernel)",
   "language": "python",
   "name": "python3"
  },
  "language_info": {
   "codemirror_mode": {
    "name": "ipython",
    "version": 3
   },
   "file_extension": ".py",
   "mimetype": "text/x-python",
   "name": "python",
   "nbconvert_exporter": "python",
   "pygments_lexer": "ipython3",
   "version": "3.12.4"
  }
 },
 "nbformat": 4,
 "nbformat_minor": 5
}
