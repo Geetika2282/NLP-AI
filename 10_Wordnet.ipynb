{
  "nbformat": 4,
  "nbformat_minor": 0,
  "metadata": {
    "colab": {
      "provenance": []
    },
    "kernelspec": {
      "name": "python3",
      "display_name": "Python 3"
    },
    "language_info": {
      "name": "python"
    }
  },
  "cells": [
    {
      "cell_type": "code",
      "execution_count": null,
      "metadata": {
        "colab": {
          "base_uri": "https://localhost:8080/"
        },
        "id": "lb5jt3avd0Tn",
        "outputId": "51e7f971-6f4b-48c3-93ac-4af60532cd58"
      },
      "outputs": [
        {
          "output_type": "stream",
          "name": "stderr",
          "text": [
            "[nltk_data] Downloading package wordnet to /root/nltk_data...\n",
            "[nltk_data]   Package wordnet is already up-to-date!\n"
          ]
        }
      ],
      "source": [
        "import nltk\n",
        "nltk.download('wordnet')\n",
        "import nltk.corpus\n",
        "from nltk.corpus import wordnet"
      ]
    },
    {
      "cell_type": "markdown",
      "source": [
        "### Using synsets"
      ],
      "metadata": {
        "id": "L7diBubYeZsA"
      }
    },
    {
      "cell_type": "code",
      "source": [
        "# synsets finds similar words\n",
        "x = wordnet.synsets('good')"
      ],
      "metadata": {
        "id": "5M3yR4OHeI8M"
      },
      "execution_count": null,
      "outputs": []
    },
    {
      "cell_type": "code",
      "source": [
        "x"
      ],
      "metadata": {
        "colab": {
          "base_uri": "https://localhost:8080/"
        },
        "id": "UsWfCsenekM6",
        "outputId": "274d255e-d4ae-46f5-8a5a-e7df28123067"
      },
      "execution_count": null,
      "outputs": [
        {
          "output_type": "execute_result",
          "data": {
            "text/plain": [
              "[Synset('good.n.01'),\n",
              " Synset('good.n.02'),\n",
              " Synset('good.n.03'),\n",
              " Synset('commodity.n.01'),\n",
              " Synset('good.a.01'),\n",
              " Synset('full.s.06'),\n",
              " Synset('good.a.03'),\n",
              " Synset('estimable.s.02'),\n",
              " Synset('beneficial.s.01'),\n",
              " Synset('good.s.06'),\n",
              " Synset('good.s.07'),\n",
              " Synset('adept.s.01'),\n",
              " Synset('good.s.09'),\n",
              " Synset('dear.s.02'),\n",
              " Synset('dependable.s.04'),\n",
              " Synset('good.s.12'),\n",
              " Synset('good.s.13'),\n",
              " Synset('effective.s.04'),\n",
              " Synset('good.s.15'),\n",
              " Synset('good.s.16'),\n",
              " Synset('good.s.17'),\n",
              " Synset('good.s.18'),\n",
              " Synset('good.s.19'),\n",
              " Synset('good.s.20'),\n",
              " Synset('good.s.21'),\n",
              " Synset('well.r.01'),\n",
              " Synset('thoroughly.r.02')]"
            ]
          },
          "metadata": {},
          "execution_count": 3
        }
      ]
    },
    {
      "cell_type": "code",
      "source": [
        "synonyms = set()\n",
        "for word in wordnet.synsets('good'):\n",
        "    for lemma in word.lemmas():\n",
        "        synonyms.add(word.lemmas()[0].name())"
      ],
      "metadata": {
        "id": "94pRu21fe1hg"
      },
      "execution_count": null,
      "outputs": []
    },
    {
      "cell_type": "code",
      "source": [
        "synonyms"
      ],
      "metadata": {
        "colab": {
          "base_uri": "https://localhost:8080/"
        },
        "id": "vEJouCnhfbs5",
        "outputId": "dad32aba-ed0d-4a06-f478-6182930b6197"
      },
      "execution_count": null,
      "outputs": [
        {
          "output_type": "execute_result",
          "data": {
            "text/plain": [
              "{'adept',\n",
              " 'beneficial',\n",
              " 'commodity',\n",
              " 'dear',\n",
              " 'dependable',\n",
              " 'effective',\n",
              " 'estimable',\n",
              " 'full',\n",
              " 'good',\n",
              " 'thoroughly',\n",
              " 'well'}"
            ]
          },
          "metadata": {},
          "execution_count": 5
        }
      ]
    },
    {
      "cell_type": "code",
      "source": [
        "wordnet.synsets('good')[0].lemmas()[0].name()"
      ],
      "metadata": {
        "colab": {
          "base_uri": "https://localhost:8080/",
          "height": 36
        },
        "id": "XfrsTOK-fd4I",
        "outputId": "1e7abc60-5983-4283-cd20-53a24bddb135"
      },
      "execution_count": null,
      "outputs": [
        {
          "output_type": "execute_result",
          "data": {
            "text/plain": [
              "'good'"
            ],
            "application/vnd.google.colaboratory.intrinsic+json": {
              "type": "string"
            }
          },
          "metadata": {},
          "execution_count": 6
        }
      ]
    },
    {
      "cell_type": "code",
      "source": [
        "wordnet.synsets('good')[0].lemmas()"
      ],
      "metadata": {
        "colab": {
          "base_uri": "https://localhost:8080/"
        },
        "id": "d_1ZL27Rf-ep",
        "outputId": "c75233a7-a615-4d39-aff3-0accedb9e05d"
      },
      "execution_count": null,
      "outputs": [
        {
          "output_type": "execute_result",
          "data": {
            "text/plain": [
              "[Lemma('good.n.01.good')]"
            ]
          },
          "metadata": {},
          "execution_count": 7
        }
      ]
    },
    {
      "cell_type": "markdown",
      "source": [
        "## Extract definition and meaning from wordnet"
      ],
      "metadata": {
        "id": "YpfWJLh2hPRp"
      }
    },
    {
      "cell_type": "code",
      "source": [
        "synset = wordnet.synsets(\"post\")\n",
        "print('Word and Type: ' +synset[0].name())\n",
        "print('Synonym: '+synset[0].lemmas()[0].name())\n",
        "print('The meaning of the word: '+synset[0].definition())\n",
        "print('Example: '+str(synset[0].examples()))"
      ],
      "metadata": {
        "colab": {
          "base_uri": "https://localhost:8080/"
        },
        "id": "6EJED7LNgvlS",
        "outputId": "859db8d7-f6ba-411a-fa90-5c2f9711839c"
      },
      "execution_count": null,
      "outputs": [
        {
          "output_type": "stream",
          "name": "stdout",
          "text": [
            "Word and Type: post.n.01\n",
            "Synonym: post\n",
            "The meaning of the word: the position where someone (as a guard or sentry) stands or is assigned to stand\n",
            "Example: ['a soldier manned the entrance post', 'a sentry station']\n"
          ]
        }
      ]
    },
    {
      "cell_type": "code",
      "source": [
        "synset = wordnet.synsets(\"beautiful\")\n",
        "print('Word and Type: ' +synset[0].name())\n",
        "print('Synonym: '+synset[0].lemmas()[0].name())\n",
        "print('The meaning of the word: '+synset[0].definition())\n",
        "print('Example: '+str(synset[0].examples()))"
      ],
      "metadata": {
        "colab": {
          "base_uri": "https://localhost:8080/"
        },
        "id": "KIYkBQAPhecw",
        "outputId": "51a2fba4-acbf-4618-a83f-3640eeb03ae8"
      },
      "execution_count": null,
      "outputs": [
        {
          "output_type": "stream",
          "name": "stdout",
          "text": [
            "Word and Type: beautiful.a.01\n",
            "Synonym: beautiful\n",
            "The meaning of the word: delighting the senses or exciting intellectual or emotional admiration\n",
            "Example: ['a beautiful child', 'beautiful country', 'a beautiful painting', 'a beautiful theory', 'a beautiful party']\n"
          ]
        }
      ]
    },
    {
      "cell_type": "code",
      "source": [
        "synset = wordnet.synsets(\"post\")\n",
        "print('Word and Type: ' +synset[8].name())\n",
        "print('Synonym: '+synset[8].lemmas()[0].name())\n",
        "print('The meaning of the word: '+synset[8].definition())\n",
        "print('Example: '+str(synset[8].examples()))"
      ],
      "metadata": {
        "colab": {
          "base_uri": "https://localhost:8080/"
        },
        "id": "MTEp2gWBhoHa",
        "outputId": "4be80da1-1967-4d3c-eb1c-7c60a44ac556"
      },
      "execution_count": null,
      "outputs": [
        {
          "output_type": "stream",
          "name": "stdout",
          "text": [
            "Word and Type: post.n.09\n",
            "Synonym: post\n",
            "The meaning of the word: a pole or stake set up to mark something (as the start or end of a race track)\n",
            "Example: ['a pair of posts marked the goal', 'the corner of the lot was indicated by a stake']\n"
          ]
        }
      ]
    },
    {
      "cell_type": "code",
      "source": [
        "synset = wordnet.synsets(\"post\")\n",
        "print('Word and Type: ' +synset[10].name())\n",
        "print('Synonym: '+synset[10].lemmas()[0].name())\n",
        "print('The meaning of the word: '+synset[10].definition())\n",
        "print('Example: '+str(synset[10].examples()))"
      ],
      "metadata": {
        "colab": {
          "base_uri": "https://localhost:8080/"
        },
        "id": "tcolxDinhtBl",
        "outputId": "2f56f54c-95bd-4054-9906-9f0df2742eb2"
      },
      "execution_count": null,
      "outputs": [
        {
          "output_type": "stream",
          "name": "stdout",
          "text": [
            "Word and Type: post.n.11\n",
            "Synonym: post\n",
            "The meaning of the word: the delivery and collection of letters and packages\n",
            "Example: ['it came by the first post', \"if you hurry you'll catch the post\"]\n"
          ]
        }
      ]
    },
    {
      "cell_type": "code",
      "source": [
        "synset = wordnet.synsets(\"post\")\n",
        "print('Word and Type: ' +synset[15].name())\n",
        "print('Synonym: '+synset[15].lemmas()[0].name())\n",
        "print('The meaning of the word: '+synset[15].definition())\n",
        "print('Example: '+str(synset[15].examples()))"
      ],
      "metadata": {
        "colab": {
          "base_uri": "https://localhost:8080/"
        },
        "id": "9LMj3Owdhz3Q",
        "outputId": "d606b3e0-104a-4e33-daeb-06a40da42896"
      },
      "execution_count": null,
      "outputs": [
        {
          "output_type": "stream",
          "name": "stdout",
          "text": [
            "Word and Type: post.v.05\n",
            "Synonym: post\n",
            "The meaning of the word: display, as of records in sports games\n",
            "Example: []\n"
          ]
        }
      ]
    },
    {
      "cell_type": "code",
      "source": [
        "synset"
      ],
      "metadata": {
        "colab": {
          "base_uri": "https://localhost:8080/"
        },
        "id": "NMYbC_nbh8Bp",
        "outputId": "fa728d95-6c73-4066-e2e2-d42cbf1d33b1"
      },
      "execution_count": null,
      "outputs": [
        {
          "output_type": "execute_result",
          "data": {
            "text/plain": [
              "[Synset('post.n.01'),\n",
              " Synset('military_post.n.01'),\n",
              " Synset('position.n.06'),\n",
              " Synset('post.n.04'),\n",
              " Synset('post.n.05'),\n",
              " Synset('post.n.06'),\n",
              " Synset('post.n.07'),\n",
              " Synset('mail.n.04'),\n",
              " Synset('post.n.09'),\n",
              " Synset('mail.n.02'),\n",
              " Synset('post.n.11'),\n",
              " Synset('post.v.01'),\n",
              " Synset('post.v.02'),\n",
              " Synset('post.v.03'),\n",
              " Synset('station.v.01'),\n",
              " Synset('post.v.05'),\n",
              " Synset('post.v.06'),\n",
              " Synset('post.v.07'),\n",
              " Synset('post.v.08'),\n",
              " Synset('stake.v.03'),\n",
              " Synset('post.v.10'),\n",
              " Synset('mail.v.02'),\n",
              " Synset('post.v.12')]"
            ]
          },
          "metadata": {},
          "execution_count": 13
        }
      ]
    },
    {
      "cell_type": "code",
      "source": [
        "wordnet.synsets('sound')"
      ],
      "metadata": {
        "colab": {
          "base_uri": "https://localhost:8080/"
        },
        "id": "Hg6JT3HfizJh",
        "outputId": "a3ee5a60-d705-417c-9144-dc1c6b615e86"
      },
      "execution_count": null,
      "outputs": [
        {
          "output_type": "execute_result",
          "data": {
            "text/plain": [
              "[Synset('sound.n.01'),\n",
              " Synset('sound.n.02'),\n",
              " Synset('sound.n.03'),\n",
              " Synset('sound.n.04'),\n",
              " Synset('audio.n.01'),\n",
              " Synset('phone.n.02'),\n",
              " Synset('strait.n.01'),\n",
              " Synset('sound.n.08'),\n",
              " Synset('sound.v.01'),\n",
              " Synset('sound.v.02'),\n",
              " Synset('sound.v.03'),\n",
              " Synset('sound.v.04'),\n",
              " Synset('voice.v.02'),\n",
              " Synset('sound.v.06'),\n",
              " Synset('fathom.v.02'),\n",
              " Synset('sound.a.01'),\n",
              " Synset('healthy.s.04'),\n",
              " Synset('sound.a.03'),\n",
              " Synset('good.s.17'),\n",
              " Synset('reasoned.s.01'),\n",
              " Synset('legal.s.03'),\n",
              " Synset('sound.s.07'),\n",
              " Synset('heavy.s.26'),\n",
              " Synset('sound.s.09')]"
            ]
          },
          "metadata": {},
          "execution_count": 14
        }
      ]
    },
    {
      "cell_type": "code",
      "source": [
        "for word in wordnet.synsets('sound', pos='v'):\n",
        "  print(word.name())"
      ],
      "metadata": {
        "colab": {
          "base_uri": "https://localhost:8080/"
        },
        "id": "gElrjmNjiJNQ",
        "outputId": "2d0c2e94-2461-4852-d52c-b05cfe4cd3ef"
      },
      "execution_count": null,
      "outputs": [
        {
          "output_type": "stream",
          "name": "stdout",
          "text": [
            "sound.v.01\n",
            "sound.v.02\n",
            "sound.v.03\n",
            "sound.v.04\n",
            "voice.v.02\n",
            "sound.v.06\n",
            "fathom.v.02\n"
          ]
        }
      ]
    },
    {
      "cell_type": "markdown",
      "source": [
        "Read a word from user and print all meanings of it"
      ],
      "metadata": {
        "id": "wUKKSAZ-jCw_"
      }
    },
    {
      "cell_type": "code",
      "source": [
        "word = input(\"Enter a word: \")\n",
        "wordnet.synsets(word)"
      ],
      "metadata": {
        "colab": {
          "base_uri": "https://localhost:8080/"
        },
        "id": "9mLL7Kxuickw",
        "outputId": "19fec7ef-9f56-4e48-de30-2f5f2bd5a6a1"
      },
      "execution_count": null,
      "outputs": [
        {
          "name": "stdout",
          "output_type": "stream",
          "text": [
            "Enter a word: happy\n"
          ]
        },
        {
          "output_type": "execute_result",
          "data": {
            "text/plain": [
              "[Synset('happy.a.01'),\n",
              " Synset('felicitous.s.02'),\n",
              " Synset('glad.s.02'),\n",
              " Synset('happy.s.04')]"
            ]
          },
          "metadata": {},
          "execution_count": 16
        }
      ]
    },
    {
      "cell_type": "markdown",
      "source": [
        "Read a word from user and print all 'noun' meanings of it"
      ],
      "metadata": {
        "id": "asaMgEOojkco"
      }
    },
    {
      "cell_type": "code",
      "source": [
        "wordnet.synsets(word, pos= 'n')"
      ],
      "metadata": {
        "colab": {
          "base_uri": "https://localhost:8080/"
        },
        "id": "YipO6B-rjUAJ",
        "outputId": "b0bfa90b-9a0e-4e52-aca8-b6e08c438d42"
      },
      "execution_count": null,
      "outputs": [
        {
          "output_type": "execute_result",
          "data": {
            "text/plain": [
              "[]"
            ]
          },
          "metadata": {},
          "execution_count": 17
        }
      ]
    },
    {
      "cell_type": "code",
      "source": [
        "for word in wordnet.synsets(word):\n",
        "  print(word.name(), '->', word.definition())"
      ],
      "metadata": {
        "colab": {
          "base_uri": "https://localhost:8080/"
        },
        "id": "oHLB7dvnkCTo",
        "outputId": "cc3d2680-5f58-4b55-bdb3-b2e980540320"
      },
      "execution_count": null,
      "outputs": [
        {
          "output_type": "stream",
          "name": "stdout",
          "text": [
            "happy.a.01 -> enjoying or showing or marked by joy or pleasure\n",
            "felicitous.s.02 -> marked by good fortune\n",
            "glad.s.02 -> eagerly disposed to act or to be of service\n",
            "happy.s.04 -> well expressed and to the point\n"
          ]
        }
      ]
    },
    {
      "cell_type": "markdown",
      "source": [
        "### Different forms of the meaning for a word"
      ],
      "metadata": {
        "id": "samnWGOrmSbX"
      }
    },
    {
      "cell_type": "code",
      "source": [
        "verbs = set()\n",
        "nouns = set()\n",
        "adj = set()\n",
        "\n",
        "for word in wordnet.synsets('sound',pos='n'):\n",
        "  nouns.add(word.lemmas()[0].name())\n",
        "\n",
        "for word in wordnet.synsets('sound',pos='v'):\n",
        "  verbs.add(word.lemmas()[0].name())\n",
        "\n",
        "for word in wordnet.synsets('sound',pos='a'):\n",
        "  adj.add(word.lemmas()[0].name())"
      ],
      "metadata": {
        "id": "_B0hSK5SmJIa"
      },
      "execution_count": null,
      "outputs": []
    },
    {
      "cell_type": "code",
      "source": [
        "verbs"
      ],
      "metadata": {
        "colab": {
          "base_uri": "https://localhost:8080/"
        },
        "id": "DvO4pF3Kmqdr",
        "outputId": "2f4b7786-efc4-4556-bdcd-e76f0cde9316"
      },
      "execution_count": null,
      "outputs": [
        {
          "output_type": "execute_result",
          "data": {
            "text/plain": [
              "{'fathom', 'sound', 'voice'}"
            ]
          },
          "metadata": {},
          "execution_count": 22
        }
      ]
    },
    {
      "cell_type": "code",
      "source": [
        "nouns"
      ],
      "metadata": {
        "colab": {
          "base_uri": "https://localhost:8080/"
        },
        "id": "Mkgwb_27msY4",
        "outputId": "0b3a03a2-539f-429e-a51f-3c93eabaabfb"
      },
      "execution_count": null,
      "outputs": [
        {
          "output_type": "execute_result",
          "data": {
            "text/plain": [
              "{'audio', 'phone', 'sound', 'strait'}"
            ]
          },
          "metadata": {},
          "execution_count": 23
        }
      ]
    },
    {
      "cell_type": "code",
      "source": [
        "adj"
      ],
      "metadata": {
        "colab": {
          "base_uri": "https://localhost:8080/"
        },
        "id": "Ub9hraIImt13",
        "outputId": "2f3a3407-7c23-4862-ae2c-30581792a1f7"
      },
      "execution_count": null,
      "outputs": [
        {
          "output_type": "execute_result",
          "data": {
            "text/plain": [
              "{'good', 'healthy', 'heavy', 'legal', 'reasoned', 'sound'}"
            ]
          },
          "metadata": {},
          "execution_count": 24
        }
      ]
    },
    {
      "cell_type": "markdown",
      "source": [
        "### Finding antonyms"
      ],
      "metadata": {
        "id": "50Iqr0q0mwNu"
      }
    },
    {
      "cell_type": "code",
      "source": [
        "ant = set()\n",
        "for sunset in wordnet.synsets(\"possible\"):  # Iterate through synsets of \"possible\"\n",
        "  for lemma in sunset.lemmas():  # Get lemmas for the current synset 'sunset'\n",
        "    if lemma.antonyms():\n",
        "      ant.add(lemma.antonyms()[0].name())\n",
        "print('Antonyms: ',ant)"
      ],
      "metadata": {
        "colab": {
          "base_uri": "https://localhost:8080/"
        },
        "id": "uMIWPncrmudX",
        "outputId": "64787fcb-f2bf-4422-810a-0a4e0702d72f"
      },
      "execution_count": null,
      "outputs": [
        {
          "output_type": "stream",
          "name": "stdout",
          "text": [
            "Antonyms:  {'impossible', 'actual'}\n"
          ]
        }
      ]
    },
    {
      "cell_type": "code",
      "source": [
        "ant = set()\n",
        "for sunset in wordnet.synsets(\"happy\"):  # Iterate through synsets of \"possible\"\n",
        "  for lemma in sunset.lemmas():  # Get lemmas for the current synset 'sunset'\n",
        "    if lemma.antonyms():\n",
        "      ant.add(lemma.antonyms()[0].name())\n",
        "print('Antonyms: ',ant)"
      ],
      "metadata": {
        "colab": {
          "base_uri": "https://localhost:8080/"
        },
        "id": "oVN-f-StngH3",
        "outputId": "e5bd433a-23fc-4429-8b8a-0b3c6fcc3c8b"
      },
      "execution_count": null,
      "outputs": [
        {
          "output_type": "stream",
          "name": "stdout",
          "text": [
            "Antonyms:  {'unhappy'}\n"
          ]
        }
      ]
    },
    {
      "cell_type": "markdown",
      "source": [
        "### Find hypernyms"
      ],
      "metadata": {
        "id": "FTRsJ-pHoBpA"
      }
    },
    {
      "cell_type": "code",
      "source": [
        "word = \"soil\"\n",
        "synsets = wordnet.synsets(word)\n",
        "\n",
        "for synset in synsets:\n",
        "  # Get hypernyms (parent concepts)\n",
        "  hypernyms = synset.hypernyms()\n",
        "  # Check if there are any hypernyms\n",
        "  if hypernyms:\n",
        "    # Print hypernyms (can access name property for text)\n",
        "    for hypernym in hypernyms:\n",
        "      print(f\"{word} is a hyponym of {hypernym.name()}\")"
      ],
      "metadata": {
        "colab": {
          "base_uri": "https://localhost:8080/"
        },
        "id": "gSzg5pKcn5G9",
        "outputId": "813192f1-69f3-4528-c008-578340ef6e44"
      },
      "execution_count": null,
      "outputs": [
        {
          "output_type": "stream",
          "name": "stdout",
          "text": [
            "soil is a hyponym of dirtiness.n.01\n",
            "soil is a hyponym of earth.n.02\n",
            "soil is a hyponym of object.n.01\n",
            "soil is a hyponym of geographical_area.n.01\n",
            "soil is a hyponym of change.v.01\n"
          ]
        }
      ]
    },
    {
      "cell_type": "markdown",
      "source": [
        "### Find Meronyms"
      ],
      "metadata": {
        "id": "jOwP4YNzxuqF"
      }
    },
    {
      "cell_type": "code",
      "source": [
        "word = 'car'\n",
        "synsets = wordnet.synsets(word)\n",
        "\n",
        "for synset in synsets:\n",
        "  # get member meronyms (component parts)\n",
        "  meronyms = synset.part_meronyms()\n",
        "\n",
        "  # Check if there are any meronyms\n",
        "  if meronyms:\n",
        "    # Print meronyms (can access name property for text)\n",
        "    for meronym in meronyms:\n",
        "      print(word,'has a meronym: ',meronym.name())"
      ],
      "metadata": {
        "colab": {
          "base_uri": "https://localhost:8080/"
        },
        "id": "DjoJFf5KoiPa",
        "outputId": "ee0746ef-ed70-4b58-d888-140c0e1f8657"
      },
      "execution_count": null,
      "outputs": [
        {
          "output_type": "stream",
          "name": "stdout",
          "text": [
            "car has a meronym:  automobile_engine.n.01\n",
            "car has a meronym:  hood.n.09\n",
            "car has a meronym:  luggage_compartment.n.01\n",
            "car has a meronym:  roof.n.02\n",
            "car has a meronym:  gasoline_engine.n.01\n",
            "car has a meronym:  auto_accessory.n.01\n",
            "car has a meronym:  sunroof.n.01\n",
            "car has a meronym:  automobile_horn.n.01\n",
            "car has a meronym:  rear_window.n.01\n",
            "car has a meronym:  buffer.n.06\n",
            "car has a meronym:  fender.n.01\n",
            "car has a meronym:  glove_compartment.n.01\n",
            "car has a meronym:  floorboard.n.02\n",
            "car has a meronym:  car_window.n.01\n",
            "car has a meronym:  grille.n.02\n",
            "car has a meronym:  accelerator.n.01\n",
            "car has a meronym:  car_mirror.n.01\n",
            "car has a meronym:  first_gear.n.01\n",
            "car has a meronym:  stabilizer_bar.n.01\n",
            "car has a meronym:  bumper.n.02\n",
            "car has a meronym:  car_door.n.01\n",
            "car has a meronym:  reverse.n.02\n",
            "car has a meronym:  car_seat.n.01\n",
            "car has a meronym:  high_gear.n.01\n",
            "car has a meronym:  window.n.02\n",
            "car has a meronym:  tail_fin.n.02\n",
            "car has a meronym:  third_gear.n.01\n",
            "car has a meronym:  running_board.n.01\n",
            "car has a meronym:  air_bag.n.01\n",
            "car has a meronym:  suspension.n.05\n"
          ]
        }
      ]
    },
    {
      "cell_type": "code",
      "source": [
        "word = 'computer'\n",
        "synsets = wordnet.synsets(word)\n",
        "\n",
        "for synset in synsets:\n",
        "  # get member meronyms (component parts)\n",
        "  meronyms = synset.part_meronyms()\n",
        "\n",
        "  # Check if there are any meronyms\n",
        "  if meronyms:\n",
        "    # Print meronyms (can access name property for text)\n",
        "    for meronym in meronyms:\n",
        "      print(word,'has a meronym: ',meronym.name())"
      ],
      "metadata": {
        "colab": {
          "base_uri": "https://localhost:8080/"
        },
        "id": "uR6rfrtXyJJp",
        "outputId": "bbcb901d-0e13-43a4-f1de-454bd1bcea2e"
      },
      "execution_count": null,
      "outputs": [
        {
          "output_type": "stream",
          "name": "stdout",
          "text": [
            "computer has a meronym:  busbar.n.01\n",
            "computer has a meronym:  computer_circuit.n.01\n",
            "computer has a meronym:  data_converter.n.01\n",
            "computer has a meronym:  computer_accessory.n.01\n",
            "computer has a meronym:  diskette.n.01\n",
            "computer has a meronym:  memory.n.04\n",
            "computer has a meronym:  hardware.n.03\n",
            "computer has a meronym:  disk_cache.n.01\n",
            "computer has a meronym:  peripheral.n.01\n",
            "computer has a meronym:  cathode-ray_tube.n.01\n",
            "computer has a meronym:  monitor.n.04\n",
            "computer has a meronym:  keyboard.n.01\n",
            "computer has a meronym:  central_processing_unit.n.01\n",
            "computer has a meronym:  chip.n.07\n"
          ]
        }
      ]
    },
    {
      "cell_type": "code",
      "source": [],
      "metadata": {
        "id": "8zTKNEsQzJiY"
      },
      "execution_count": null,
      "outputs": []
    }
  ]
}