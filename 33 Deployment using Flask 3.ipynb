{
 "cells": [
  {
   "cell_type": "code",
   "execution_count": null,
   "id": "5bd0508c-46ed-41e0-9710-cf2af5708877",
   "metadata": {},
   "outputs": [
    {
     "name": "stdout",
     "output_type": "stream",
     "text": [
      " * Serving Flask app '__main__'\n",
      " * Debug mode: off\n"
     ]
    },
    {
     "name": "stderr",
     "output_type": "stream",
     "text": [
      "WARNING: This is a development server. Do not use it in a production deployment. Use a production WSGI server instead.\n",
      " * Running on http://127.0.0.1:5000\n",
      "Press CTRL+C to quit\n",
      "127.0.0.1 - - [17/Dec/2024 10:55:18] \"GET / HTTP/1.1\" 404 -\n",
      "127.0.0.1 - - [17/Dec/2024 10:55:27] \"GET /hello/Alisha HTTP/1.1\" 404 -\n",
      "127.0.0.1 - - [17/Dec/2024 10:55:32] \"GET / HTTP/1.1\" 404 -\n",
      "127.0.0.1 - - [17/Dec/2024 10:55:44] \"GET /user/Alisha HTTP/1.1\" 302 -\n",
      "127.0.0.1 - - [17/Dec/2024 10:55:44] \"GET /guest/Alisha HTTP/1.1\" 200 -\n"
     ]
    }
   ],
   "source": [
    "# URL Encoding\n",
    "from flask import Flask, url_for, redirect\n",
    "app = Flask(__name__)\n",
    "\n",
    "@app.route('/admin')\n",
    "def hello_admin():\n",
    "    return ('Welcome Admin!!!')\n",
    "\n",
    "@app.route('/guest/<guest>')\n",
    "def hello_guest(guest):\n",
    "    return ('Hello %s' %guest)\n",
    "\n",
    "@app.route('/user/<name>')\n",
    "def hello(name):\n",
    "    if name == 'admin':\n",
    "        return redirect(url_for('hello_admin'))\n",
    "    else:\n",
    "        return redirect(url_for('hello_guest',guest=name))\n",
    "if __name__ == '__main__':\n",
    "    app.run(debug=False)"
   ]
  },
  {
   "cell_type": "code",
   "execution_count": null,
   "id": "29556ca3-f96d-4e6e-9897-1265bb22ad63",
   "metadata": {},
   "outputs": [],
   "source": []
  }
 ],
 "metadata": {
  "kernelspec": {
   "display_name": "Python 3 (ipykernel)",
   "language": "python",
   "name": "python3"
  },
  "language_info": {
   "codemirror_mode": {
    "name": "ipython",
    "version": 3
   },
   "file_extension": ".py",
   "mimetype": "text/x-python",
   "name": "python",
   "nbconvert_exporter": "python",
   "pygments_lexer": "ipython3",
   "version": "3.12.4"
  }
 },
 "nbformat": 4,
 "nbformat_minor": 5
}
