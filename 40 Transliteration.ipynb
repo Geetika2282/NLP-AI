{
 "cells": [
  {
   "cell_type": "code",
   "execution_count": 1,
   "id": "f3e8739f-8401-4076-8a9b-b6fdc71dc0c5",
   "metadata": {},
   "outputs": [
    {
     "name": "stdout",
     "output_type": "stream",
     "text": [
      "Note: you may need to restart the kernel to use updated packages.Collecting indic_transliteration\n",
      "  Downloading indic_transliteration-2.3.68-py3-none-any.whl.metadata (1.4 kB)\n",
      "Collecting backports.functools-lru-cache (from indic_transliteration)\n",
      "  Downloading backports.functools_lru_cache-2.0.0-py2.py3-none-any.whl.metadata (3.5 kB)\n",
      "Requirement already satisfied: regex in c:\\users\\dai.studentsdc\\appdata\\local\\anaconda3\\lib\\site-packages (from indic_transliteration) (2024.9.11)\n",
      "Requirement already satisfied: typer in c:\\users\\dai.studentsdc\\appdata\\local\\anaconda3\\lib\\site-packages (from indic_transliteration) (0.15.1)\n",
      "Requirement already satisfied: toml in c:\\users\\dai.studentsdc\\appdata\\local\\anaconda3\\lib\\site-packages (from indic_transliteration) (0.10.2)\n",
      "Collecting roman (from indic_transliteration)\n",
      "  Downloading roman-4.2-py3-none-any.whl.metadata (3.6 kB)\n",
      "Requirement already satisfied: click>=8.0.0 in c:\\users\\dai.studentsdc\\appdata\\local\\anaconda3\\lib\\site-packages (from typer->indic_transliteration) (8.1.7)\n",
      "Requirement already satisfied: typing-extensions>=3.7.4.3 in c:\\users\\dai.studentsdc\\appdata\\local\\anaconda3\\lib\\site-packages (from typer->indic_transliteration) (4.11.0)\n",
      "Requirement already satisfied: shellingham>=1.3.0 in c:\\users\\dai.studentsdc\\appdata\\local\\anaconda3\\lib\\site-packages (from typer->indic_transliteration) (1.5.4)\n",
      "Requirement already satisfied: rich>=10.11.0 in c:\\users\\dai.studentsdc\\appdata\\local\\anaconda3\\lib\\site-packages (from typer->indic_transliteration) (13.7.1)\n",
      "Requirement already satisfied: colorama in c:\\users\\dai.studentsdc\\appdata\\local\\anaconda3\\lib\\site-packages (from click>=8.0.0->typer->indic_transliteration) (0.4.6)\n",
      "Requirement already satisfied: markdown-it-py>=2.2.0 in c:\\users\\dai.studentsdc\\appdata\\local\\anaconda3\\lib\\site-packages (from rich>=10.11.0->typer->indic_transliteration) (2.2.0)\n",
      "Requirement already satisfied: pygments<3.0.0,>=2.13.0 in c:\\users\\dai.studentsdc\\appdata\\local\\anaconda3\\lib\\site-packages (from rich>=10.11.0->typer->indic_transliteration) (2.15.1)\n",
      "Requirement already satisfied: mdurl~=0.1 in c:\\users\\dai.studentsdc\\appdata\\local\\anaconda3\\lib\\site-packages (from markdown-it-py>=2.2.0->rich>=10.11.0->typer->indic_transliteration) (0.1.0)\n",
      "Downloading indic_transliteration-2.3.68-py3-none-any.whl (155 kB)\n",
      "Downloading backports.functools_lru_cache-2.0.0-py2.py3-none-any.whl (6.7 kB)\n",
      "Downloading roman-4.2-py3-none-any.whl (5.5 kB)\n",
      "Installing collected packages: roman, backports.functools-lru-cache, indic_transliteration\n",
      "Successfully installed backports.functools-lru-cache-2.0.0 indic_transliteration-2.3.68 roman-4.2\n",
      "\n"
     ]
    },
    {
     "name": "stderr",
     "output_type": "stream",
     "text": [
      "WARNING: Ignoring invalid distribution ~umpy (C:\\Users\\DAI.STUDENTSDC\\AppData\\Local\\anaconda3\\Lib\\site-packages)\n",
      "WARNING: Ignoring invalid distribution ~umpy (C:\\Users\\DAI.STUDENTSDC\\AppData\\Local\\anaconda3\\Lib\\site-packages)\n",
      "WARNING: Ignoring invalid distribution ~umpy (C:\\Users\\DAI.STUDENTSDC\\AppData\\Local\\anaconda3\\Lib\\site-packages)\n"
     ]
    }
   ],
   "source": [
    "pip install indic_transliteration"
   ]
  },
  {
   "cell_type": "code",
   "execution_count": 2,
   "id": "d73e0d07-09db-4d6e-9baf-914838da93a4",
   "metadata": {},
   "outputs": [],
   "source": [
    "from indic_transliteration import sanscript\n",
    "from indic_transliteration.sanscript import transliterate"
   ]
  },
  {
   "cell_type": "code",
   "execution_count": 7,
   "id": "f81f625f-d5ea-4785-b0e6-f53dcecf3e1f",
   "metadata": {},
   "outputs": [],
   "source": [
    "data = 'Dhruv Kurliye'"
   ]
  },
  {
   "cell_type": "code",
   "execution_count": 8,
   "id": "b10e3efa-4ce0-4fb0-a869-541b4c4ebd56",
   "metadata": {},
   "outputs": [
    {
     "name": "stdout",
     "output_type": "stream",
     "text": [
      "ढ्रुव् ख़ुर्लिये\n"
     ]
    }
   ],
   "source": [
    "print(transliterate(data, sanscript.ITRANS, sanscript.DEVANAGARI))"
   ]
  },
  {
   "cell_type": "code",
   "execution_count": 11,
   "id": "8f5914bc-9123-4691-9e32-d8337141f8c7",
   "metadata": {},
   "outputs": [
    {
     "name": "stdout",
     "output_type": "stream",
     "text": [
      "ছিম্পু আন্ন\n"
     ]
    }
   ],
   "source": [
    "print(transliterate('Chimpu Anna', sanscript.ITRANS, sanscript.BENGALI))"
   ]
  },
  {
   "cell_type": "code",
   "execution_count": null,
   "id": "f762aded-d5af-4ea4-990e-5a404e89e48b",
   "metadata": {},
   "outputs": [],
   "source": []
  }
 ],
 "metadata": {
  "kernelspec": {
   "display_name": "Python 3 (ipykernel)",
   "language": "python",
   "name": "python3"
  },
  "language_info": {
   "codemirror_mode": {
    "name": "ipython",
    "version": 3
   },
   "file_extension": ".py",
   "mimetype": "text/x-python",
   "name": "python",
   "nbconvert_exporter": "python",
   "pygments_lexer": "ipython3",
   "version": "3.12.7"
  }
 },
 "nbformat": 4,
 "nbformat_minor": 5
}
